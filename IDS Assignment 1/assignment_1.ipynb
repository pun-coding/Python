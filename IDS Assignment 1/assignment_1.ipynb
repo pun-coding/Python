{
 "cells": [
  {
   "cell_type": "markdown",
   "id": "3c531158",
   "metadata": {},
   "source": [
    "# IDS Assignment Part 1 - <font color=\"red\"><h7>Deadline: 18/12/2022 23:59</h7></font>\n",
    "This is the first part of the assignments in IDS 2022/2023. \n",
    "Please use this Jupyter notebook to work on the questions posed in the assignment. When you are done, upload the notebook in Moodle at the designated activity. This is the _only_ file that is required. A separate report is _not_ needed and will not be considered for grading. \n",
    "\n",
    "Give your commented Python code and answers in the corresponding provided cells. Make sure to answer all questions in a clear and explicit manner and discuss your outputs. _Please do not change the general structure of this notebook_. You can, however, add additional markdown or code cells if necessary. <b>Please DO NOT CLEAR THE OUTPUT of the notebook you are submitting! </b>\n",
    "\n",
    "<font color=\"red\"> *Please make sure to include the names and matriculation numbers of all group members in the slot provided below.* </font> If a name or a student id is missing, the student will not receive any points.\n",
    "\n",
    "Hint 1: While working on the assignment, you will get a better understanding of the dataset. Feel free to generate additional results and visualizations to support your answers. For example, this might be useful regarding data modification, data simplification, or output interpretation. <font color=\"red\">Ensure that all your claims are supported.</font>\n",
    "\n",
    "Hint 2: <font color=\"red\">Plan your time wisely. </font> A few parts of this assignment may take some time to run. It might be necessary to consider time management when you plan your group work. Also, do not attempt to upload your assignment at the last minute before the deadline. This often does not work, and you will miss the deadline. Late submissions will not be considered.\n",
    "\n",
    "Hint 3: RWTHmoodle allows multiple submissions, with every new submission overwriting the previous one. <b>Partial submissions are therefore possible and encouraged. </b> This might be helpful in case of technical issues with RWTHMoodle, which may occur close to the deadline."
   ]
  },
  {
   "cell_type": "markdown",
   "id": "9e826e43",
   "metadata": {},
   "source": [
    "<font color=\"red\"><b>Student Names and IDs:\n",
    "    \n",
    "    1. Sai Puneeth Reddy Gottam - 429209\n",
    "    \n",
    "    2. Hemanth Kethinedi - 4292\n",
    "    \n",
    "    3."
   ]
  },
  {
   "cell_type": "markdown",
   "id": "171c05f0",
   "metadata": {},
   "source": [
    "For those using Jupyter Notebook in your local environments, please install the following library in your environment:\n",
    "```pip install umap-learn==0.5.3```"
   ]
  },
  {
   "cell_type": "code",
   "execution_count": 1,
   "id": "ab570761-1a8a-4c62-8de2-534f88604bb8",
   "metadata": {
    "colab": {
     "base_uri": "https://localhost:8080/"
    },
    "id": "ab570761-1a8a-4c62-8de2-534f88604bb8",
    "outputId": "a8278aa6-aa87-4cea-c7f7-10ab381b364f"
   },
   "outputs": [],
   "source": [
    "#your imports (only use libraries provided in the environment)\n",
    "import pandas as pd\n",
    "import numpy as np\n",
    "import matplotlib.pyplot as plt\n",
    "import seaborn as sns\n",
    "from sklearn.linear_model import LinearRegression\n",
    "from sklearn.metrics import mean_squared_error, mean_absolute_error\n",
    "from sklearn.model_selection import train_test_split\n",
    "from sklearn import preprocessing\n",
    "from sklearn.svm import LinearSVR\n",
    "from sklearn.model_selection import GridSearchCV\n",
    "from sklearn.neural_network import MLPClassifier\n",
    "import sklearn.metrics as metric\n",
    "from sklearn.svm import SVR\n",
    "from sklearn.kernel_ridge import KernelRidge\n",
    "from p_decision_tree.DecisionTree import DecisionTree\n",
    "import graphviz\n",
    "import networkx"
   ]
  },
  {
   "cell_type": "markdown",
   "id": "le9qm43wNPGY",
   "metadata": {
    "id": "le9qm43wNPGY"
   },
   "source": [
    "# Pricing your AirBnB"
   ]
  },
  {
   "cell_type": "markdown",
   "id": "8dfa8631-4eba-4472-b981-510d243e1b2b",
   "metadata": {
    "id": "8dfa8631-4eba-4472-b981-510d243e1b2b"
   },
   "source": [
    "You finally made it! Working as a data scientist at an established process mining company in New York, you earned so much money that you can buy a flat for yourself. You decide to buy a 2-room apartment in Manhattan. Congratulations!\n",
    "\n",
    "Currently, you are still living in your rental apartment and are tied to a long-running rental contract. You can only use the apartment in 5 years from now. Therefore, you want to use the apartment as an AirBnB in the meantime, generating some consistent income. \n",
    "\n",
    "\n",
    "You have no clue how you should price your AirBnB per night (you are living in New York, so you never needed to book an AirBnB). You decide to leverage your unique skill set and perform a data-driven, informed decision. You collect all the data you can get your hands on by traversing all New York apartments. The retrieved data set **AirBnB_original.csv** is your starting point for investigation."
   ]
  },
  {
   "cell_type": "markdown",
   "id": "7e21b607-828f-47b4-a57a-18b6ccab6322",
   "metadata": {
    "id": "7e21b607-828f-47b4-a57a-18b6ccab6322"
   },
   "source": [
    "## Question 1: Exploring the Data Set"
   ]
  },
  {
   "cell_type": "markdown",
   "id": "3a79e889",
   "metadata": {
    "id": "3a79e889"
   },
   "source": [
    "As with every data set, you first want to know what you are dealing with. You perform some exploratory data analysis and clean the data along the way."
   ]
  },
  {
   "cell_type": "markdown",
   "id": "8L8J85EfPRoZ",
   "metadata": {
    "id": "8L8J85EfPRoZ"
   },
   "source": [
    "Show a few data points contained in the data set. Include all attributes."
   ]
  },
  {
   "cell_type": "code",
   "execution_count": 3,
   "id": "ly3THPi7PdLJ",
   "metadata": {
    "id": "ly3THPi7PdLJ",
    "scrolled": false
   },
   "outputs": [
    {
     "data": {
      "text/html": [
       "<div>\n",
       "<style scoped>\n",
       "    .dataframe tbody tr th:only-of-type {\n",
       "        vertical-align: middle;\n",
       "    }\n",
       "\n",
       "    .dataframe tbody tr th {\n",
       "        vertical-align: top;\n",
       "    }\n",
       "\n",
       "    .dataframe thead th {\n",
       "        text-align: right;\n",
       "    }\n",
       "</style>\n",
       "<table border=\"1\" class=\"dataframe\">\n",
       "  <thead>\n",
       "    <tr style=\"text-align: right;\">\n",
       "      <th></th>\n",
       "      <th>id</th>\n",
       "      <th>host id</th>\n",
       "      <th>neighborhood group</th>\n",
       "      <th>neighborhood</th>\n",
       "      <th>lat</th>\n",
       "      <th>long</th>\n",
       "      <th>country</th>\n",
       "      <th>country code</th>\n",
       "      <th>instant bookable</th>\n",
       "      <th>cancellation policy</th>\n",
       "      <th>room type</th>\n",
       "      <th>construction year</th>\n",
       "      <th>price</th>\n",
       "      <th>service fee</th>\n",
       "      <th>minimum nights</th>\n",
       "      <th>number of reviews</th>\n",
       "      <th>review rate number</th>\n",
       "      <th>calculated host listings count</th>\n",
       "      <th>number rooms</th>\n",
       "    </tr>\n",
       "  </thead>\n",
       "  <tbody>\n",
       "    <tr>\n",
       "      <th>0</th>\n",
       "      <td>1001254</td>\n",
       "      <td>80014485718</td>\n",
       "      <td>Brooklyn</td>\n",
       "      <td>Kensington</td>\n",
       "      <td>40.64749</td>\n",
       "      <td>-73.97237</td>\n",
       "      <td>United States</td>\n",
       "      <td>US</td>\n",
       "      <td>0</td>\n",
       "      <td>strict</td>\n",
       "      <td>Private room</td>\n",
       "      <td>2020.0</td>\n",
       "      <td>966</td>\n",
       "      <td>193.0</td>\n",
       "      <td>7.0</td>\n",
       "      <td>9.0</td>\n",
       "      <td>4.0</td>\n",
       "      <td>6.0</td>\n",
       "      <td>1</td>\n",
       "    </tr>\n",
       "    <tr>\n",
       "      <th>1</th>\n",
       "      <td>1002102</td>\n",
       "      <td>52335172823</td>\n",
       "      <td>Manhattan</td>\n",
       "      <td>Midtown</td>\n",
       "      <td>40.75362</td>\n",
       "      <td>-73.98377</td>\n",
       "      <td>United States</td>\n",
       "      <td>US</td>\n",
       "      <td>0</td>\n",
       "      <td>moderate</td>\n",
       "      <td>Entire home/apt</td>\n",
       "      <td>2007.0</td>\n",
       "      <td>142</td>\n",
       "      <td>28.0</td>\n",
       "      <td>7.0</td>\n",
       "      <td>45.0</td>\n",
       "      <td>4.0</td>\n",
       "      <td>2.0</td>\n",
       "      <td>2</td>\n",
       "    </tr>\n",
       "    <tr>\n",
       "      <th>2</th>\n",
       "      <td>1002403</td>\n",
       "      <td>78829239556</td>\n",
       "      <td>Manhattan</td>\n",
       "      <td>Harlem</td>\n",
       "      <td>40.80902</td>\n",
       "      <td>-73.94190</td>\n",
       "      <td>United States</td>\n",
       "      <td>US</td>\n",
       "      <td>0</td>\n",
       "      <td>flexible</td>\n",
       "      <td>Private room</td>\n",
       "      <td>2005.0</td>\n",
       "      <td>620</td>\n",
       "      <td>124.0</td>\n",
       "      <td>3.0</td>\n",
       "      <td>0.0</td>\n",
       "      <td>5.0</td>\n",
       "      <td>1.0</td>\n",
       "      <td>1</td>\n",
       "    </tr>\n",
       "    <tr>\n",
       "      <th>3</th>\n",
       "      <td>1002755</td>\n",
       "      <td>85098326012</td>\n",
       "      <td>Brooklyn</td>\n",
       "      <td>Clinton Hill</td>\n",
       "      <td>40.68514</td>\n",
       "      <td>-73.95976</td>\n",
       "      <td>United States</td>\n",
       "      <td>US</td>\n",
       "      <td>0</td>\n",
       "      <td>moderate</td>\n",
       "      <td>Entire home/apt</td>\n",
       "      <td>2005.0</td>\n",
       "      <td>368</td>\n",
       "      <td>74.0</td>\n",
       "      <td>7.0</td>\n",
       "      <td>270.0</td>\n",
       "      <td>4.0</td>\n",
       "      <td>1.0</td>\n",
       "      <td>2</td>\n",
       "    </tr>\n",
       "    <tr>\n",
       "      <th>4</th>\n",
       "      <td>1003689</td>\n",
       "      <td>92037596077</td>\n",
       "      <td>Manhattan</td>\n",
       "      <td>East Harlem</td>\n",
       "      <td>40.79851</td>\n",
       "      <td>-73.94399</td>\n",
       "      <td>United States</td>\n",
       "      <td>US</td>\n",
       "      <td>0</td>\n",
       "      <td>moderate</td>\n",
       "      <td>Entire home/apt</td>\n",
       "      <td>2009.0</td>\n",
       "      <td>204</td>\n",
       "      <td>41.0</td>\n",
       "      <td>7.0</td>\n",
       "      <td>9.0</td>\n",
       "      <td>3.0</td>\n",
       "      <td>1.0</td>\n",
       "      <td>1</td>\n",
       "    </tr>\n",
       "  </tbody>\n",
       "</table>\n",
       "</div>"
      ],
      "text/plain": [
       "        id      host id neighborhood group  neighborhood       lat      long  \\\n",
       "0  1001254  80014485718           Brooklyn    Kensington  40.64749 -73.97237   \n",
       "1  1002102  52335172823          Manhattan       Midtown  40.75362 -73.98377   \n",
       "2  1002403  78829239556          Manhattan        Harlem  40.80902 -73.94190   \n",
       "3  1002755  85098326012           Brooklyn  Clinton Hill  40.68514 -73.95976   \n",
       "4  1003689  92037596077          Manhattan   East Harlem  40.79851 -73.94399   \n",
       "\n",
       "         country country code  instant bookable cancellation policy  \\\n",
       "0  United States           US                 0              strict   \n",
       "1  United States           US                 0            moderate   \n",
       "2  United States           US                 0            flexible   \n",
       "3  United States           US                 0            moderate   \n",
       "4  United States           US                 0            moderate   \n",
       "\n",
       "         room type  construction year  price  service fee  minimum nights  \\\n",
       "0     Private room             2020.0    966        193.0             7.0   \n",
       "1  Entire home/apt             2007.0    142         28.0             7.0   \n",
       "2     Private room             2005.0    620        124.0             3.0   \n",
       "3  Entire home/apt             2005.0    368         74.0             7.0   \n",
       "4  Entire home/apt             2009.0    204         41.0             7.0   \n",
       "\n",
       "   number of reviews  review rate number  calculated host listings count  \\\n",
       "0                9.0                 4.0                             6.0   \n",
       "1               45.0                 4.0                             2.0   \n",
       "2                0.0                 5.0                             1.0   \n",
       "3              270.0                 4.0                             1.0   \n",
       "4                9.0                 3.0                             1.0   \n",
       "\n",
       "   number rooms  \n",
       "0             1  \n",
       "1             2  \n",
       "2             1  \n",
       "3             2  \n",
       "4             1  "
      ]
     },
     "execution_count": 3,
     "metadata": {},
     "output_type": "execute_result"
    }
   ],
   "source": [
    "# Your answer goes here\n",
    "AB_orig = pd.read_csv('AirBnB_original.csv')\n",
    "AB_orig.head()"
   ]
  },
  {
   "cell_type": "code",
   "execution_count": 24,
   "id": "2378a9cc",
   "metadata": {},
   "outputs": [
    {
     "data": {
      "text/html": [
       "<div>\n",
       "<style scoped>\n",
       "    .dataframe tbody tr th:only-of-type {\n",
       "        vertical-align: middle;\n",
       "    }\n",
       "\n",
       "    .dataframe tbody tr th {\n",
       "        vertical-align: top;\n",
       "    }\n",
       "\n",
       "    .dataframe thead th {\n",
       "        text-align: right;\n",
       "    }\n",
       "</style>\n",
       "<table border=\"1\" class=\"dataframe\">\n",
       "  <thead>\n",
       "    <tr style=\"text-align: right;\">\n",
       "      <th></th>\n",
       "      <th>id</th>\n",
       "      <th>host id</th>\n",
       "      <th>neighborhood group</th>\n",
       "      <th>neighborhood</th>\n",
       "      <th>lat</th>\n",
       "      <th>long</th>\n",
       "      <th>country</th>\n",
       "      <th>country code</th>\n",
       "      <th>instant bookable</th>\n",
       "      <th>cancellation policy</th>\n",
       "      <th>room type</th>\n",
       "      <th>construction year</th>\n",
       "      <th>price</th>\n",
       "      <th>service fee</th>\n",
       "      <th>minimum nights</th>\n",
       "      <th>number of reviews</th>\n",
       "      <th>review rate number</th>\n",
       "      <th>calculated host listings count</th>\n",
       "      <th>number rooms</th>\n",
       "    </tr>\n",
       "  </thead>\n",
       "  <tbody>\n",
       "    <tr>\n",
       "      <th>0</th>\n",
       "      <td>1</td>\n",
       "      <td>80014485718</td>\n",
       "      <td>Brooklyn</td>\n",
       "      <td>Kensington</td>\n",
       "      <td>40.64749</td>\n",
       "      <td>-73.97237</td>\n",
       "      <td>United States</td>\n",
       "      <td>US</td>\n",
       "      <td>0</td>\n",
       "      <td>strict</td>\n",
       "      <td>Private room</td>\n",
       "      <td>2020.0</td>\n",
       "      <td>966</td>\n",
       "      <td>193.0</td>\n",
       "      <td>7.0</td>\n",
       "      <td>9.0</td>\n",
       "      <td>4.0</td>\n",
       "      <td>6.0</td>\n",
       "      <td>1</td>\n",
       "    </tr>\n",
       "    <tr>\n",
       "      <th>1</th>\n",
       "      <td>1002102</td>\n",
       "      <td>52335172823</td>\n",
       "      <td>Manhattan</td>\n",
       "      <td>Midtown</td>\n",
       "      <td>40.75362</td>\n",
       "      <td>-73.98377</td>\n",
       "      <td>United States</td>\n",
       "      <td>US</td>\n",
       "      <td>0</td>\n",
       "      <td>moderate</td>\n",
       "      <td>Entire home/apt</td>\n",
       "      <td>2007.0</td>\n",
       "      <td>142</td>\n",
       "      <td>28.0</td>\n",
       "      <td>7.0</td>\n",
       "      <td>45.0</td>\n",
       "      <td>4.0</td>\n",
       "      <td>2.0</td>\n",
       "      <td>2</td>\n",
       "    </tr>\n",
       "    <tr>\n",
       "      <th>2</th>\n",
       "      <td>1002403</td>\n",
       "      <td>78829239556</td>\n",
       "      <td>Manhattan</td>\n",
       "      <td>Harlem</td>\n",
       "      <td>40.80902</td>\n",
       "      <td>-73.94190</td>\n",
       "      <td>United States</td>\n",
       "      <td>US</td>\n",
       "      <td>0</td>\n",
       "      <td>flexible</td>\n",
       "      <td>Private room</td>\n",
       "      <td>2005.0</td>\n",
       "      <td>620</td>\n",
       "      <td>124.0</td>\n",
       "      <td>3.0</td>\n",
       "      <td>0.0</td>\n",
       "      <td>5.0</td>\n",
       "      <td>1.0</td>\n",
       "      <td>1</td>\n",
       "    </tr>\n",
       "    <tr>\n",
       "      <th>3</th>\n",
       "      <td>1002755</td>\n",
       "      <td>85098326012</td>\n",
       "      <td>Brooklyn</td>\n",
       "      <td>Clinton Hill</td>\n",
       "      <td>40.68514</td>\n",
       "      <td>-73.95976</td>\n",
       "      <td>United States</td>\n",
       "      <td>US</td>\n",
       "      <td>0</td>\n",
       "      <td>moderate</td>\n",
       "      <td>Entire home/apt</td>\n",
       "      <td>2005.0</td>\n",
       "      <td>368</td>\n",
       "      <td>74.0</td>\n",
       "      <td>7.0</td>\n",
       "      <td>270.0</td>\n",
       "      <td>4.0</td>\n",
       "      <td>1.0</td>\n",
       "      <td>2</td>\n",
       "    </tr>\n",
       "    <tr>\n",
       "      <th>4</th>\n",
       "      <td>1003689</td>\n",
       "      <td>92037596077</td>\n",
       "      <td>Manhattan</td>\n",
       "      <td>East Harlem</td>\n",
       "      <td>40.79851</td>\n",
       "      <td>-73.94399</td>\n",
       "      <td>United States</td>\n",
       "      <td>US</td>\n",
       "      <td>0</td>\n",
       "      <td>moderate</td>\n",
       "      <td>Entire home/apt</td>\n",
       "      <td>2009.0</td>\n",
       "      <td>204</td>\n",
       "      <td>41.0</td>\n",
       "      <td>7.0</td>\n",
       "      <td>9.0</td>\n",
       "      <td>3.0</td>\n",
       "      <td>1.0</td>\n",
       "      <td>1</td>\n",
       "    </tr>\n",
       "  </tbody>\n",
       "</table>\n",
       "</div>"
      ],
      "text/plain": [
       "        id      host id neighborhood group  neighborhood       lat      long  \\\n",
       "0        1  80014485718           Brooklyn    Kensington  40.64749 -73.97237   \n",
       "1  1002102  52335172823          Manhattan       Midtown  40.75362 -73.98377   \n",
       "2  1002403  78829239556          Manhattan        Harlem  40.80902 -73.94190   \n",
       "3  1002755  85098326012           Brooklyn  Clinton Hill  40.68514 -73.95976   \n",
       "4  1003689  92037596077          Manhattan   East Harlem  40.79851 -73.94399   \n",
       "\n",
       "         country country code  instant bookable cancellation policy  \\\n",
       "0  United States           US                 0              strict   \n",
       "1  United States           US                 0            moderate   \n",
       "2  United States           US                 0            flexible   \n",
       "3  United States           US                 0            moderate   \n",
       "4  United States           US                 0            moderate   \n",
       "\n",
       "         room type  construction year  price  service fee  minimum nights  \\\n",
       "0     Private room             2020.0    966        193.0             7.0   \n",
       "1  Entire home/apt             2007.0    142         28.0             7.0   \n",
       "2     Private room             2005.0    620        124.0             3.0   \n",
       "3  Entire home/apt             2005.0    368         74.0             7.0   \n",
       "4  Entire home/apt             2009.0    204         41.0             7.0   \n",
       "\n",
       "   number of reviews  review rate number  calculated host listings count  \\\n",
       "0                9.0                 4.0                             6.0   \n",
       "1               45.0                 4.0                             2.0   \n",
       "2                0.0                 5.0                             1.0   \n",
       "3              270.0                 4.0                             1.0   \n",
       "4                9.0                 3.0                             1.0   \n",
       "\n",
       "   number rooms  \n",
       "0             1  \n",
       "1             2  \n",
       "2             1  \n",
       "3             2  \n",
       "4             1  "
      ]
     },
     "execution_count": 24,
     "metadata": {},
     "output_type": "execute_result"
    }
   ],
   "source": [
    "df = AB_orig\n",
    "df['id'] = df['id'].replace([1001254],1)\n",
    "#df.head()\n",
    "df2 = df.copy()\n",
    "df2.head()\n",
    "df3 = df.copy(False)\n",
    "#df2['id']=df2['id'].replace([1],1001254)\n",
    "df2.head()"
   ]
  },
  {
   "cell_type": "code",
   "execution_count": 22,
   "id": "f1a7843d",
   "metadata": {},
   "outputs": [],
   "source": [
    "df2['id'] = df2['id'].replace([1],1001254)"
   ]
  },
  {
   "cell_type": "markdown",
   "id": "9_9aEzu5PI1h",
   "metadata": {
    "id": "9_9aEzu5PI1h"
   },
   "source": [
    "### Basic Cleaning"
   ]
  },
  {
   "cell_type": "markdown",
   "id": "38360b13",
   "metadata": {
    "id": "38360b13"
   },
   "source": [
    "First, you have to remove NaN entries across the data set such that we only keep rows without any NaN value. How many rows did you remove?"
   ]
  },
  {
   "cell_type": "code",
   "execution_count": 3,
   "id": "d8b96e7f",
   "metadata": {
    "id": "ly3THPi7PdLJ"
   },
   "outputs": [
    {
     "name": "stdout",
     "output_type": "stream",
     "text": [
      "<class 'pandas.core.frame.DataFrame'>\n",
      "Int64Index: 71232 entries, 0 to 72708\n",
      "Data columns (total 19 columns):\n",
      " #   Column                          Non-Null Count  Dtype  \n",
      "---  ------                          --------------  -----  \n",
      " 0   id                              71232 non-null  int64  \n",
      " 1   host id                         71232 non-null  int64  \n",
      " 2   neighborhood group              71232 non-null  object \n",
      " 3   neighborhood                    71232 non-null  object \n",
      " 4   lat                             71232 non-null  float64\n",
      " 5   long                            71232 non-null  float64\n",
      " 6   country                         71232 non-null  object \n",
      " 7   country code                    71232 non-null  object \n",
      " 8   instant bookable                71232 non-null  int64  \n",
      " 9   cancellation policy             71232 non-null  object \n",
      " 10  room type                       71232 non-null  object \n",
      " 11  construction year               71232 non-null  float64\n",
      " 12  price                           71232 non-null  int64  \n",
      " 13  service fee                     71232 non-null  float64\n",
      " 14  minimum nights                  71232 non-null  float64\n",
      " 15  number of reviews               71232 non-null  float64\n",
      " 16  review rate number              71232 non-null  float64\n",
      " 17  calculated host listings count  71232 non-null  float64\n",
      " 18  number rooms                    71232 non-null  int64  \n",
      "dtypes: float64(8), int64(5), object(6)\n",
      "memory usage: 10.9+ MB\n"
     ]
    }
   ],
   "source": [
    "# Your answer goes here\n",
    "#NaN = AB_orig[AB_orig.isna().any(axis=1)] #DF with just the rows of NaN values \n",
    "B = AB_orig.dropna()\n",
    "B.info()\n",
    "#There are 1477 rows with NaN values that are removed from original dataframe."
   ]
  },
  {
   "cell_type": "markdown",
   "id": "1dee5fbc",
   "metadata": {
    "id": "1dee5fbc"
   },
   "source": [
    "Since duplicated entries are misleading, we want to remove duplicate flats (identified by their id), such that we only keep them once and create a new dataset. How many duplicates are removed?"
   ]
  },
  {
   "cell_type": "code",
   "execution_count": 4,
   "id": "403479a7",
   "metadata": {
    "id": "ly3THPi7PdLJ",
    "scrolled": true
   },
   "outputs": [
    {
     "name": "stdout",
     "output_type": "stream",
     "text": [
      "<class 'pandas.core.frame.DataFrame'>\n",
      "Int64Index: 70843 entries, 0 to 72304\n",
      "Data columns (total 19 columns):\n",
      " #   Column                          Non-Null Count  Dtype  \n",
      "---  ------                          --------------  -----  \n",
      " 0   id                              70843 non-null  int64  \n",
      " 1   host id                         70843 non-null  int64  \n",
      " 2   neighborhood group              70843 non-null  object \n",
      " 3   neighborhood                    70843 non-null  object \n",
      " 4   lat                             70843 non-null  float64\n",
      " 5   long                            70843 non-null  float64\n",
      " 6   country                         70843 non-null  object \n",
      " 7   country code                    70843 non-null  object \n",
      " 8   instant bookable                70843 non-null  int64  \n",
      " 9   cancellation policy             70843 non-null  object \n",
      " 10  room type                       70843 non-null  object \n",
      " 11  construction year               70843 non-null  float64\n",
      " 12  price                           70843 non-null  int64  \n",
      " 13  service fee                     70843 non-null  float64\n",
      " 14  minimum nights                  70843 non-null  float64\n",
      " 15  number of reviews               70843 non-null  float64\n",
      " 16  review rate number              70843 non-null  float64\n",
      " 17  calculated host listings count  70843 non-null  float64\n",
      " 18  number rooms                    70843 non-null  int64  \n",
      "dtypes: float64(8), int64(5), object(6)\n",
      "memory usage: 10.8+ MB\n",
      "There are 389 duplicate rows with same id\n"
     ]
    }
   ],
   "source": [
    "# Your answer goes here\n",
    "New_AB = B.drop_duplicates(subset='id')\n",
    "New_AB.info()\n",
    "New_AB.head()\n",
    "print('There are 389 duplicate rows with same id')"
   ]
  },
  {
   "cell_type": "markdown",
   "id": "Yty_b-ftfTPc",
   "metadata": {
    "id": "Yty_b-ftfTPc"
   },
   "source": [
    "From now on, you work with the dataset **AirBnB_cleaned.csv**."
   ]
  },
  {
   "cell_type": "code",
   "execution_count": 13,
   "id": "40c6c77e",
   "metadata": {
    "scrolled": true
   },
   "outputs": [
    {
     "data": {
      "text/html": [
       "<div>\n",
       "<style scoped>\n",
       "    .dataframe tbody tr th:only-of-type {\n",
       "        vertical-align: middle;\n",
       "    }\n",
       "\n",
       "    .dataframe tbody tr th {\n",
       "        vertical-align: top;\n",
       "    }\n",
       "\n",
       "    .dataframe thead th {\n",
       "        text-align: right;\n",
       "    }\n",
       "</style>\n",
       "<table border=\"1\" class=\"dataframe\">\n",
       "  <thead>\n",
       "    <tr style=\"text-align: right;\">\n",
       "      <th></th>\n",
       "      <th>id</th>\n",
       "      <th>host id</th>\n",
       "      <th>neighborhood group</th>\n",
       "      <th>neighborhood</th>\n",
       "      <th>lat</th>\n",
       "      <th>long</th>\n",
       "      <th>country</th>\n",
       "      <th>country code</th>\n",
       "      <th>instant bookable</th>\n",
       "      <th>cancellation policy</th>\n",
       "      <th>room type</th>\n",
       "      <th>construction year</th>\n",
       "      <th>price</th>\n",
       "      <th>service fee</th>\n",
       "      <th>minimum nights</th>\n",
       "      <th>number of reviews</th>\n",
       "      <th>review rate number</th>\n",
       "      <th>calculated host listings count</th>\n",
       "      <th>number rooms</th>\n",
       "    </tr>\n",
       "  </thead>\n",
       "  <tbody>\n",
       "    <tr>\n",
       "      <th>0</th>\n",
       "      <td>1002102</td>\n",
       "      <td>52335172823</td>\n",
       "      <td>Manhattan</td>\n",
       "      <td>Midtown</td>\n",
       "      <td>40.75362</td>\n",
       "      <td>-73.98377</td>\n",
       "      <td>United States</td>\n",
       "      <td>US</td>\n",
       "      <td>0</td>\n",
       "      <td>moderate</td>\n",
       "      <td>Entire home/apt</td>\n",
       "      <td>2007</td>\n",
       "      <td>142</td>\n",
       "      <td>28</td>\n",
       "      <td>7</td>\n",
       "      <td>45</td>\n",
       "      <td>4</td>\n",
       "      <td>2</td>\n",
       "      <td>2</td>\n",
       "    </tr>\n",
       "    <tr>\n",
       "      <th>1</th>\n",
       "      <td>1002403</td>\n",
       "      <td>78829239556</td>\n",
       "      <td>Manhattan</td>\n",
       "      <td>Harlem</td>\n",
       "      <td>40.80902</td>\n",
       "      <td>-73.94190</td>\n",
       "      <td>United States</td>\n",
       "      <td>US</td>\n",
       "      <td>0</td>\n",
       "      <td>flexible</td>\n",
       "      <td>Private room</td>\n",
       "      <td>2005</td>\n",
       "      <td>620</td>\n",
       "      <td>124</td>\n",
       "      <td>3</td>\n",
       "      <td>0</td>\n",
       "      <td>5</td>\n",
       "      <td>1</td>\n",
       "      <td>1</td>\n",
       "    </tr>\n",
       "    <tr>\n",
       "      <th>2</th>\n",
       "      <td>1002755</td>\n",
       "      <td>85098326012</td>\n",
       "      <td>Brooklyn</td>\n",
       "      <td>Clinton Hill</td>\n",
       "      <td>40.68514</td>\n",
       "      <td>-73.95976</td>\n",
       "      <td>United States</td>\n",
       "      <td>US</td>\n",
       "      <td>0</td>\n",
       "      <td>moderate</td>\n",
       "      <td>Entire home/apt</td>\n",
       "      <td>2005</td>\n",
       "      <td>368</td>\n",
       "      <td>74</td>\n",
       "      <td>7</td>\n",
       "      <td>270</td>\n",
       "      <td>4</td>\n",
       "      <td>1</td>\n",
       "      <td>2</td>\n",
       "    </tr>\n",
       "    <tr>\n",
       "      <th>3</th>\n",
       "      <td>1003689</td>\n",
       "      <td>92037596077</td>\n",
       "      <td>Manhattan</td>\n",
       "      <td>East Harlem</td>\n",
       "      <td>40.79851</td>\n",
       "      <td>-73.94399</td>\n",
       "      <td>United States</td>\n",
       "      <td>US</td>\n",
       "      <td>0</td>\n",
       "      <td>moderate</td>\n",
       "      <td>Entire home/apt</td>\n",
       "      <td>2009</td>\n",
       "      <td>204</td>\n",
       "      <td>41</td>\n",
       "      <td>7</td>\n",
       "      <td>9</td>\n",
       "      <td>3</td>\n",
       "      <td>1</td>\n",
       "      <td>1</td>\n",
       "    </tr>\n",
       "    <tr>\n",
       "      <th>4</th>\n",
       "      <td>1004650</td>\n",
       "      <td>61300605564</td>\n",
       "      <td>Brooklyn</td>\n",
       "      <td>Bedford-Stuyvesant</td>\n",
       "      <td>40.68688</td>\n",
       "      <td>-73.95596</td>\n",
       "      <td>United States</td>\n",
       "      <td>US</td>\n",
       "      <td>0</td>\n",
       "      <td>moderate</td>\n",
       "      <td>Private room</td>\n",
       "      <td>2015</td>\n",
       "      <td>71</td>\n",
       "      <td>14</td>\n",
       "      <td>7</td>\n",
       "      <td>49</td>\n",
       "      <td>5</td>\n",
       "      <td>1</td>\n",
       "      <td>1</td>\n",
       "    </tr>\n",
       "  </tbody>\n",
       "</table>\n",
       "</div>"
      ],
      "text/plain": [
       "        id      host id neighborhood group        neighborhood       lat  \\\n",
       "0  1002102  52335172823          Manhattan             Midtown  40.75362   \n",
       "1  1002403  78829239556          Manhattan              Harlem  40.80902   \n",
       "2  1002755  85098326012           Brooklyn        Clinton Hill  40.68514   \n",
       "3  1003689  92037596077          Manhattan         East Harlem  40.79851   \n",
       "4  1004650  61300605564           Brooklyn  Bedford-Stuyvesant  40.68688   \n",
       "\n",
       "       long        country country code  instant bookable cancellation policy  \\\n",
       "0 -73.98377  United States           US                 0            moderate   \n",
       "1 -73.94190  United States           US                 0            flexible   \n",
       "2 -73.95976  United States           US                 0            moderate   \n",
       "3 -73.94399  United States           US                 0            moderate   \n",
       "4 -73.95596  United States           US                 0            moderate   \n",
       "\n",
       "         room type  construction year  price  service fee  minimum nights  \\\n",
       "0  Entire home/apt               2007    142           28               7   \n",
       "1     Private room               2005    620          124               3   \n",
       "2  Entire home/apt               2005    368           74               7   \n",
       "3  Entire home/apt               2009    204           41               7   \n",
       "4     Private room               2015     71           14               7   \n",
       "\n",
       "   number of reviews  review rate number  calculated host listings count  \\\n",
       "0                 45                   4                               2   \n",
       "1                  0                   5                               1   \n",
       "2                270                   4                               1   \n",
       "3                  9                   3                               1   \n",
       "4                 49                   5                               1   \n",
       "\n",
       "   number rooms  \n",
       "0             2  \n",
       "1             1  \n",
       "2             2  \n",
       "3             1  \n",
       "4             1  "
      ]
     },
     "execution_count": 13,
     "metadata": {},
     "output_type": "execute_result"
    }
   ],
   "source": [
    "df.head()"
   ]
  },
  {
   "cell_type": "markdown",
   "id": "g-rLfHOoEGuz",
   "metadata": {
    "id": "g-rLfHOoEGuz"
   },
   "source": [
    "To get a feeling for nightly prices in New York, you take a look at the price attribute. Calculate the average price, the first, the third percentile, and the standard deviation."
   ]
  },
  {
   "cell_type": "code",
   "execution_count": 2,
   "id": "76bb6f5a",
   "metadata": {
    "id": "ly3THPi7PdLJ",
    "scrolled": true
   },
   "outputs": [
    {
     "name": "stdout",
     "output_type": "stream",
     "text": [
      "Average price is  625.4636797380085\n",
      "1st percentile of Price is 61.0\n",
      "3rd percentile of Price is 86.0\n",
      "Standard deviation of Price is 331.2339031651564\n"
     ]
    }
   ],
   "source": [
    "# Your answer goes here\n",
    "df = pd.read_csv('AirBnB_cleaned.csv')\n",
    "#df.head()\n",
    "print(\"Average price is \", np.mean(df['price']))\n",
    "print('1st percentile of Price is', np.percentile(df['price'], 1))\n",
    "print('3rd percentile of Price is',np.percentile(df['price'], 3))\n",
    "print('Standard deviation of Price is',np.std(df['price']))"
   ]
  },
  {
   "cell_type": "markdown",
   "id": "eqDy9wQIElfF",
   "metadata": {
    "id": "eqDy9wQIElfF"
   },
   "source": [
    "You want to get a more visual picture of the price range. Use a histogram and boxplot to show the distribution of prices on the entire dataset."
   ]
  },
  {
   "cell_type": "code",
   "execution_count": 6,
   "id": "efc0714e",
   "metadata": {
    "collapsed": true,
    "id": "ly3THPi7PdLJ"
   },
   "outputs": [
    {
     "data": {
      "image/png": "[encoded data removed]",
      "text/plain": [
       "<Figure size 432x288 with 1 Axes>"
      ]
     },
     "metadata": {
      "needs_background": "light"
     },
     "output_type": "display_data"
    },
    {
     "data": {
      "text/plain": [
       "Text(0.5, 1.0, 'Box plot of Price range')"
      ]
     },
     "execution_count": 6,
     "metadata": {},
     "output_type": "execute_result"
    },
    {
     "data": {
      "image/png": "[encoded data removed]",
      "text/plain": [
       "<Figure size 432x288 with 1 Axes>"
      ]
     },
     "metadata": {
      "needs_background": "light"
     },
     "output_type": "display_data"
    }
   ],
   "source": [
    "# Your answer goes here\n",
    "plt.hist(df['price'], bins = 50)\n",
    "plt.title('Histogram of Price range')\n",
    "plt.show()\n",
    "\n",
    "plt.boxplot(df['price'])\n",
    "plt.title('Box plot of Price range')"
   ]
  },
  {
   "cell_type": "markdown",
   "id": "3RkQxNBpQ7mC",
   "metadata": {
    "id": "3RkQxNBpQ7mC"
   },
   "source": [
    "### Exploring Price Relationships"
   ]
  },
  {
   "cell_type": "markdown",
   "id": "lKi9SkO1RF56",
   "metadata": {
    "id": "lKi9SkO1RF56"
   },
   "source": [
    "To inform our pricing decision, we want to investigate some differentiating factors for pricing apartments."
   ]
  },
  {
   "cell_type": "markdown",
   "id": "nClcY_FV_AKv",
   "metadata": {
    "id": "nClcY_FV_AKv"
   },
   "source": [
    "Since you have an overview of the prices and their distribution, you want to investigate which features of your dataset you might use to make your pricing decision. To do so, discuss each feature of the dataset and already rule out features that will definitely not impact the pricing decision. Below you can find a brief description of each feature: \n",
    "\n",
    "- id: Unique identifier for an apartment\n",
    "- host id: Identifier of the host offering a certain apartment\n",
    "- neighborhood group: Name of a neighborhood group in which an apartment is located\n",
    "- neighborhood: More fine-grained view on neighborhoods than neighborhood group\n",
    "- lat: Latitude coordinate of an apartment\n",
    "- long: Longitude coordinate of an apartment\n",
    "- country: The country in which an apartment is located\n",
    "- country code: Code of the country in which an apartment is located\n",
    "- instant bookable: Boolean values if an apartment is instantly bookable\n",
    "- cancellation policy: Policy for cancellation of booking\n",
    "- room type: Type of apartment/room\n",
    "- construction year: Year of construction of apartment\n",
    "- price: Price for renting an apartment\n",
    "- service fee: Fee of service\n",
    "- minimum nights: Number of minimum nights to rent an apartment\n",
    "- number of reviews: Number of reviews for an apartment\n",
    "- review rate number:  Review rate for an apartment (1 to 5)\n",
    "- calculated host listings count: Number of listings a host has\n",
    "- number rooms: Number of rooms in an apartment"
   ]
  },
  {
   "cell_type": "code",
   "execution_count": 14,
   "id": "2146a915",
   "metadata": {
    "id": "ly3THPi7PdLJ"
   },
   "outputs": [
    {
     "data": {
      "text/plain": [
       "<seaborn.axisgrid.PairGrid at 0x7fe238abfa90>"
      ]
     },
     "execution_count": 14,
     "metadata": {},
     "output_type": "execute_result"
    },
    {
     "data": {
      "image/png": "[encoded data removed]",
      "text/plain": [
       "<Figure size 2340x180 with 14 Axes>"
      ]
     },
     "metadata": {
      "needs_background": "light"
     },
     "output_type": "display_data"
    }
   ],
   "source": [
    "# Your answer goes here\n",
    "sns.pairplot(df, y_vars=['price'])"
   ]
  },
  {
   "cell_type": "markdown",
   "id": "1aac44c1",
   "metadata": {},
   "source": [
    "_Answer:_ \n"
   ]
  },
  {
   "cell_type": "markdown",
   "id": "QlBJgLSjh2l5",
   "metadata": {
    "id": "QlBJgLSjh2l5"
   },
   "source": [
    "### Univariate Analysis"
   ]
  },
  {
   "cell_type": "markdown",
   "id": "X0phX-tc_txX",
   "metadata": {
    "id": "X0phX-tc_txX"
   },
   "source": [
    "In the following, you want to analyze which features influence the price. You do this univariately, i.e., look at the relationship between one feature and the price individually. No matter which features you concluded to be useful in the last task, **you will consider the following seven features: service fee, minimum nights, neighborhood group, room type, cancellation policy, construction year, and the number of rooms.**"
   ]
  },
  {
   "cell_type": "markdown",
   "id": "ymD1OuKhE58B",
   "metadata": {
    "id": "ymD1OuKhE58B"
   },
   "source": [
    "First, we look closely at the relationship between price and service fee. To do so, create a joint plot for these two attributes. What is your finding? Is this a helpful feature for our pricing decision?"
   ]
  },
  {
   "cell_type": "code",
   "execution_count": 9,
   "id": "7d5c1da7",
   "metadata": {
    "collapsed": true,
    "id": "ly3THPi7PdLJ"
   },
   "outputs": [
    {
     "data": {
      "text/plain": [
       "<seaborn.axisgrid.JointGrid at 0x7fe29a9daeb0>"
      ]
     },
     "execution_count": 9,
     "metadata": {},
     "output_type": "execute_result"
    },
    {
     "data": {
      "image/png": "[encoded data removed]",
      "text/plain": [
       "<Figure size 432x432 with 3 Axes>"
      ]
     },
     "metadata": {
      "needs_background": "light"
     },
     "output_type": "display_data"
    }
   ],
   "source": [
    "# Your answer goes here\n",
    "sns.jointplot(data=df, y='price', x='service fee')"
   ]
  },
  {
   "cell_type": "markdown",
   "id": "d7262980",
   "metadata": {},
   "source": [
    "_Answer:_\n",
    "\n",
    "We can see that the price is linearly proportional to service fee and this helps in accurate prediction of price range of rooms. "
   ]
  },
  {
   "cell_type": "markdown",
   "id": "2rcPfXMcGk1M",
   "metadata": {
    "id": "2rcPfXMcGk1M"
   },
   "source": [
    "Next, we are interested in the relationship between the number of minimum nights and the price. To analyze it, create a joint plot with a regression. Describe your observation."
   ]
  },
  {
   "cell_type": "code",
   "execution_count": 11,
   "id": "b028e83e",
   "metadata": {
    "collapsed": true,
    "id": "ly3THPi7PdLJ"
   },
   "outputs": [
    {
     "data": {
      "text/plain": [
       "<seaborn.axisgrid.JointGrid at 0x7fe2bc859c70>"
      ]
     },
     "execution_count": 11,
     "metadata": {},
     "output_type": "execute_result"
    },
    {
     "data": {
      "image/png": "[encoded data removed]",
      "text/plain": [
       "<Figure size 432x432 with 3 Axes>"
      ]
     },
     "metadata": {
      "needs_background": "light"
     },
     "output_type": "display_data"
    }
   ],
   "source": [
    "# Your answer goes here\n",
    "sns.jointplot(data=df, y='price', x='minimum nights', kind='reg')"
   ]
  },
  {
   "cell_type": "markdown",
   "id": "f4cd05bf",
   "metadata": {},
   "source": [
    "_Answer:_\n",
    "\n"
   ]
  },
  {
   "cell_type": "markdown",
   "id": "6MIVIHji_tG1",
   "metadata": {
    "id": "6MIVIHji_tG1"
   },
   "source": [
    "To further investigate the pricing decision, you look at the remaining five features: neighborhood group, room type, cancellation policy, construction year, and the number of rooms.\n",
    "To get an overview, you decide to create box plots (including the mean) for each of these features to visualize their influence on the price. Describe your findings. Which values of the features influence the price?"
   ]
  },
  {
   "cell_type": "code",
   "execution_count": 15,
   "id": "301f080d",
   "metadata": {
    "collapsed": true,
    "id": "ly3THPi7PdLJ"
   },
   "outputs": [
    {
     "data": {
      "image/png": "[encoded data removed]",
      "text/plain": [
       "<Figure size 432x288 with 1 Axes>"
      ]
     },
     "metadata": {
      "needs_background": "light"
     },
     "output_type": "display_data"
    },
    {
     "name": "stdout",
     "output_type": "stream",
     "text": [
      "2012.494410095706\n"
     ]
    },
    {
     "data": {
      "image/png": "[encoded data removed]",
      "text/plain": [
       "<Figure size 432x288 with 1 Axes>"
      ]
     },
     "metadata": {
      "needs_background": "light"
     },
     "output_type": "display_data"
    },
    {
     "data": {
      "text/plain": [
       "1.4498037887129105"
      ]
     },
     "execution_count": 15,
     "metadata": {},
     "output_type": "execute_result"
    }
   ],
   "source": [
    "# Your answer goes heredf\n",
    "plt.boxplot(df['construction year'],showmeans = 'TRUE')\n",
    "plt.show()\n",
    "print(np.mean(df['construction year']))\n",
    "\n",
    "plt.boxplot(df['number rooms'],showmeans = 'TRUE')\n",
    "plt.show()\n",
    "df['number rooms'].mean()"
   ]
  },
  {
   "cell_type": "markdown",
   "id": "16206993",
   "metadata": {},
   "source": [
    "_Answer:_\n",
    "\n"
   ]
  },
  {
   "cell_type": "markdown",
   "id": "1Bs51U6ch9Ka",
   "metadata": {
    "id": "1Bs51U6ch9Ka"
   },
   "source": [
    "### Multivariate Analysis"
   ]
  },
  {
   "cell_type": "markdown",
   "id": "LZJDkd6xiJuy",
   "metadata": {
    "id": "LZJDkd6xiJuy"
   },
   "source": [
    "As the univariate analysis of price relationships provided only limited insights, you decide to visualize some multivariate investigations of the price. **No matter what you concluded in the last section, you will use the features construction year, number of rooms, cancellation policy, room type, and neighborhood group in the multivariate analysis.**\n",
    "For each pair of features, create a grouped boxplot (using the hue argument) and investigate whether the two features together allow for an explanation of price differences. In the end, conclude which combination of features should be used to make your pricing decision."
   ]
  },
  {
   "cell_type": "markdown",
   "id": "a1af70ad",
   "metadata": {},
   "source": [
    "#### Multivariate Analysis for Neighborhood Group"
   ]
  },
  {
   "cell_type": "code",
   "execution_count": 10,
   "id": "19b4a749",
   "metadata": {
    "collapsed": true,
    "id": "ly3THPi7PdLJ"
   },
   "outputs": [
    {
     "data": {
      "text/plain": [
       "<AxesSubplot: xlabel='price', ylabel='neighborhood group'>"
      ]
     },
     "execution_count": 10,
     "metadata": {},
     "output_type": "execute_result"
    },
    {
     "data": {
      "image/png": "[encoded data removed]",
      "text/plain": [
       "<Figure size 432x288 with 1 Axes>"
      ]
     },
     "metadata": {
      "needs_background": "light"
     },
     "output_type": "display_data"
    }
   ],
   "source": [
    "# Your answer goes here\n",
    "sns.boxplot(data=df, x='price',y='neighborhood group',showmeans=True)"
   ]
  },
  {
   "cell_type": "markdown",
   "id": "e8b80c4f",
   "metadata": {},
   "source": [
    "_Answer:_\n",
    "\n"
   ]
  },
  {
   "cell_type": "markdown",
   "id": "ddbbd25d",
   "metadata": {},
   "source": [
    "#### Multivariate Analysis for Room Type"
   ]
  },
  {
   "cell_type": "code",
   "execution_count": 23,
   "id": "809668e7",
   "metadata": {
    "collapsed": true
   },
   "outputs": [
    {
     "data": {
      "text/plain": [
       "<AxesSubplot: xlabel='price', ylabel='number rooms'>"
      ]
     },
     "execution_count": 23,
     "metadata": {},
     "output_type": "execute_result"
    },
    {
     "data": {
      "image/png": "[encoded data removed]",
      "text/plain": [
       "<Figure size 432x288 with 1 Axes>"
      ]
     },
     "metadata": {
      "needs_background": "light"
     },
     "output_type": "display_data"
    }
   ],
   "source": [
    "# Your answer goes here\n",
    "sns.boxplot(data=df, x='price',hue='room type',y='number rooms',showmeans=True)"
   ]
  },
  {
   "cell_type": "markdown",
   "id": "72041142",
   "metadata": {},
   "source": [
    "_Answer:_\n"
   ]
  },
  {
   "cell_type": "markdown",
   "id": "e11db5c3",
   "metadata": {},
   "source": [
    "#### Multivariate Analysis for Number of Rooms"
   ]
  },
  {
   "cell_type": "code",
   "execution_count": 21,
   "id": "512f825d",
   "metadata": {
    "collapsed": true
   },
   "outputs": [
    {
     "data": {
      "text/plain": [
       "<AxesSubplot: xlabel='price', ylabel='number rooms'>"
      ]
     },
     "execution_count": 21,
     "metadata": {},
     "output_type": "execute_result"
    },
    {
     "data": {
      "image/png": "[encoded data removed]",
      "text/plain": [
       "<Figure size 432x288 with 1 Axes>"
      ]
     },
     "metadata": {
      "needs_background": "light"
     },
     "output_type": "display_data"
    }
   ],
   "source": [
    "# Your answer goes here\n",
    "sns.boxplot(data=df, x='price',y='number rooms',fliersize=0,showmeans=True)"
   ]
  },
  {
   "cell_type": "markdown",
   "id": "5c95f5b1",
   "metadata": {},
   "source": [
    "_Answer:_\n",
    "\n"
   ]
  },
  {
   "cell_type": "markdown",
   "id": "419042f2",
   "metadata": {},
   "source": [
    "#### Multivariate Analysis for Construction Year"
   ]
  },
  {
   "cell_type": "code",
   "execution_count": 13,
   "id": "43469f1b",
   "metadata": {
    "collapsed": true
   },
   "outputs": [
    {
     "data": {
      "text/plain": [
       "<AxesSubplot: xlabel='price', ylabel='number rooms'>"
      ]
     },
     "execution_count": 13,
     "metadata": {},
     "output_type": "execute_result"
    },
    {
     "data": {
      "image/png": "[encoded data removed]",
      "text/plain": [
       "<Figure size 432x288 with 1 Axes>"
      ]
     },
     "metadata": {
      "needs_background": "light"
     },
     "output_type": "display_data"
    }
   ],
   "source": [
    "# Your answer goes here\n",
    "sns.boxplot(data=df, x='price',y='number rooms',hue='construction year',showmeans=True)"
   ]
  },
  {
   "cell_type": "markdown",
   "id": "e77ae423",
   "metadata": {},
   "source": [
    "_Answer:_\n",
    "\n"
   ]
  },
  {
   "cell_type": "markdown",
   "id": "2kZI5CkIbahY",
   "metadata": {
    "id": "2kZI5CkIbahY"
   },
   "source": [
    "### Selection of Variables"
   ]
  },
  {
   "cell_type": "markdown",
   "id": "UUkY4fg4emGQ",
   "metadata": {
    "id": "UUkY4fg4emGQ"
   },
   "source": [
    "Please argue: Which combinations of variables would you consider for pricing your AirBnB?"
   ]
  },
  {
   "cell_type": "markdown",
   "id": "e5808a47-1108-43c8-b371-aeb1f893e511",
   "metadata": {},
   "source": [
    "_Answer:_\n"
   ]
  },
  {
   "cell_type": "markdown",
   "id": "9fb5625b-7666-447e-848b-6a7d239a6d0b",
   "metadata": {
    "id": "9fb5625b-7666-447e-848b-6a7d239a6d0b",
    "tags": []
   },
   "source": [
    "## Question 2: Setting the Price"
   ]
  },
  {
   "cell_type": "markdown",
   "id": "UVRItjgwQSNb",
   "metadata": {
    "id": "UVRItjgwQSNb"
   },
   "source": [
    "No matter what you have deducted from your analysis, from now on, you will continue only with three features: **The number of rooms, the neighborhood group, and the room type.**"
   ]
  },
  {
   "cell_type": "markdown",
   "id": "c7128fc0-c9cc-4ecb-bc37-147ea4bfbf07",
   "metadata": {
    "id": "c7128fc0-c9cc-4ecb-bc37-147ea4bfbf07"
   },
   "source": [
    "**Enter Toby**: Toby is your long-term friend back from studying at RWTH. While you studied computer science, Toby studied business administration to become a big shot at Wall Street. He currently works in the back office of some swiss credit institute just across the corner from your office. You decide to drop by and get some of his input for your pricing decision. \n",
    "\n",
    "Toby proposes to first use comparables pricing to price your apartment. Comparables pricing is an established concept in economics and means that you price your apartment close to similar apartments. \n",
    "You will use different techniques to find similar apartments and set a price."
   ]
  },
  {
   "cell_type": "markdown",
   "id": "b139f2fd-5b7e-4086-8a1f-6098df4f6d25",
   "metadata": {
    "id": "b139f2fd-5b7e-4086-8a1f-6098df4f6d25"
   },
   "source": [
    "## Baseline"
   ]
  },
  {
   "cell_type": "markdown",
   "id": "tD6hGWmni8eA",
   "metadata": {
    "id": "tD6hGWmni8eA"
   },
   "source": [
    "First, you want to set a baseline to compare against. The baseline should always use the average price of all apartments as a recommended price. Evaluate on a test set of 5%. The same test set should also be used later (you can use the random_state argument in scikit learn's train_test_split, but you need to stay consistent for different questions)."
   ]
  },
  {
   "cell_type": "code",
   "execution_count": 3,
   "id": "119dd20f",
   "metadata": {
    "id": "ly3THPi7PdLJ"
   },
   "outputs": [],
   "source": [
    "# Your answer goes here\n",
    "X1 = df[['neighborhood group','room type','number rooms']]\n",
    "y1 =df[['price']]\n",
    "X_train1, X_test1, y_train1, y_test1 = train_test_split(X1, y1, test_size=0.05, random_state=42)"
   ]
  },
  {
   "cell_type": "markdown",
   "id": "ddc1e5ce",
   "metadata": {
    "id": "ddc1e5ce"
   },
   "source": [
    "## Decision Tree"
   ]
  },
  {
   "cell_type": "markdown",
   "id": "8y3FUe5paWrY",
   "metadata": {
    "id": "8y3FUe5paWrY"
   },
   "source": [
    "Using a decision tree, you try to price your apartment according to similar apartments. "
   ]
  },
  {
   "cell_type": "markdown",
   "id": "0a06ecc8",
   "metadata": {
    "id": "0a06ecc8"
   },
   "source": [
    "In the following, we want to know the price ranges for renting AirBnBs. To use decision trees, you need to discretize prices. We use the following price bins:\n",
    "\n",
    "\n",
    "- [50, 200]\n",
    "- (200, 400]\n",
    "- (400, 600]\n",
    "- (600, 800]\n",
    "- (800, 1000]\n",
    "- (1000, 1200]\n",
    "\n",
    "We add the attribute \"Price_Bins\" using the discretization mentioned above for each apartment. For example, if an apartment costs 404, it is put into the bin (400, 600]."
   ]
  },
  {
   "cell_type": "code",
   "execution_count": 4,
   "id": "f13ec0f0",
   "metadata": {
    "collapsed": true,
    "id": "ly3THPi7PdLJ"
   },
   "outputs": [
    {
     "data": {
      "text/html": [
       "<div>\n",
       "<style scoped>\n",
       "    .dataframe tbody tr th:only-of-type {\n",
       "        vertical-align: middle;\n",
       "    }\n",
       "\n",
       "    .dataframe tbody tr th {\n",
       "        vertical-align: top;\n",
       "    }\n",
       "\n",
       "    .dataframe thead th {\n",
       "        text-align: right;\n",
       "    }\n",
       "</style>\n",
       "<table border=\"1\" class=\"dataframe\">\n",
       "  <thead>\n",
       "    <tr style=\"text-align: right;\">\n",
       "      <th></th>\n",
       "      <th>id</th>\n",
       "      <th>host id</th>\n",
       "      <th>neighborhood group</th>\n",
       "      <th>neighborhood</th>\n",
       "      <th>lat</th>\n",
       "      <th>long</th>\n",
       "      <th>country</th>\n",
       "      <th>country code</th>\n",
       "      <th>instant bookable</th>\n",
       "      <th>cancellation policy</th>\n",
       "      <th>room type</th>\n",
       "      <th>construction year</th>\n",
       "      <th>price</th>\n",
       "      <th>service fee</th>\n",
       "      <th>minimum nights</th>\n",
       "      <th>number of reviews</th>\n",
       "      <th>review rate number</th>\n",
       "      <th>calculated host listings count</th>\n",
       "      <th>number rooms</th>\n",
       "      <th>Price bins</th>\n",
       "    </tr>\n",
       "  </thead>\n",
       "  <tbody>\n",
       "    <tr>\n",
       "      <th>0</th>\n",
       "      <td>1002102</td>\n",
       "      <td>52335172823</td>\n",
       "      <td>Manhattan</td>\n",
       "      <td>Midtown</td>\n",
       "      <td>40.75362</td>\n",
       "      <td>-73.98377</td>\n",
       "      <td>United States</td>\n",
       "      <td>US</td>\n",
       "      <td>0</td>\n",
       "      <td>moderate</td>\n",
       "      <td>Entire home/apt</td>\n",
       "      <td>2007</td>\n",
       "      <td>142</td>\n",
       "      <td>28</td>\n",
       "      <td>7</td>\n",
       "      <td>45</td>\n",
       "      <td>4</td>\n",
       "      <td>2</td>\n",
       "      <td>2</td>\n",
       "      <td>(49, 200]</td>\n",
       "    </tr>\n",
       "    <tr>\n",
       "      <th>1</th>\n",
       "      <td>1002403</td>\n",
       "      <td>78829239556</td>\n",
       "      <td>Manhattan</td>\n",
       "      <td>Harlem</td>\n",
       "      <td>40.80902</td>\n",
       "      <td>-73.94190</td>\n",
       "      <td>United States</td>\n",
       "      <td>US</td>\n",
       "      <td>0</td>\n",
       "      <td>flexible</td>\n",
       "      <td>Private room</td>\n",
       "      <td>2005</td>\n",
       "      <td>620</td>\n",
       "      <td>124</td>\n",
       "      <td>3</td>\n",
       "      <td>0</td>\n",
       "      <td>5</td>\n",
       "      <td>1</td>\n",
       "      <td>1</td>\n",
       "      <td>(600, 800]</td>\n",
       "    </tr>\n",
       "    <tr>\n",
       "      <th>2</th>\n",
       "      <td>1002755</td>\n",
       "      <td>85098326012</td>\n",
       "      <td>Brooklyn</td>\n",
       "      <td>Clinton Hill</td>\n",
       "      <td>40.68514</td>\n",
       "      <td>-73.95976</td>\n",
       "      <td>United States</td>\n",
       "      <td>US</td>\n",
       "      <td>0</td>\n",
       "      <td>moderate</td>\n",
       "      <td>Entire home/apt</td>\n",
       "      <td>2005</td>\n",
       "      <td>368</td>\n",
       "      <td>74</td>\n",
       "      <td>7</td>\n",
       "      <td>270</td>\n",
       "      <td>4</td>\n",
       "      <td>1</td>\n",
       "      <td>2</td>\n",
       "      <td>(200, 400]</td>\n",
       "    </tr>\n",
       "    <tr>\n",
       "      <th>3</th>\n",
       "      <td>1003689</td>\n",
       "      <td>92037596077</td>\n",
       "      <td>Manhattan</td>\n",
       "      <td>East Harlem</td>\n",
       "      <td>40.79851</td>\n",
       "      <td>-73.94399</td>\n",
       "      <td>United States</td>\n",
       "      <td>US</td>\n",
       "      <td>0</td>\n",
       "      <td>moderate</td>\n",
       "      <td>Entire home/apt</td>\n",
       "      <td>2009</td>\n",
       "      <td>204</td>\n",
       "      <td>41</td>\n",
       "      <td>7</td>\n",
       "      <td>9</td>\n",
       "      <td>3</td>\n",
       "      <td>1</td>\n",
       "      <td>1</td>\n",
       "      <td>(200, 400]</td>\n",
       "    </tr>\n",
       "    <tr>\n",
       "      <th>4</th>\n",
       "      <td>1004650</td>\n",
       "      <td>61300605564</td>\n",
       "      <td>Brooklyn</td>\n",
       "      <td>Bedford-Stuyvesant</td>\n",
       "      <td>40.68688</td>\n",
       "      <td>-73.95596</td>\n",
       "      <td>United States</td>\n",
       "      <td>US</td>\n",
       "      <td>0</td>\n",
       "      <td>moderate</td>\n",
       "      <td>Private room</td>\n",
       "      <td>2015</td>\n",
       "      <td>71</td>\n",
       "      <td>14</td>\n",
       "      <td>7</td>\n",
       "      <td>49</td>\n",
       "      <td>5</td>\n",
       "      <td>1</td>\n",
       "      <td>1</td>\n",
       "      <td>(49, 200]</td>\n",
       "    </tr>\n",
       "  </tbody>\n",
       "</table>\n",
       "</div>"
      ],
      "text/plain": [
       "        id      host id neighborhood group        neighborhood       lat  \\\n",
       "0  1002102  52335172823          Manhattan             Midtown  40.75362   \n",
       "1  1002403  78829239556          Manhattan              Harlem  40.80902   \n",
       "2  1002755  85098326012           Brooklyn        Clinton Hill  40.68514   \n",
       "3  1003689  92037596077          Manhattan         East Harlem  40.79851   \n",
       "4  1004650  61300605564           Brooklyn  Bedford-Stuyvesant  40.68688   \n",
       "\n",
       "       long        country country code  instant bookable cancellation policy  \\\n",
       "0 -73.98377  United States           US                 0            moderate   \n",
       "1 -73.94190  United States           US                 0            flexible   \n",
       "2 -73.95976  United States           US                 0            moderate   \n",
       "3 -73.94399  United States           US                 0            moderate   \n",
       "4 -73.95596  United States           US                 0            moderate   \n",
       "\n",
       "         room type  construction year  price  service fee  minimum nights  \\\n",
       "0  Entire home/apt               2007    142           28               7   \n",
       "1     Private room               2005    620          124               3   \n",
       "2  Entire home/apt               2005    368           74               7   \n",
       "3  Entire home/apt               2009    204           41               7   \n",
       "4     Private room               2015     71           14               7   \n",
       "\n",
       "   number of reviews  review rate number  calculated host listings count  \\\n",
       "0                 45                   4                               2   \n",
       "1                  0                   5                               1   \n",
       "2                270                   4                               1   \n",
       "3                  9                   3                               1   \n",
       "4                 49                   5                               1   \n",
       "\n",
       "   number rooms  Price bins  \n",
       "0             2   (49, 200]  \n",
       "1             1  (600, 800]  \n",
       "2             2  (200, 400]  \n",
       "3             1  (200, 400]  \n",
       "4             1   (49, 200]  "
      ]
     },
     "execution_count": 4,
     "metadata": {},
     "output_type": "execute_result"
    }
   ],
   "source": [
    "# Your answer goes here\n",
    "bins = pd.IntervalIndex.from_tuples([(49, 200), (200, 400), (400, 600),(600,800),(800,1000),(1000,1200)])\n",
    "df['Price bins'] = pd.cut(df['price'],bins)\n",
    "df.head()"
   ]
  },
  {
   "cell_type": "markdown",
   "id": "9a15a3f0",
   "metadata": {
    "id": "9a15a3f0"
   },
   "source": [
    "Consider the extended dataset from the previous task. Use 'number rooms,' 'room type,' and 'neighborhood group' as descriptive features and \"Price_Bins\" as the target feature. Create a test and training set like before."
   ]
  },
  {
   "cell_type": "code",
   "execution_count": 5,
   "id": "dc234682",
   "metadata": {
    "id": "ly3THPi7PdLJ"
   },
   "outputs": [],
   "source": [
    "# Your answer goes here\n",
    "X2 = df[['neighborhood group','room type','number rooms','Price bins']]\n",
    "X_train2, X_test2 = train_test_split(X2, test_size=0.05, random_state=42)"
   ]
  },
  {
   "cell_type": "code",
   "execution_count": 6,
   "id": "e0fe57f6",
   "metadata": {},
   "outputs": [],
   "source": [
    "indices = [2,10,18,19]\n",
    "columns = df.columns[indices]\n",
    "descriptive_features = columns[:-1]\n",
    "#The last column is considered as label\n",
    "label = columns[-1]\n",
    "\n",
    "#Converting all the columns to string\n",
    "for column in columns:\n",
    "    X_train2[column]= X_train2[column].astype(str)\n",
    "\n",
    "data_descriptive = X_train2[descriptive_features].values\n",
    "data_label = X_train2[label].values"
   ]
  },
  {
   "cell_type": "markdown",
   "id": "WJuVU61pfuAU",
   "metadata": {
    "id": "WJuVU61pfuAU"
   },
   "source": [
    "Generate a decision tree in which the minimum number of samples for splitting is ten and use entropy. What is the system's entropy?\n",
    "\n",
    "Note: For this task, you must use the p_decision_tree library."
   ]
  },
  {
   "cell_type": "code",
   "execution_count": 15,
   "id": "ae8713b4",
   "metadata": {
    "collapsed": true
   },
   "outputs": [
    {
     "ename": "ExecutableNotFound",
     "evalue": "failed to execute PosixPath('dot'), make sure the Graphviz executables are on your systems' PATH",
     "output_type": "error",
     "traceback": [
      "\u001b[0;31m---------------------------------------------------------------------------\u001b[0m",
      "\u001b[0;31mFileNotFoundError\u001b[0m                         Traceback (most recent call last)",
      "File \u001b[0;32m~/opt/anaconda3/envs/env-IDS2022-23/lib/python3.9/site-packages/graphviz/backend/execute.py:79\u001b[0m, in \u001b[0;36mrun_check\u001b[0;34m(cmd, input_lines, encoding, quiet, **kwargs)\u001b[0m\n\u001b[1;32m     78\u001b[0m         kwargs[\u001b[38;5;124m'\u001b[39m\u001b[38;5;124mstdout\u001b[39m\u001b[38;5;124m'\u001b[39m] \u001b[38;5;241m=\u001b[39m kwargs[\u001b[38;5;124m'\u001b[39m\u001b[38;5;124mstderr\u001b[39m\u001b[38;5;124m'\u001b[39m] \u001b[38;5;241m=\u001b[39m subprocess\u001b[38;5;241m.\u001b[39mPIPE\n\u001b[0;32m---> 79\u001b[0m     proc \u001b[38;5;241m=\u001b[39m \u001b[43m_run_input_lines\u001b[49m\u001b[43m(\u001b[49m\u001b[43mcmd\u001b[49m\u001b[43m,\u001b[49m\u001b[43m \u001b[49m\u001b[43minput_lines\u001b[49m\u001b[43m,\u001b[49m\u001b[43m \u001b[49m\u001b[43mkwargs\u001b[49m\u001b[38;5;241;43m=\u001b[39;49m\u001b[43mkwargs\u001b[49m\u001b[43m)\u001b[49m\n\u001b[1;32m     80\u001b[0m \u001b[38;5;28;01melse\u001b[39;00m:\n",
      "File \u001b[0;32m~/opt/anaconda3/envs/env-IDS2022-23/lib/python3.9/site-packages/graphviz/backend/execute.py:99\u001b[0m, in \u001b[0;36m_run_input_lines\u001b[0;34m(cmd, input_lines, kwargs)\u001b[0m\n\u001b[1;32m     98\u001b[0m \u001b[38;5;28;01mdef\u001b[39;00m \u001b[38;5;21m_run_input_lines\u001b[39m(cmd, input_lines, \u001b[38;5;241m*\u001b[39m, kwargs):\n\u001b[0;32m---> 99\u001b[0m     popen \u001b[38;5;241m=\u001b[39m \u001b[43msubprocess\u001b[49m\u001b[38;5;241;43m.\u001b[39;49m\u001b[43mPopen\u001b[49m\u001b[43m(\u001b[49m\u001b[43mcmd\u001b[49m\u001b[43m,\u001b[49m\u001b[43m \u001b[49m\u001b[43mstdin\u001b[49m\u001b[38;5;241;43m=\u001b[39;49m\u001b[43msubprocess\u001b[49m\u001b[38;5;241;43m.\u001b[39;49m\u001b[43mPIPE\u001b[49m\u001b[43m,\u001b[49m\u001b[43m \u001b[49m\u001b[38;5;241;43m*\u001b[39;49m\u001b[38;5;241;43m*\u001b[39;49m\u001b[43mkwargs\u001b[49m\u001b[43m)\u001b[49m\n\u001b[1;32m    101\u001b[0m     stdin_write \u001b[38;5;241m=\u001b[39m popen\u001b[38;5;241m.\u001b[39mstdin\u001b[38;5;241m.\u001b[39mwrite\n",
      "File \u001b[0;32m~/opt/anaconda3/envs/env-IDS2022-23/lib/python3.9/subprocess.py:951\u001b[0m, in \u001b[0;36mPopen.__init__\u001b[0;34m(self, args, bufsize, executable, stdin, stdout, stderr, preexec_fn, close_fds, shell, cwd, env, universal_newlines, startupinfo, creationflags, restore_signals, start_new_session, pass_fds, user, group, extra_groups, encoding, errors, text, umask)\u001b[0m\n\u001b[1;32m    948\u001b[0m             \u001b[38;5;28mself\u001b[39m\u001b[38;5;241m.\u001b[39mstderr \u001b[38;5;241m=\u001b[39m io\u001b[38;5;241m.\u001b[39mTextIOWrapper(\u001b[38;5;28mself\u001b[39m\u001b[38;5;241m.\u001b[39mstderr,\n\u001b[1;32m    949\u001b[0m                     encoding\u001b[38;5;241m=\u001b[39mencoding, errors\u001b[38;5;241m=\u001b[39merrors)\n\u001b[0;32m--> 951\u001b[0m     \u001b[38;5;28;43mself\u001b[39;49m\u001b[38;5;241;43m.\u001b[39;49m\u001b[43m_execute_child\u001b[49m\u001b[43m(\u001b[49m\u001b[43margs\u001b[49m\u001b[43m,\u001b[49m\u001b[43m \u001b[49m\u001b[43mexecutable\u001b[49m\u001b[43m,\u001b[49m\u001b[43m \u001b[49m\u001b[43mpreexec_fn\u001b[49m\u001b[43m,\u001b[49m\u001b[43m \u001b[49m\u001b[43mclose_fds\u001b[49m\u001b[43m,\u001b[49m\n\u001b[1;32m    952\u001b[0m \u001b[43m                        \u001b[49m\u001b[43mpass_fds\u001b[49m\u001b[43m,\u001b[49m\u001b[43m \u001b[49m\u001b[43mcwd\u001b[49m\u001b[43m,\u001b[49m\u001b[43m \u001b[49m\u001b[43menv\u001b[49m\u001b[43m,\u001b[49m\n\u001b[1;32m    953\u001b[0m \u001b[43m                        \u001b[49m\u001b[43mstartupinfo\u001b[49m\u001b[43m,\u001b[49m\u001b[43m \u001b[49m\u001b[43mcreationflags\u001b[49m\u001b[43m,\u001b[49m\u001b[43m \u001b[49m\u001b[43mshell\u001b[49m\u001b[43m,\u001b[49m\n\u001b[1;32m    954\u001b[0m \u001b[43m                        \u001b[49m\u001b[43mp2cread\u001b[49m\u001b[43m,\u001b[49m\u001b[43m \u001b[49m\u001b[43mp2cwrite\u001b[49m\u001b[43m,\u001b[49m\n\u001b[1;32m    955\u001b[0m \u001b[43m                        \u001b[49m\u001b[43mc2pread\u001b[49m\u001b[43m,\u001b[49m\u001b[43m \u001b[49m\u001b[43mc2pwrite\u001b[49m\u001b[43m,\u001b[49m\n\u001b[1;32m    956\u001b[0m \u001b[43m                        \u001b[49m\u001b[43merrread\u001b[49m\u001b[43m,\u001b[49m\u001b[43m \u001b[49m\u001b[43merrwrite\u001b[49m\u001b[43m,\u001b[49m\n\u001b[1;32m    957\u001b[0m \u001b[43m                        \u001b[49m\u001b[43mrestore_signals\u001b[49m\u001b[43m,\u001b[49m\n\u001b[1;32m    958\u001b[0m \u001b[43m                        \u001b[49m\u001b[43mgid\u001b[49m\u001b[43m,\u001b[49m\u001b[43m \u001b[49m\u001b[43mgids\u001b[49m\u001b[43m,\u001b[49m\u001b[43m \u001b[49m\u001b[43muid\u001b[49m\u001b[43m,\u001b[49m\u001b[43m \u001b[49m\u001b[43mumask\u001b[49m\u001b[43m,\u001b[49m\n\u001b[1;32m    959\u001b[0m \u001b[43m                        \u001b[49m\u001b[43mstart_new_session\u001b[49m\u001b[43m)\u001b[49m\n\u001b[1;32m    960\u001b[0m \u001b[38;5;28;01mexcept\u001b[39;00m:\n\u001b[1;32m    961\u001b[0m     \u001b[38;5;66;03m# Cleanup if the child failed starting.\u001b[39;00m\n",
      "File \u001b[0;32m~/opt/anaconda3/envs/env-IDS2022-23/lib/python3.9/subprocess.py:1821\u001b[0m, in \u001b[0;36mPopen._execute_child\u001b[0;34m(self, args, executable, preexec_fn, close_fds, pass_fds, cwd, env, startupinfo, creationflags, shell, p2cread, p2cwrite, c2pread, c2pwrite, errread, errwrite, restore_signals, gid, gids, uid, umask, start_new_session)\u001b[0m\n\u001b[1;32m   1820\u001b[0m         err_msg \u001b[38;5;241m=\u001b[39m os\u001b[38;5;241m.\u001b[39mstrerror(errno_num)\n\u001b[0;32m-> 1821\u001b[0m     \u001b[38;5;28;01mraise\u001b[39;00m child_exception_type(errno_num, err_msg, err_filename)\n\u001b[1;32m   1822\u001b[0m \u001b[38;5;28;01mraise\u001b[39;00m child_exception_type(err_msg)\n",
      "\u001b[0;31mFileNotFoundError\u001b[0m: [Errno 2] No such file or directory: PosixPath('dot')",
      "\nThe above exception was the direct cause of the following exception:\n",
      "\u001b[0;31mExecutableNotFound\u001b[0m                        Traceback (most recent call last)",
      "File \u001b[0;32m~/opt/anaconda3/envs/env-IDS2022-23/lib/python3.9/site-packages/IPython/core/formatters.py:973\u001b[0m, in \u001b[0;36mMimeBundleFormatter.__call__\u001b[0;34m(self, obj, include, exclude)\u001b[0m\n\u001b[1;32m    970\u001b[0m     method \u001b[38;5;241m=\u001b[39m get_real_method(obj, \u001b[38;5;28mself\u001b[39m\u001b[38;5;241m.\u001b[39mprint_method)\n\u001b[1;32m    972\u001b[0m     \u001b[38;5;28;01mif\u001b[39;00m method \u001b[38;5;129;01mis\u001b[39;00m \u001b[38;5;129;01mnot\u001b[39;00m \u001b[38;5;28;01mNone\u001b[39;00m:\n\u001b[0;32m--> 973\u001b[0m         \u001b[38;5;28;01mreturn\u001b[39;00m \u001b[43mmethod\u001b[49m\u001b[43m(\u001b[49m\u001b[43minclude\u001b[49m\u001b[38;5;241;43m=\u001b[39;49m\u001b[43minclude\u001b[49m\u001b[43m,\u001b[49m\u001b[43m \u001b[49m\u001b[43mexclude\u001b[49m\u001b[38;5;241;43m=\u001b[39;49m\u001b[43mexclude\u001b[49m\u001b[43m)\u001b[49m\n\u001b[1;32m    974\u001b[0m     \u001b[38;5;28;01mreturn\u001b[39;00m \u001b[38;5;28;01mNone\u001b[39;00m\n\u001b[1;32m    975\u001b[0m \u001b[38;5;28;01melse\u001b[39;00m:\n",
      "File \u001b[0;32m~/opt/anaconda3/envs/env-IDS2022-23/lib/python3.9/site-packages/graphviz/jupyter_integration.py:98\u001b[0m, in \u001b[0;36mJupyterIntegration._repr_mimebundle_\u001b[0;34m(self, include, exclude, **_)\u001b[0m\n\u001b[1;32m     96\u001b[0m include \u001b[38;5;241m=\u001b[39m \u001b[38;5;28mset\u001b[39m(include) \u001b[38;5;28;01mif\u001b[39;00m include \u001b[38;5;129;01mis\u001b[39;00m \u001b[38;5;129;01mnot\u001b[39;00m \u001b[38;5;28;01mNone\u001b[39;00m \u001b[38;5;28;01melse\u001b[39;00m {\u001b[38;5;28mself\u001b[39m\u001b[38;5;241m.\u001b[39m_jupyter_mimetype}\n\u001b[1;32m     97\u001b[0m include \u001b[38;5;241m-\u001b[39m\u001b[38;5;241m=\u001b[39m \u001b[38;5;28mset\u001b[39m(exclude \u001b[38;5;129;01mor\u001b[39;00m [])\n\u001b[0;32m---> 98\u001b[0m \u001b[38;5;28;01mreturn\u001b[39;00m {mimetype: \u001b[38;5;28mgetattr\u001b[39m(\u001b[38;5;28mself\u001b[39m, method_name)()\n\u001b[1;32m     99\u001b[0m         \u001b[38;5;28;01mfor\u001b[39;00m mimetype, method_name \u001b[38;5;129;01min\u001b[39;00m MIME_TYPES\u001b[38;5;241m.\u001b[39mitems()\n\u001b[1;32m    100\u001b[0m         \u001b[38;5;28;01mif\u001b[39;00m mimetype \u001b[38;5;129;01min\u001b[39;00m include}\n",
      "File \u001b[0;32m~/opt/anaconda3/envs/env-IDS2022-23/lib/python3.9/site-packages/graphviz/jupyter_integration.py:98\u001b[0m, in \u001b[0;36m<dictcomp>\u001b[0;34m(.0)\u001b[0m\n\u001b[1;32m     96\u001b[0m include \u001b[38;5;241m=\u001b[39m \u001b[38;5;28mset\u001b[39m(include) \u001b[38;5;28;01mif\u001b[39;00m include \u001b[38;5;129;01mis\u001b[39;00m \u001b[38;5;129;01mnot\u001b[39;00m \u001b[38;5;28;01mNone\u001b[39;00m \u001b[38;5;28;01melse\u001b[39;00m {\u001b[38;5;28mself\u001b[39m\u001b[38;5;241m.\u001b[39m_jupyter_mimetype}\n\u001b[1;32m     97\u001b[0m include \u001b[38;5;241m-\u001b[39m\u001b[38;5;241m=\u001b[39m \u001b[38;5;28mset\u001b[39m(exclude \u001b[38;5;129;01mor\u001b[39;00m [])\n\u001b[0;32m---> 98\u001b[0m \u001b[38;5;28;01mreturn\u001b[39;00m {mimetype: \u001b[38;5;28;43mgetattr\u001b[39;49m\u001b[43m(\u001b[49m\u001b[38;5;28;43mself\u001b[39;49m\u001b[43m,\u001b[49m\u001b[43m \u001b[49m\u001b[43mmethod_name\u001b[49m\u001b[43m)\u001b[49m\u001b[43m(\u001b[49m\u001b[43m)\u001b[49m\n\u001b[1;32m     99\u001b[0m         \u001b[38;5;28;01mfor\u001b[39;00m mimetype, method_name \u001b[38;5;129;01min\u001b[39;00m MIME_TYPES\u001b[38;5;241m.\u001b[39mitems()\n\u001b[1;32m    100\u001b[0m         \u001b[38;5;28;01mif\u001b[39;00m mimetype \u001b[38;5;129;01min\u001b[39;00m include}\n",
      "File \u001b[0;32m~/opt/anaconda3/envs/env-IDS2022-23/lib/python3.9/site-packages/graphviz/jupyter_integration.py:112\u001b[0m, in \u001b[0;36mJupyterIntegration._repr_image_svg_xml\u001b[0;34m(self)\u001b[0m\n\u001b[1;32m    110\u001b[0m \u001b[38;5;28;01mdef\u001b[39;00m \u001b[38;5;21m_repr_image_svg_xml\u001b[39m(\u001b[38;5;28mself\u001b[39m) \u001b[38;5;241m-\u001b[39m\u001b[38;5;241m>\u001b[39m \u001b[38;5;28mstr\u001b[39m:\n\u001b[1;32m    111\u001b[0m     \u001b[38;5;124;03m\"\"\"Return the rendered graph as SVG string.\"\"\"\u001b[39;00m\n\u001b[0;32m--> 112\u001b[0m     \u001b[38;5;28;01mreturn\u001b[39;00m \u001b[38;5;28;43mself\u001b[39;49m\u001b[38;5;241;43m.\u001b[39;49m\u001b[43mpipe\u001b[49m\u001b[43m(\u001b[49m\u001b[38;5;28;43mformat\u001b[39;49m\u001b[38;5;241;43m=\u001b[39;49m\u001b[38;5;124;43m'\u001b[39;49m\u001b[38;5;124;43msvg\u001b[39;49m\u001b[38;5;124;43m'\u001b[39;49m\u001b[43m,\u001b[49m\u001b[43m \u001b[49m\u001b[43mencoding\u001b[49m\u001b[38;5;241;43m=\u001b[39;49m\u001b[43mSVG_ENCODING\u001b[49m\u001b[43m)\u001b[49m\n",
      "File \u001b[0;32m~/opt/anaconda3/envs/env-IDS2022-23/lib/python3.9/site-packages/graphviz/piping.py:104\u001b[0m, in \u001b[0;36mPipe.pipe\u001b[0;34m(self, format, renderer, formatter, neato_no_op, quiet, engine, encoding)\u001b[0m\n\u001b[1;32m     55\u001b[0m \u001b[38;5;28;01mdef\u001b[39;00m \u001b[38;5;21mpipe\u001b[39m(\u001b[38;5;28mself\u001b[39m,\n\u001b[1;32m     56\u001b[0m          \u001b[38;5;28mformat\u001b[39m: typing\u001b[38;5;241m.\u001b[39mOptional[\u001b[38;5;28mstr\u001b[39m] \u001b[38;5;241m=\u001b[39m \u001b[38;5;28;01mNone\u001b[39;00m,\n\u001b[1;32m     57\u001b[0m          renderer: typing\u001b[38;5;241m.\u001b[39mOptional[\u001b[38;5;28mstr\u001b[39m] \u001b[38;5;241m=\u001b[39m \u001b[38;5;28;01mNone\u001b[39;00m,\n\u001b[0;32m   (...)\u001b[0m\n\u001b[1;32m     61\u001b[0m          engine: typing\u001b[38;5;241m.\u001b[39mOptional[\u001b[38;5;28mstr\u001b[39m] \u001b[38;5;241m=\u001b[39m \u001b[38;5;28;01mNone\u001b[39;00m,\n\u001b[1;32m     62\u001b[0m          encoding: typing\u001b[38;5;241m.\u001b[39mOptional[\u001b[38;5;28mstr\u001b[39m] \u001b[38;5;241m=\u001b[39m \u001b[38;5;28;01mNone\u001b[39;00m) \u001b[38;5;241m-\u001b[39m\u001b[38;5;241m>\u001b[39m typing\u001b[38;5;241m.\u001b[39mUnion[\u001b[38;5;28mbytes\u001b[39m, \u001b[38;5;28mstr\u001b[39m]:\n\u001b[1;32m     63\u001b[0m     \u001b[38;5;124;03m\"\"\"Return the source piped through the Graphviz layout command.\u001b[39;00m\n\u001b[1;32m     64\u001b[0m \n\u001b[1;32m     65\u001b[0m \u001b[38;5;124;03m    Args:\u001b[39;00m\n\u001b[0;32m   (...)\u001b[0m\n\u001b[1;32m    102\u001b[0m \u001b[38;5;124;03m        '<?xml version='\u001b[39;00m\n\u001b[1;32m    103\u001b[0m \u001b[38;5;124;03m    \"\"\"\u001b[39;00m\n\u001b[0;32m--> 104\u001b[0m     \u001b[38;5;28;01mreturn\u001b[39;00m \u001b[38;5;28;43mself\u001b[39;49m\u001b[38;5;241;43m.\u001b[39;49m\u001b[43m_pipe_legacy\u001b[49m\u001b[43m(\u001b[49m\u001b[38;5;28;43mformat\u001b[39;49m\u001b[43m,\u001b[49m\n\u001b[1;32m    105\u001b[0m \u001b[43m                             \u001b[49m\u001b[43mrenderer\u001b[49m\u001b[38;5;241;43m=\u001b[39;49m\u001b[43mrenderer\u001b[49m\u001b[43m,\u001b[49m\n\u001b[1;32m    106\u001b[0m \u001b[43m                             \u001b[49m\u001b[43mformatter\u001b[49m\u001b[38;5;241;43m=\u001b[39;49m\u001b[43mformatter\u001b[49m\u001b[43m,\u001b[49m\n\u001b[1;32m    107\u001b[0m \u001b[43m                             \u001b[49m\u001b[43mneato_no_op\u001b[49m\u001b[38;5;241;43m=\u001b[39;49m\u001b[43mneato_no_op\u001b[49m\u001b[43m,\u001b[49m\n\u001b[1;32m    108\u001b[0m \u001b[43m                             \u001b[49m\u001b[43mquiet\u001b[49m\u001b[38;5;241;43m=\u001b[39;49m\u001b[43mquiet\u001b[49m\u001b[43m,\u001b[49m\n\u001b[1;32m    109\u001b[0m \u001b[43m                             \u001b[49m\u001b[43mengine\u001b[49m\u001b[38;5;241;43m=\u001b[39;49m\u001b[43mengine\u001b[49m\u001b[43m,\u001b[49m\n\u001b[1;32m    110\u001b[0m \u001b[43m                             \u001b[49m\u001b[43mencoding\u001b[49m\u001b[38;5;241;43m=\u001b[39;49m\u001b[43mencoding\u001b[49m\u001b[43m)\u001b[49m\n",
      "File \u001b[0;32m~/opt/anaconda3/envs/env-IDS2022-23/lib/python3.9/site-packages/graphviz/_tools.py:171\u001b[0m, in \u001b[0;36mdeprecate_positional_args.<locals>.decorator.<locals>.wrapper\u001b[0;34m(*args, **kwargs)\u001b[0m\n\u001b[1;32m    162\u001b[0m     wanted \u001b[38;5;241m=\u001b[39m \u001b[38;5;124m'\u001b[39m\u001b[38;5;124m, \u001b[39m\u001b[38;5;124m'\u001b[39m\u001b[38;5;241m.\u001b[39mjoin(\u001b[38;5;124mf\u001b[39m\u001b[38;5;124m'\u001b[39m\u001b[38;5;132;01m{\u001b[39;00mname\u001b[38;5;132;01m}\u001b[39;00m\u001b[38;5;124m=\u001b[39m\u001b[38;5;132;01m{\u001b[39;00mvalue\u001b[38;5;132;01m!r}\u001b[39;00m\u001b[38;5;124m'\u001b[39m\n\u001b[1;32m    163\u001b[0m                        \u001b[38;5;28;01mfor\u001b[39;00m name, value \u001b[38;5;129;01min\u001b[39;00m deprecated\u001b[38;5;241m.\u001b[39mitems())\n\u001b[1;32m    164\u001b[0m     warnings\u001b[38;5;241m.\u001b[39mwarn(\u001b[38;5;124mf\u001b[39m\u001b[38;5;124m'\u001b[39m\u001b[38;5;124mThe signature of \u001b[39m\u001b[38;5;132;01m{\u001b[39;00mfunc\u001b[38;5;241m.\u001b[39m\u001b[38;5;18m__name__\u001b[39m\u001b[38;5;132;01m}\u001b[39;00m\u001b[38;5;124m will be reduced\u001b[39m\u001b[38;5;124m'\u001b[39m\n\u001b[1;32m    165\u001b[0m                   \u001b[38;5;124mf\u001b[39m\u001b[38;5;124m'\u001b[39m\u001b[38;5;124m to \u001b[39m\u001b[38;5;132;01m{\u001b[39;00msupported_number\u001b[38;5;132;01m}\u001b[39;00m\u001b[38;5;124m positional args\u001b[39m\u001b[38;5;124m'\u001b[39m\n\u001b[1;32m    166\u001b[0m                   \u001b[38;5;124mf\u001b[39m\u001b[38;5;124m'\u001b[39m\u001b[38;5;124m \u001b[39m\u001b[38;5;132;01m{\u001b[39;00m\u001b[38;5;28mlist\u001b[39m(supported)\u001b[38;5;132;01m}\u001b[39;00m\u001b[38;5;124m: pass \u001b[39m\u001b[38;5;132;01m{\u001b[39;00mwanted\u001b[38;5;132;01m}\u001b[39;00m\u001b[38;5;124m'\u001b[39m\n\u001b[1;32m    167\u001b[0m                   \u001b[38;5;124m'\u001b[39m\u001b[38;5;124m as keyword arg(s)\u001b[39m\u001b[38;5;124m'\u001b[39m,\n\u001b[1;32m    168\u001b[0m                   stacklevel\u001b[38;5;241m=\u001b[39mstacklevel,\n\u001b[1;32m    169\u001b[0m                   category\u001b[38;5;241m=\u001b[39mcategory)\n\u001b[0;32m--> 171\u001b[0m \u001b[38;5;28;01mreturn\u001b[39;00m \u001b[43mfunc\u001b[49m\u001b[43m(\u001b[49m\u001b[38;5;241;43m*\u001b[39;49m\u001b[43margs\u001b[49m\u001b[43m,\u001b[49m\u001b[43m \u001b[49m\u001b[38;5;241;43m*\u001b[39;49m\u001b[38;5;241;43m*\u001b[39;49m\u001b[43mkwargs\u001b[49m\u001b[43m)\u001b[49m\n",
      "File \u001b[0;32m~/opt/anaconda3/envs/env-IDS2022-23/lib/python3.9/site-packages/graphviz/piping.py:121\u001b[0m, in \u001b[0;36mPipe._pipe_legacy\u001b[0;34m(self, format, renderer, formatter, neato_no_op, quiet, engine, encoding)\u001b[0m\n\u001b[1;32m    112\u001b[0m \u001b[38;5;129m@_tools\u001b[39m\u001b[38;5;241m.\u001b[39mdeprecate_positional_args(supported_number\u001b[38;5;241m=\u001b[39m\u001b[38;5;241m2\u001b[39m)\n\u001b[1;32m    113\u001b[0m \u001b[38;5;28;01mdef\u001b[39;00m \u001b[38;5;21m_pipe_legacy\u001b[39m(\u001b[38;5;28mself\u001b[39m,\n\u001b[1;32m    114\u001b[0m                  \u001b[38;5;28mformat\u001b[39m: typing\u001b[38;5;241m.\u001b[39mOptional[\u001b[38;5;28mstr\u001b[39m] \u001b[38;5;241m=\u001b[39m \u001b[38;5;28;01mNone\u001b[39;00m,\n\u001b[0;32m   (...)\u001b[0m\n\u001b[1;32m    119\u001b[0m                  engine: typing\u001b[38;5;241m.\u001b[39mOptional[\u001b[38;5;28mstr\u001b[39m] \u001b[38;5;241m=\u001b[39m \u001b[38;5;28;01mNone\u001b[39;00m,\n\u001b[1;32m    120\u001b[0m                  encoding: typing\u001b[38;5;241m.\u001b[39mOptional[\u001b[38;5;28mstr\u001b[39m] \u001b[38;5;241m=\u001b[39m \u001b[38;5;28;01mNone\u001b[39;00m) \u001b[38;5;241m-\u001b[39m\u001b[38;5;241m>\u001b[39m typing\u001b[38;5;241m.\u001b[39mUnion[\u001b[38;5;28mbytes\u001b[39m, \u001b[38;5;28mstr\u001b[39m]:\n\u001b[0;32m--> 121\u001b[0m     \u001b[38;5;28;01mreturn\u001b[39;00m \u001b[38;5;28;43mself\u001b[39;49m\u001b[38;5;241;43m.\u001b[39;49m\u001b[43m_pipe_future\u001b[49m\u001b[43m(\u001b[49m\u001b[38;5;28;43mformat\u001b[39;49m\u001b[43m,\u001b[49m\n\u001b[1;32m    122\u001b[0m \u001b[43m                             \u001b[49m\u001b[43mrenderer\u001b[49m\u001b[38;5;241;43m=\u001b[39;49m\u001b[43mrenderer\u001b[49m\u001b[43m,\u001b[49m\n\u001b[1;32m    123\u001b[0m \u001b[43m                             \u001b[49m\u001b[43mformatter\u001b[49m\u001b[38;5;241;43m=\u001b[39;49m\u001b[43mformatter\u001b[49m\u001b[43m,\u001b[49m\n\u001b[1;32m    124\u001b[0m \u001b[43m                             \u001b[49m\u001b[43mneato_no_op\u001b[49m\u001b[38;5;241;43m=\u001b[39;49m\u001b[43mneato_no_op\u001b[49m\u001b[43m,\u001b[49m\n\u001b[1;32m    125\u001b[0m \u001b[43m                             \u001b[49m\u001b[43mquiet\u001b[49m\u001b[38;5;241;43m=\u001b[39;49m\u001b[43mquiet\u001b[49m\u001b[43m,\u001b[49m\n\u001b[1;32m    126\u001b[0m \u001b[43m                             \u001b[49m\u001b[43mengine\u001b[49m\u001b[38;5;241;43m=\u001b[39;49m\u001b[43mengine\u001b[49m\u001b[43m,\u001b[49m\n\u001b[1;32m    127\u001b[0m \u001b[43m                             \u001b[49m\u001b[43mencoding\u001b[49m\u001b[38;5;241;43m=\u001b[39;49m\u001b[43mencoding\u001b[49m\u001b[43m)\u001b[49m\n",
      "File \u001b[0;32m~/opt/anaconda3/envs/env-IDS2022-23/lib/python3.9/site-packages/graphviz/piping.py:149\u001b[0m, in \u001b[0;36mPipe._pipe_future\u001b[0;34m(self, format, renderer, formatter, neato_no_op, quiet, engine, encoding)\u001b[0m\n\u001b[1;32m    146\u001b[0m \u001b[38;5;28;01mif\u001b[39;00m encoding \u001b[38;5;129;01mis\u001b[39;00m \u001b[38;5;129;01mnot\u001b[39;00m \u001b[38;5;28;01mNone\u001b[39;00m:\n\u001b[1;32m    147\u001b[0m     \u001b[38;5;28;01mif\u001b[39;00m codecs\u001b[38;5;241m.\u001b[39mlookup(encoding) \u001b[38;5;129;01mis\u001b[39;00m codecs\u001b[38;5;241m.\u001b[39mlookup(\u001b[38;5;28mself\u001b[39m\u001b[38;5;241m.\u001b[39mencoding):\n\u001b[1;32m    148\u001b[0m         \u001b[38;5;66;03m# common case: both stdin and stdout need the same encoding\u001b[39;00m\n\u001b[0;32m--> 149\u001b[0m         \u001b[38;5;28;01mreturn\u001b[39;00m \u001b[38;5;28;43mself\u001b[39;49m\u001b[38;5;241;43m.\u001b[39;49m\u001b[43m_pipe_lines_string\u001b[49m\u001b[43m(\u001b[49m\u001b[38;5;241;43m*\u001b[39;49m\u001b[43margs\u001b[49m\u001b[43m,\u001b[49m\u001b[43m \u001b[49m\u001b[43mencoding\u001b[49m\u001b[38;5;241;43m=\u001b[39;49m\u001b[43mencoding\u001b[49m\u001b[43m,\u001b[49m\u001b[43m \u001b[49m\u001b[38;5;241;43m*\u001b[39;49m\u001b[38;5;241;43m*\u001b[39;49m\u001b[43mkwargs\u001b[49m\u001b[43m)\u001b[49m\n\u001b[1;32m    150\u001b[0m     \u001b[38;5;28;01mtry\u001b[39;00m:\n\u001b[1;32m    151\u001b[0m         raw \u001b[38;5;241m=\u001b[39m \u001b[38;5;28mself\u001b[39m\u001b[38;5;241m.\u001b[39m_pipe_lines(\u001b[38;5;241m*\u001b[39margs, input_encoding\u001b[38;5;241m=\u001b[39m\u001b[38;5;28mself\u001b[39m\u001b[38;5;241m.\u001b[39mencoding, \u001b[38;5;241m*\u001b[39m\u001b[38;5;241m*\u001b[39mkwargs)\n",
      "File \u001b[0;32m~/opt/anaconda3/envs/env-IDS2022-23/lib/python3.9/site-packages/graphviz/backend/piping.py:212\u001b[0m, in \u001b[0;36mpipe_lines_string\u001b[0;34m(engine, format, input_lines, encoding, renderer, formatter, neato_no_op, quiet)\u001b[0m\n\u001b[1;32m    206\u001b[0m cmd \u001b[38;5;241m=\u001b[39m dot_command\u001b[38;5;241m.\u001b[39mcommand(engine, \u001b[38;5;28mformat\u001b[39m,\n\u001b[1;32m    207\u001b[0m                           renderer\u001b[38;5;241m=\u001b[39mrenderer,\n\u001b[1;32m    208\u001b[0m                           formatter\u001b[38;5;241m=\u001b[39mformatter,\n\u001b[1;32m    209\u001b[0m                           neato_no_op\u001b[38;5;241m=\u001b[39mneato_no_op)\n\u001b[1;32m    210\u001b[0m kwargs \u001b[38;5;241m=\u001b[39m {\u001b[38;5;124m'\u001b[39m\u001b[38;5;124minput_lines\u001b[39m\u001b[38;5;124m'\u001b[39m: input_lines, \u001b[38;5;124m'\u001b[39m\u001b[38;5;124mencoding\u001b[39m\u001b[38;5;124m'\u001b[39m: encoding}\n\u001b[0;32m--> 212\u001b[0m proc \u001b[38;5;241m=\u001b[39m \u001b[43mexecute\u001b[49m\u001b[38;5;241;43m.\u001b[39;49m\u001b[43mrun_check\u001b[49m\u001b[43m(\u001b[49m\u001b[43mcmd\u001b[49m\u001b[43m,\u001b[49m\u001b[43m \u001b[49m\u001b[43mcapture_output\u001b[49m\u001b[38;5;241;43m=\u001b[39;49m\u001b[38;5;28;43;01mTrue\u001b[39;49;00m\u001b[43m,\u001b[49m\u001b[43m \u001b[49m\u001b[43mquiet\u001b[49m\u001b[38;5;241;43m=\u001b[39;49m\u001b[43mquiet\u001b[49m\u001b[43m,\u001b[49m\u001b[43m \u001b[49m\u001b[38;5;241;43m*\u001b[39;49m\u001b[38;5;241;43m*\u001b[39;49m\u001b[43mkwargs\u001b[49m\u001b[43m)\u001b[49m\n\u001b[1;32m    213\u001b[0m \u001b[38;5;28;01mreturn\u001b[39;00m proc\u001b[38;5;241m.\u001b[39mstdout\n",
      "File \u001b[0;32m~/opt/anaconda3/envs/env-IDS2022-23/lib/python3.9/site-packages/graphviz/backend/execute.py:84\u001b[0m, in \u001b[0;36mrun_check\u001b[0;34m(cmd, input_lines, encoding, quiet, **kwargs)\u001b[0m\n\u001b[1;32m     82\u001b[0m \u001b[38;5;28;01mexcept\u001b[39;00m \u001b[38;5;167;01mOSError\u001b[39;00m \u001b[38;5;28;01mas\u001b[39;00m e:\n\u001b[1;32m     83\u001b[0m     \u001b[38;5;28;01mif\u001b[39;00m e\u001b[38;5;241m.\u001b[39merrno \u001b[38;5;241m==\u001b[39m errno\u001b[38;5;241m.\u001b[39mENOENT:\n\u001b[0;32m---> 84\u001b[0m         \u001b[38;5;28;01mraise\u001b[39;00m ExecutableNotFound(cmd) \u001b[38;5;28;01mfrom\u001b[39;00m \u001b[38;5;21;01me\u001b[39;00m\n\u001b[1;32m     85\u001b[0m     \u001b[38;5;28;01mraise\u001b[39;00m\n\u001b[1;32m     87\u001b[0m \u001b[38;5;28;01mif\u001b[39;00m \u001b[38;5;129;01mnot\u001b[39;00m quiet \u001b[38;5;129;01mand\u001b[39;00m proc\u001b[38;5;241m.\u001b[39mstderr:\n",
      "\u001b[0;31mExecutableNotFound\u001b[0m: failed to execute PosixPath('dot'), make sure the Graphviz executables are on your systems' PATH"
     ]
    },
    {
     "data": {
      "text/plain": [
       "<graphviz.graphs.Digraph at 0x7fd8eb81d370>"
      ]
     },
     "metadata": {},
     "output_type": "display_data"
    }
   ],
   "source": [
    "display(dot)"
   ]
  },
  {
   "cell_type": "code",
   "execution_count": 14,
   "id": "6a779d60",
   "metadata": {
    "collapsed": true,
    "id": "ly3THPi7PdLJ"
   },
   "outputs": [
    {
     "name": "stdout",
     "output_type": "stream",
     "text": [
      "You either have not installed the 'dot' to visualize the decision tree or the reulted .pdf file is open!\n",
      "// Decision Tree\n",
      "digraph {\n",
      "\troot [label=\"number rooms\"]\n",
      "\t0.44713122607722144 [label=1]\n",
      "\troot -> 0.44713122607722144\n",
      "\t0.8783727704311004 [label=\"room type\"]\n",
      "\t0.44713122607722144 -> 0.8783727704311004\n",
      "\t0.5938071867537504 [label=2]\n",
      "\troot -> 0.5938071867537504\n",
      "\t0.4927560925281179 [label=\"neighborhood group\"]\n",
      "\t0.5938071867537504 -> 0.4927560925281179\n",
      "\t0.521657095399667 [label=4]\n",
      "\troot -> 0.521657095399667\n",
      "\t0.6708118746019147 [label=\"neighborhood group\"]\n",
      "\t0.521657095399667 -> 0.6708118746019147\n",
      "\t0.492888717682024 [label=3]\n",
      "\troot -> 0.492888717682024\n",
      "\t0.22064282689256554 [label=\"neighborhood group\"]\n",
      "\t0.492888717682024 -> 0.22064282689256554\n",
      "\t0.8783727704311004 [label=\"room type\"]\n",
      "\t0.2794219883031127 [label=\"Private room\"]\n",
      "\t0.8783727704311004 -> 0.2794219883031127\n",
      "\t0.6232615327283059 [label=\"neighborhood group\"]\n",
      "\t0.2794219883031127 -> 0.6232615327283059\n",
      "\t0.5022837979508602 [label=\"Shared room\"]\n",
      "\t0.8783727704311004 -> 0.5022837979508602\n",
      "\t0.5001693640113392 [label=\"neighborhood group\"]\n",
      "\t0.5022837979508602 -> 0.5001693640113392\n",
      "\t0.8476671386365386 [label=\"Entire home/apt\"]\n",
      "\t0.8783727704311004 -> 0.8476671386365386\n",
      "\t0.6645448478501036 [label=\"neighborhood group\"]\n",
      "\t0.8476671386365386 -> 0.6645448478501036\n",
      "\t0.32055098313900954 [label=\"Hotel room\"]\n",
      "\t0.8783727704311004 -> 0.32055098313900954\n",
      "\t0.3241584574221741 [label=\"neighborhood group\"]\n",
      "\t0.32055098313900954 -> 0.3241584574221741\n",
      "\t0.4927560925281179 [label=\"neighborhood group\"]\n",
      "\t0.5015658985291439 [label=Brooklyn]\n",
      "\t0.4927560925281179 -> 0.5015658985291439\n",
      "\t0.10735086008020112 [label=\"room type\"]\n",
      "\t0.5015658985291439 -> 0.10735086008020112\n",
      "\t0.9912961581771721 [label=Queens]\n",
      "\t0.4927560925281179 -> 0.9912961581771721\n",
      "\t0.7794654861471964 [label=\"room type\"]\n",
      "\t0.9912961581771721 -> 0.7794654861471964\n",
      "\t0.16674099798854214 [label=Manhattan]\n",
      "\t0.4927560925281179 -> 0.16674099798854214\n",
      "\t0.7010401946991893 [label=\"room type\"]\n",
      "\t0.16674099798854214 -> 0.7010401946991893\n",
      "\t0.39481173692015503 [label=Bronx]\n",
      "\t0.4927560925281179 -> 0.39481173692015503\n",
      "\t0.2346934542461223 [label=\"room type\"]\n",
      "\t0.39481173692015503 -> 0.2346934542461223\n",
      "\t0.7759305107358228 [label=\"Staten Island\"]\n",
      "\t0.4927560925281179 -> 0.7759305107358228\n",
      "\t0.5222135922482641 [label=\"room type\"]\n",
      "\t0.7759305107358228 -> 0.5222135922482641\n",
      "\t0.6708118746019147 [label=\"neighborhood group\"]\n",
      "\t0.011554476779107481 [label=Brooklyn]\n",
      "\t0.6708118746019147 -> 0.011554476779107481\n",
      "\t0.07518261275568283 [label=\"room type\"]\n",
      "\t0.011554476779107481 -> 0.07518261275568283\n",
      "\t0.8108007999428013 [label=Manhattan]\n",
      "\t0.6708118746019147 -> 0.8108007999428013\n",
      "\t0.07001412857267197 [label=\"room type\"]\n",
      "\t0.8108007999428013 -> 0.07001412857267197\n",
      "\t0.04747543509962626 [label=Bronx]\n",
      "\t0.6708118746019147 -> 0.04747543509962626\n",
      "\t0.5007540203270577 [label=\"room type\"]\n",
      "\t0.04747543509962626 -> 0.5007540203270577\n",
      "\t0.6137534403530605 [label=\"Staten Island\"]\n",
      "\t0.6708118746019147 -> 0.6137534403530605\n",
      "\t0.9460529828521269 [label=\"room type\"]\n",
      "\t0.6137534403530605 -> 0.9460529828521269\n",
      "\t0.7731863800305536 [label=Queens]\n",
      "\t0.6708118746019147 -> 0.7731863800305536\n",
      "\t0.3206009014376736 [label=\"room type\"]\n",
      "\t0.7731863800305536 -> 0.3206009014376736\n",
      "\t0.22064282689256554 [label=\"neighborhood group\"]\n",
      "\t0.6503234388619803 [label=Brooklyn]\n",
      "\t0.22064282689256554 -> 0.6503234388619803\n",
      "\t0.23090083920042315 [label=\"room type\"]\n",
      "\t0.6503234388619803 -> 0.23090083920042315\n",
      "\t0.27245337083775634 [label=Manhattan]\n",
      "\t0.22064282689256554 -> 0.27245337083775634\n",
      "\t0.5112645882923884 [label=\"room type\"]\n",
      "\t0.27245337083775634 -> 0.5112645882923884\n",
      "\t0.009113278686676995 [label=Queens]\n",
      "\t0.22064282689256554 -> 0.009113278686676995\n",
      "\t0.4954064241270246 [label=\"room type\"]\n",
      "\t0.009113278686676995 -> 0.4954064241270246\n",
      "\t0.5966172343353666 [label=Bronx]\n",
      "\t0.22064282689256554 -> 0.5966172343353666\n",
      "\t0.6787505530769171 [label=\"room type\"]\n",
      "\t0.5966172343353666 -> 0.6787505530769171\n",
      "\t0.5357427481004305 [label=\"Staten Island\"]\n",
      "\t0.22064282689256554 -> 0.5357427481004305\n",
      "\t0.1866571674227484 [label=\"room type\"]\n",
      "\t0.5357427481004305 -> 0.1866571674227484\n",
      "\t0.6232615327283059 [label=\"neighborhood group\"]\n",
      "\t0.5617334151288134 [label=Manhattan]\n",
      "\t0.6232615327283059 -> 0.5617334151288134\n",
      "\t0.6999216414213066 [label=\"(400, 600]\"]\n",
      "\t0.5617334151288134 -> 0.6999216414213066\n",
      "\t0.344580420751032 [label=Brooklyn]\n",
      "\t0.6232615327283059 -> 0.344580420751032\n",
      "\t0.7813605903489554 [label=\"(400, 600]\"]\n",
      "\t0.344580420751032 -> 0.7813605903489554\n",
      "\t0.21010371672090655 [label=Queens]\n",
      "\t0.6232615327283059 -> 0.21010371672090655\n",
      "\t0.9214279670190002 [label=\"(200, 400]\"]\n",
      "\t0.21010371672090655 -> 0.9214279670190002\n",
      "\t0.026508074625900324 [label=Bronx]\n",
      "\t0.6232615327283059 -> 0.026508074625900324\n",
      "\t0.8477134273647627 [label=\"(600, 800]\"]\n",
      "\t0.026508074625900324 -> 0.8477134273647627\n",
      "\t0.16028114787866665 [label=\"Staten Island\"]\n",
      "\t0.6232615327283059 -> 0.16028114787866665\n",
      "\t0.5929981048063723 [label=\"(400, 600]\"]\n",
      "\t0.16028114787866665 -> 0.5929981048063723\n",
      "\t0.5001693640113392 [label=\"neighborhood group\"]\n",
      "\t0.7193910501396905 [label=Queens]\n",
      "\t0.5001693640113392 -> 0.7193910501396905\n",
      "\t0.4680771190442016 [label=\"(600, 800]\"]\n",
      "\t0.7193910501396905 -> 0.4680771190442016\n",
      "\t0.6048350137733197 [label=Manhattan]\n",
      "\t0.5001693640113392 -> 0.6048350137733197\n",
      "\t0.9863380233056078 [label=\"(1000, 1200]\"]\n",
      "\t0.6048350137733197 -> 0.9863380233056078\n",
      "\t0.6640231782726147 [label=\"Staten Island\"]\n",
      "\t0.5001693640113392 -> 0.6640231782726147\n",
      "\t0.3435684542805917 [label=\"(600, 800]\"]\n",
      "\t0.6640231782726147 -> 0.3435684542805917\n",
      "\t0.9701911082336823 [label=Brooklyn]\n",
      "\t0.5001693640113392 -> 0.9701911082336823\n",
      "\t0.9363005221612636 [label=\"(200, 400]\"]\n",
      "\t0.9701911082336823 -> 0.9363005221612636\n",
      "\t0.6969460196745925 [label=Bronx]\n",
      "\t0.5001693640113392 -> 0.6969460196745925\n",
      "\t0.5653218992560086 [label=\"(200, 400]\"]\n",
      "\t0.6969460196745925 -> 0.5653218992560086\n",
      "\t0.6645448478501036 [label=\"neighborhood group\"]\n",
      "\t0.6732569441088879 [label=Brooklyn]\n",
      "\t0.6645448478501036 -> 0.6732569441088879\n",
      "\t0.0884877947996695 [label=\"(200, 400]\"]\n",
      "\t0.6732569441088879 -> 0.0884877947996695\n",
      "\t0.2473575325866526 [label=Manhattan]\n",
      "\t0.6645448478501036 -> 0.2473575325866526\n",
      "\t0.3316784020786475 [label=\"(200, 400]\"]\n",
      "\t0.2473575325866526 -> 0.3316784020786475\n",
      "\t0.08505618674958781 [label=Queens]\n",
      "\t0.6645448478501036 -> 0.08505618674958781\n",
      "\t0.6852423688062034 [label=\"(200, 400]\"]\n",
      "\t0.08505618674958781 -> 0.6852423688062034\n",
      "\t0.8402886955257255 [label=\"Staten Island\"]\n",
      "\t0.6645448478501036 -> 0.8402886955257255\n",
      "\t0.70750698076188 [label=\"(200, 400]\"]\n",
      "\t0.8402886955257255 -> 0.70750698076188\n",
      "\t0.3149425779403251 [label=Bronx]\n",
      "\t0.6645448478501036 -> 0.3149425779403251\n",
      "\t0.8114703017161764 [label=\"(200, 400]\"]\n",
      "\t0.3149425779403251 -> 0.8114703017161764\n",
      "\t0.3241584574221741 [label=\"neighborhood group\"]\n",
      "\t0.8770267150522417 [label=Manhattan]\n",
      "\t0.3241584574221741 -> 0.8770267150522417\n",
      "\t0.18841726794608138 [label=\"(400, 600]\"]\n",
      "\t0.8770267150522417 -> 0.18841726794608138\n",
      "\t0.20538220781184013 [label=Queens]\n",
      "\t0.3241584574221741 -> 0.20538220781184013\n",
      "\t0.19617067511955566 [label=\"(200, 400]\"]\n",
      "\t0.20538220781184013 -> 0.19617067511955566\n",
      "\t0.7778374682461043 [label=Brooklyn]\n",
      "\t0.3241584574221741 -> 0.7778374682461043\n",
      "\t0.5504827659925171 [label=\"(800, 1000]\"]\n",
      "\t0.7778374682461043 -> 0.5504827659925171\n",
      "\t0.10735086008020112 [label=\"room type\"]\n",
      "\t0.8805131183211412 [label=\"Entire home/apt\"]\n",
      "\t0.10735086008020112 -> 0.8805131183211412\n",
      "\t0.11064400819623621 [label=\"(600, 800]\"]\n",
      "\t0.8805131183211412 -> 0.11064400819623621\n",
      "\t0.7794654861471964 [label=\"room type\"]\n",
      "\t0.7614078097498636 [label=\"Entire home/apt\"]\n",
      "\t0.7794654861471964 -> 0.7614078097498636\n",
      "\t0.3964408425657773 [label=\"(600, 800]\"]\n",
      "\t0.7614078097498636 -> 0.3964408425657773\n",
      "\t0.7010401946991893 [label=\"room type\"]\n",
      "\t0.3031053499210584 [label=\"Entire home/apt\"]\n",
      "\t0.7010401946991893 -> 0.3031053499210584\n",
      "\t0.5702789104672921 [label=\"(600, 800]\"]\n",
      "\t0.3031053499210584 -> 0.5702789104672921\n",
      "\t0.2346934542461223 [label=\"room type\"]\n",
      "\t0.2773643738231517 [label=\"Entire home/apt\"]\n",
      "\t0.2346934542461223 -> 0.2773643738231517\n",
      "\t0.9058756914114157 [label=\"(600, 800]\"]\n",
      "\t0.2773643738231517 -> 0.9058756914114157\n",
      "\t0.5222135922482641 [label=\"room type\"]\n",
      "\t0.44852842448832053 [label=\"Entire home/apt\"]\n",
      "\t0.5222135922482641 -> 0.44852842448832053\n",
      "\t0.7535002505102172 [label=\"(600, 800]\"]\n",
      "\t0.44852842448832053 -> 0.7535002505102172\n",
      "\t0.07518261275568283 [label=\"room type\"]\n",
      "\t0.36633610501878067 [label=\"Entire home/apt\"]\n",
      "\t0.07518261275568283 -> 0.36633610501878067\n",
      "\t0.928309474412912 [label=\"(1000, 1200]\"]\n",
      "\t0.36633610501878067 -> 0.928309474412912\n",
      "\t0.07001412857267197 [label=\"room type\"]\n",
      "\t0.6947365270713681 [label=\"Entire home/apt\"]\n",
      "\t0.07001412857267197 -> 0.6947365270713681\n",
      "\t0.38098638398153606 [label=\"(1000, 1200]\"]\n",
      "\t0.6947365270713681 -> 0.38098638398153606\n",
      "\t0.5007540203270577 [label=\"room type\"]\n",
      "\t0.5102120356135771 [label=\"Entire home/apt\"]\n",
      "\t0.5007540203270577 -> 0.5102120356135771\n",
      "\t0.43114390671724134 [label=\"(1000, 1200]\"]\n",
      "\t0.5102120356135771 -> 0.43114390671724134\n",
      "\t0.9460529828521269 [label=\"room type\"]\n",
      "\t0.579469434383318 [label=\"Entire home/apt\"]\n",
      "\t0.9460529828521269 -> 0.579469434383318\n",
      "\t0.6309922077879132 [label=\"(1000, 1200]\"]\n",
      "\t0.579469434383318 -> 0.6309922077879132\n",
      "\t0.3206009014376736 [label=\"room type\"]\n",
      "\t0.6089840917014805 [label=\"Entire home/apt\"]\n",
      "\t0.3206009014376736 -> 0.6089840917014805\n",
      "\t0.008418428460067351 [label=\"(1000, 1200]\"]\n",
      "\t0.6089840917014805 -> 0.008418428460067351\n",
      "\t0.23090083920042315 [label=\"room type\"]\n",
      "\t0.35237460766498807 [label=\"Entire home/apt\"]\n",
      "\t0.23090083920042315 -> 0.35237460766498807\n",
      "\t0.1707837536207808 [label=\"(800, 1000]\"]\n",
      "\t0.35237460766498807 -> 0.1707837536207808\n",
      "\t0.5112645882923884 [label=\"room type\"]\n",
      "\t0.1657526756965687 [label=\"Entire home/apt\"]\n",
      "\t0.5112645882923884 -> 0.1657526756965687\n",
      "\t0.37800791419479474 [label=\"(1000, 1200]\"]\n",
      "\t0.1657526756965687 -> 0.37800791419479474\n",
      "\t0.4954064241270246 [label=\"room type\"]\n",
      "\t0.4184772838947549 [label=\"Entire home/apt\"]\n",
      "\t0.4954064241270246 -> 0.4184772838947549\n",
      "\t0.6812856596512787 [label=\"(800, 1000]\"]\n",
      "\t0.4184772838947549 -> 0.6812856596512787\n",
      "\t0.6787505530769171 [label=\"room type\"]\n",
      "\t0.6702976207455184 [label=\"Entire home/apt\"]\n",
      "\t0.6787505530769171 -> 0.6702976207455184\n",
      "\t0.9063073596482374 [label=\"(800, 1000]\"]\n",
      "\t0.6702976207455184 -> 0.9063073596482374\n",
      "\t0.1866571674227484 [label=\"room type\"]\n",
      "\t0.0752697711196445 [label=\"Entire home/apt\"]\n",
      "\t0.1866571674227484 -> 0.0752697711196445\n",
      "\t0.6799725230117707 [label=\"(800, 1000]\"]\n",
      "\t0.0752697711196445 -> 0.6799725230117707\n",
      "}\n",
      "\n",
      "System entropy:  2.5769427958177795\n"
     ]
    }
   ],
   "source": [
    "# Your answer goes here\n",
    "decisionTree = DecisionTree(data_descriptive.tolist(), descriptive_features.tolist(), data_label.tolist(), \"entropy\")\n",
    "\n",
    "#Here you can pass pruning features (gain_threshold and minimum_samples)\n",
    "decisionTree.id3(0,0)\n",
    "\n",
    "#Visualizing decision tree by Graphviz\n",
    "dot = decisionTree.print_visualTree( render=True )\n",
    "\n",
    "print(dot)\n",
    "\n",
    "print(\"System entropy: \", format(decisionTree.entropy))"
   ]
  },
  {
   "cell_type": "markdown",
   "id": "ddc5527b",
   "metadata": {
    "id": "ddc5527b"
   },
   "source": [
    "What is the first feature the decision tree splits on?"
   ]
  },
  {
   "cell_type": "markdown",
   "id": "dedb90c3",
   "metadata": {
    "id": "dedb90c3"
   },
   "source": [
    "_Answer:_\n",
    "\n",
    "'Number rooms'"
   ]
  },
  {
   "cell_type": "markdown",
   "id": "604f3229",
   "metadata": {
    "id": "604f3229"
   },
   "source": [
    "Since it doesn't make sense to set a price range for renting a room, we need to fix a price. For simplicity, we use the means of the bins, i.e., 125, 300, 500, 700, 900, and 1100. For example, if a room were categorized in the bin (200, 400], it would have the price of 300.\n",
    "\n",
    "What prices are possible given your decision tree for:\n",
    "\n",
    "- Manhattan, 1-room, Private room\n",
    "- Staten Island, 1-room, Shared room"
   ]
  },
  {
   "cell_type": "markdown",
   "id": "75fc9049",
   "metadata": {
    "id": "dedb90c3"
   },
   "source": [
    "_Answer:_\n",
    "\n"
   ]
  },
  {
   "cell_type": "markdown",
   "id": "gXRYGEa5QwCC",
   "metadata": {
    "id": "gXRYGEa5QwCC"
   },
   "source": [
    "What is the proposed price of the decision tree for our apartment? Store it in a variable for later usage."
   ]
  },
  {
   "cell_type": "code",
   "execution_count": 20,
   "id": "e2a17248",
   "metadata": {
    "id": "ly3THPi7PdLJ"
   },
   "outputs": [],
   "source": [
    "# Your answer goes here\n"
   ]
  },
  {
   "cell_type": "markdown",
   "id": "d7b71ded",
   "metadata": {
    "id": "d7b71ded"
   },
   "source": [
    "To evaluate how good our decision tree is for determining price categories, we want to measure the error of the predictions on the test set. To do so, the IDS team provided you helper functions below."
   ]
  },
  {
   "cell_type": "code",
   "execution_count": 36,
   "id": "ywjosLTaa8sY",
   "metadata": {
    "id": "ywjosLTaa8sY"
   },
   "outputs": [],
   "source": [
    "import pydot\n",
    "import pydotplus,networkx\n",
    "def get_name_value_dict(graph):\n",
    "    id_label_dict = {}\n",
    "    root = decisionTree.root\n",
    "    visited = set() # Set to keep track of visited nodes of graph.\n",
    "\n",
    "    def dfs(visited, graph, node):#function for dfs \n",
    "        id_label_dict[node.name] = node.value\n",
    "        if node not in visited:\n",
    "            if node.next:\n",
    "                id_label_dict[node.next.name] = node.next.value\n",
    "            visited.add(node)\n",
    "            if node.childs:\n",
    "                for child in node.childs:\n",
    "                    if child is not None:\n",
    "                        dfs(visited, graph, child)\n",
    "            elif node.next:\n",
    "                if node.next.childs:\n",
    "                    for child in node.next.childs:\n",
    "                        if child is not None:\n",
    "                            dfs(visited, graph, child)\n",
    "    dfs(visited, decisionTree, root)\n",
    "    return id_label_dict\n",
    "\n",
    "def get_predictor(tree):\n",
    "  id_label_dict = get_name_value_dict(tree)\n",
    "  dotplus = pydotplus.graph_from_dot_data(tree.source)\n",
    "  G = networkx.nx_pydot.from_pydot(dotplus)\n",
    "  root = [n for n,d in G.in_degree() if d==0][0]\n",
    "  paths = []\n",
    "  for node in G:\n",
    "      if G.out_degree(node)==0: #it's a leaf\n",
    "          paths.append(networkx.shortest_path(G, root, node))\n",
    "  new_paths = []\n",
    "  for path in paths:\n",
    "      for name, value in id_label_dict.items():\n",
    "          path = ([p.replace(name, value) for p in path])\n",
    "      new_paths.append(path)\n",
    "  predictor = {}\n",
    "  for path in new_paths.copy():\n",
    "    target = path[-1]\n",
    "    classification = tuple(path[:-1])\n",
    "    predictor[classification] = target\n",
    "  return predictor\n",
    "\n",
    "def get_prediction_features(predictor):\n",
    "    features = set()\n",
    "    for key in predictor:\n",
    "        i = 0\n",
    "        while i <= len(key)-2:\n",
    "            features.add(key[i])\n",
    "            i +=2\n",
    "    return features\n",
    "            \n",
    "def get_predicted_bin(instance, features, predictor):\n",
    "  feature_values = {}\n",
    "  for feature in features:\n",
    "      feature_values[feature] = instance[feature]\n",
    "  possible_paths = predictor.keys()\n",
    "  i=0\n",
    "  while i<=len(feature_values):\n",
    "    attribute = [path[i] for path in possible_paths][0]\n",
    "    if attribute in predictor.values():\n",
    "      break\n",
    "    feature_value = feature_values[attribute]\n",
    "    candidates = []\n",
    "    for el in possible_paths:\n",
    "      if str(el[i+1]) == str(feature_value):\n",
    "        candidates.append(el)\n",
    "    possible_paths = candidates.copy()\n",
    "    i+=2\n",
    "    \n",
    "  return predictor[list(possible_paths)[0]]\n",
    "\n",
    "\n",
    "\n",
    "### Dot is your visual decision tree. Adjust the naming if needed\n",
    "predictor = get_predictor(dot)\n",
    "features = get_prediction_features(predictor)"
   ]
  },
  {
   "cell_type": "markdown",
   "id": "05b8fad0",
   "metadata": {},
   "source": [
    "To predict the price bin for each instance of your test set, apply the function get_predicted_bin using the variables *predictor* and *features* provided above."
   ]
  },
  {
   "cell_type": "code",
   "execution_count": 47,
   "id": "04a9c317",
   "metadata": {},
   "outputs": [
    {
     "data": {
      "text/plain": [
       "'(600, 800]'"
      ]
     },
     "execution_count": 47,
     "metadata": {},
     "output_type": "execute_result"
    }
   ],
   "source": [
    "# Your answer goes here\n",
    "predictor = get_predictor(dot)\n",
    "features = get_prediction_features(predictor)\n",
    "testset= X_test2.iloc[10]\n",
    "get_predicted_bin(instance = testset,predictor = predictor, features = features)"
   ]
  },
  {
   "cell_type": "markdown",
   "id": "tErBbNh62NdR",
   "metadata": {
    "id": "tErBbNh62NdR"
   },
   "source": [
    "You predicted a price range for AirBnBs in your test set. However, since you cannot enter a price range for renting an apartment, we have to map the range of bins to one value. To do so, we use the mean of bins, as explained before, to predict the price. Given that, compute the mean absolute error between the prediction from the decision tree and the real price provided in the dataset. What is the mean absolute error?"
   ]
  },
  {
   "cell_type": "code",
   "execution_count": 17,
   "id": "4e4a988f",
   "metadata": {
    "id": "ly3THPi7PdLJ"
   },
   "outputs": [],
   "source": [
    "# Your answer goes here\n"
   ]
  },
  {
   "cell_type": "markdown",
   "id": "4e0d4040-8285-41d8-9da7-547127f999ce",
   "metadata": {
    "id": "4e0d4040-8285-41d8-9da7-547127f999ce"
   },
   "source": [
    "## Clustering"
   ]
  },
  {
   "cell_type": "markdown",
   "id": "8bae6185",
   "metadata": {
    "id": "8bae6185"
   },
   "source": [
    "Another way to do comparables pricing is to find similar apartments using clustering. Each calculated cluster represents one or more similar apartments in the dataset. For each cluster, you calculate the mean price as a representative price. To predict the price for new apartments, you assign them to an existing cluster and give the mean price as prediction.\n",
    "\n",
    "Use the same features you used in the decision tree for the clustering as well (**number rooms, neighborhood group, room type**), and remember that your dataset is still split into a training and test set.\n",
    "\n",
    "In this task, you will use the k-means algorithm.\n",
    "*Note: To keep results comparable, please use 100 for random state and n_init when initializing the clustering algorithm. Also, remember to use the same test and training set as in the previous tasks to compare performances.*"
   ]
  },
  {
   "cell_type": "markdown",
   "id": "bHmkuRpS-pjY",
   "metadata": {
    "id": "bHmkuRpS-pjY"
   },
   "source": [
    "### Encoding "
   ]
  },
  {
   "cell_type": "markdown",
   "id": "TjuIWkKM1ylm",
   "metadata": {
    "id": "TjuIWkKM1ylm"
   },
   "source": [
    "K-means tries to calculate the distance between different data points. Since some of the features you want to use are not numeric, apply one-hot encoding to be able to use distance measures. Use the preprocessing module of sklearn to prepare your dataset for clustering."
   ]
  },
  {
   "cell_type": "code",
   "execution_count": 24,
   "id": "b6285240",
   "metadata": {
    "id": "ly3THPi7PdLJ"
   },
   "outputs": [],
   "source": [
    "# Your answer goes here\n"
   ]
  },
  {
   "cell_type": "markdown",
   "id": "LYtN1tb8-0Yf",
   "metadata": {
    "id": "LYtN1tb8-0Yf"
   },
   "source": [
    "### Choosing number of clusters"
   ]
  },
  {
   "cell_type": "markdown",
   "id": "a58f00cf",
   "metadata": {
    "id": "a58f00cf"
   },
   "source": [
    "In k-means, the number of wanted clusters is a parameter one can decide on. Since this is information you do not have at this time, you choose to use the data to decide.\n",
    "\n",
    "You cluster on the training dataset by using `k` number of clusters where `k` is between 4 and 15. Since you are interested in the price, for each clustering, you calculate the **standard deviation of the mean prices for the clusters**. Therefore, for each clustering:\n",
    "1. Calculate the mean price for each of the resulting clusters.\n",
    "2. Calculate the standard deviation of the mean prices calculated in 1.\n",
    "\n",
    "Plot a diagram where on the `x-axis` you will have the *number of clusters used* and on the `y-axis` the *standard deviation of the means*.\n",
    "\n",
    "In your opinion, which amount of clusters makes more sense? Explain your answer."
   ]
  },
  {
   "cell_type": "code",
   "execution_count": 18,
   "id": "cf32d53e",
   "metadata": {
    "id": "ly3THPi7PdLJ"
   },
   "outputs": [],
   "source": [
    "# Your answer goes here\n"
   ]
  },
  {
   "cell_type": "markdown",
   "id": "79a62a5b",
   "metadata": {},
   "source": [
    "_Answer:_\n",
    "\n"
   ]
  },
  {
   "cell_type": "markdown",
   "id": "8047129d",
   "metadata": {
    "id": "8047129d"
   },
   "source": [
    "**Note:** No matter the conclusion made in the previous task, from now on, you use the clustering model with **9 clusters** for predicting the price for your apartment and evaluating the clustering technique."
   ]
  },
  {
   "cell_type": "markdown",
   "id": "cd39a5ea",
   "metadata": {},
   "source": [
    "### Pricing your apartment\n",
    "\n",
    "To predict the price for your apartment, calculate in which cluster your apartment would be and use the mean value of the cluster as a possible price."
   ]
  },
  {
   "cell_type": "code",
   "execution_count": 19,
   "id": "50a772aa",
   "metadata": {
    "id": "ly3THPi7PdLJ"
   },
   "outputs": [],
   "source": [
    "# Your answer goes here\n",
    "# cluster for 9 clusters\n"
   ]
  },
  {
   "cell_type": "markdown",
   "id": "_MyMuKLPVihY",
   "metadata": {
    "id": "_MyMuKLPVihY"
   },
   "source": [
    "### Evaluating clustering\n",
    "\n",
    "You want to evaluate how well your clustering worked. In your case, two things can be evaluated:\n",
    "\n",
    "1.   Whether the clustering technique can group similar apartments together\n",
    "2.   Whether other people determine the price of their apartment as you did, meaning whether similar apartments get a similar price"
   ]
  },
  {
   "cell_type": "markdown",
   "id": "O3VJSoR9VseI",
   "metadata": {
    "id": "O3VJSoR9VseI"
   },
   "source": [
    "You are going to evaluate the clustering technique visually. The IDS team provides you with the following fancy code that reduces your input to two dimensions."
   ]
  },
  {
   "cell_type": "code",
   "execution_count": null,
   "id": "IaMFg-ogVvpZ",
   "metadata": {
    "colab": {
     "base_uri": "https://localhost:8080/"
    },
    "id": "IaMFg-ogVvpZ",
    "outputId": "36e6a0f2-75fb-4331-8337-c3c9fa893e02"
   },
   "outputs": [],
   "source": [
    "import umap.umap_ as umap\n",
    "\n",
    "#Preprocessing numerical\n",
    "full_data = x_train # use the train dataset here\n",
    "numerical = full_data.select_dtypes(exclude='object')\n",
    "\n",
    "for c in numerical.columns:\n",
    "    pt = sklearn.preprocessing.PowerTransformer()\n",
    "    numerical.loc[:, c] = pt.fit_transform(np.array(numerical[c]).reshape(-1, 1))\n",
    "    \n",
    "##preprocessing categorical\n",
    "categorical = full_data.select_dtypes(include='object')\n",
    "categorical = pd.get_dummies(categorical)\n",
    "\n",
    "#Percentage of columns which are categorical is used as weight parameter in embeddings later\n",
    "categorical_weight = len(full_data.select_dtypes(include='object').columns) / full_data.shape[1]\n",
    "\n",
    "#Embedding numerical & categorical\n",
    "fit1 = umap.UMAP(metric='l2').fit(numerical)\n",
    "fit2 = umap.UMAP(metric='dice').fit(categorical)\n",
    "\n",
    "#Augmenting the numerical embedding with categorical\n",
    "intersection = umap.general_simplicial_set_intersection(fit1.graph_, fit2.graph_, weight=categorical_weight)\n",
    "intersection = umap.reset_local_connectivity(intersection)\n",
    "embedding = umap.simplicial_set_embedding(fit1._raw_data, intersection, fit1.n_components,\n",
    "                                                fit1._initial_alpha, fit1._a, fit1._b,\n",
    "                                                fit1.repulsion_strength, fit1.negative_sample_rate,\n",
    "                                                200, 'random', np.random, fit1.metric,\n",
    "                                                fit1._metric_kwds, False, {}, False)\n",
    "\n",
    "# Extracting the resulting dimensions\n",
    "dimension1 = embedding[0].T[0]\n",
    "dimension2 = embedding[0].T[1]"
   ]
  },
  {
   "cell_type": "markdown",
   "id": "1ea842d4",
   "metadata": {},
   "source": [
    "Create a scatter plot from the two dimensions and use the cluster labels for coloring the data points. Use the train set for the visualization. Discuss the result."
   ]
  },
  {
   "cell_type": "code",
   "execution_count": 20,
   "id": "f319f3d2",
   "metadata": {
    "id": "ly3THPi7PdLJ"
   },
   "outputs": [],
   "source": [
    "# Your answer goes here\n"
   ]
  },
  {
   "cell_type": "markdown",
   "id": "1c822564",
   "metadata": {},
   "source": [
    "_Answer:_\n",
    "\n"
   ]
  },
  {
   "cell_type": "markdown",
   "id": "EFNtFLuyV7yQ",
   "metadata": {
    "id": "EFNtFLuyV7yQ"
   },
   "source": [
    "We next evaluate whether similar apartments (considering the attributes we chose) get similar prices. To do this, we use our test set. Assign each apartment of the test set to the nearest centroid. Predict the price of the apartments in the test set by taking the mean price of the cluster they was assigned to. Calculate the mean absolute error between the predicted and real prices."
   ]
  },
  {
   "cell_type": "code",
   "execution_count": 3,
   "id": "cf6ae627",
   "metadata": {
    "id": "ly3THPi7PdLJ"
   },
   "outputs": [],
   "source": [
    "# Your answer goes here\n"
   ]
  },
  {
   "cell_type": "markdown",
   "id": "qxrtlduTBkRQ",
   "metadata": {
    "id": "qxrtlduTBkRQ"
   },
   "source": [
    "### Final comments on the price prediction\n",
    "\n",
    "Please compare the three approaches used for determining the price. Do they provide a good way of determining the price?"
   ]
  },
  {
   "cell_type": "markdown",
   "id": "93dedc80",
   "metadata": {},
   "source": [
    "_Answer:_\n",
    "\n"
   ]
  },
  {
   "cell_type": "markdown",
   "id": "a6797ffe-8983-42d2-891d-7df7d8f9fc85",
   "metadata": {
    "id": "a6797ffe-8983-42d2-891d-7df7d8f9fc85"
   },
   "source": [
    "## Question 3: Investigating Price Elasticity"
   ]
  },
  {
   "cell_type": "markdown",
   "id": "88ca941f-cdf0-45fa-b930-b55a21c71e86",
   "metadata": {
    "id": "88ca941f-cdf0-45fa-b930-b55a21c71e86"
   },
   "source": [
    "You show your results to Toby, excited about the price suggestions you got from the decision tree and clustering. You decide to take the higher price, which naturally means more income.\n",
    "\n",
    "However, he points you to one central flaw in your thinking: The number of bookings is not independent of the price. Therefore, you can not just take any price and assume that this will lead to more income than a lower price, as the demand (utilization) for your apartment might decrease. This is called **price elasticity**.\n",
    "\n",
    "You want to verify what Toby has been telling you. You extracted the utilization column of your dataset by grabbing the available data from AirBnB's calendar (smart!). The utilization values are contained in dataset **AirBnB_utilization.csv**. **Show several graphs investigating price elasticity.** For example, you might plot the utilization in relation to the price and color according to different variable values. \n",
    "After you have verified Toby's statements, you want to learn price elasticity from the dataset (the utilization of an apartment given the price, the number of rooms, the room type, and the neighborhood group, i.e., the same features as before). With the learned price elasticity, you want to evaluate which of the proposed prices (decision tree or clustering) is the better choice."
   ]
  },
  {
   "cell_type": "code",
   "execution_count": 3,
   "id": "14e26b23",
   "metadata": {
    "id": "ly3THPi7PdLJ"
   },
   "outputs": [],
   "source": [
    "# Your answer goes here\n",
    "data = pd.read_csv('AirBnB_utilization.csv')\n",
    "#data.head()"
   ]
  },
  {
   "cell_type": "code",
   "execution_count": 3,
   "id": "277c090a",
   "metadata": {},
   "outputs": [
    {
     "data": {
      "text/html": [
       "<div>\n",
       "<style scoped>\n",
       "    .dataframe tbody tr th:only-of-type {\n",
       "        vertical-align: middle;\n",
       "    }\n",
       "\n",
       "    .dataframe tbody tr th {\n",
       "        vertical-align: top;\n",
       "    }\n",
       "\n",
       "    .dataframe thead th {\n",
       "        text-align: right;\n",
       "    }\n",
       "</style>\n",
       "<table border=\"1\" class=\"dataframe\">\n",
       "  <thead>\n",
       "    <tr style=\"text-align: right;\">\n",
       "      <th></th>\n",
       "      <th>id</th>\n",
       "      <th>number rooms</th>\n",
       "      <th>room type</th>\n",
       "      <th>neighborhood group</th>\n",
       "      <th>price</th>\n",
       "      <th>utilization</th>\n",
       "    </tr>\n",
       "  </thead>\n",
       "  <tbody>\n",
       "    <tr>\n",
       "      <th>0</th>\n",
       "      <td>1002102</td>\n",
       "      <td>1</td>\n",
       "      <td>Entire home/apt</td>\n",
       "      <td>Manhattan</td>\n",
       "      <td>142</td>\n",
       "      <td>305.263673</td>\n",
       "    </tr>\n",
       "    <tr>\n",
       "      <th>1</th>\n",
       "      <td>1002403</td>\n",
       "      <td>1</td>\n",
       "      <td>Private room</td>\n",
       "      <td>Manhattan</td>\n",
       "      <td>620</td>\n",
       "      <td>86.294663</td>\n",
       "    </tr>\n",
       "    <tr>\n",
       "      <th>2</th>\n",
       "      <td>1002755</td>\n",
       "      <td>2</td>\n",
       "      <td>Entire home/apt</td>\n",
       "      <td>Brooklyn</td>\n",
       "      <td>368</td>\n",
       "      <td>129.287482</td>\n",
       "    </tr>\n",
       "    <tr>\n",
       "      <th>3</th>\n",
       "      <td>1003689</td>\n",
       "      <td>1</td>\n",
       "      <td>Entire home/apt</td>\n",
       "      <td>Manhattan</td>\n",
       "      <td>204</td>\n",
       "      <td>206.579601</td>\n",
       "    </tr>\n",
       "    <tr>\n",
       "      <th>4</th>\n",
       "      <td>1004650</td>\n",
       "      <td>1</td>\n",
       "      <td>Private room</td>\n",
       "      <td>Brooklyn</td>\n",
       "      <td>71</td>\n",
       "      <td>361.000000</td>\n",
       "    </tr>\n",
       "  </tbody>\n",
       "</table>\n",
       "</div>"
      ],
      "text/plain": [
       "        id  number rooms        room type neighborhood group  price  \\\n",
       "0  1002102             1  Entire home/apt          Manhattan    142   \n",
       "1  1002403             1     Private room          Manhattan    620   \n",
       "2  1002755             2  Entire home/apt           Brooklyn    368   \n",
       "3  1003689             1  Entire home/apt          Manhattan    204   \n",
       "4  1004650             1     Private room           Brooklyn     71   \n",
       "\n",
       "   utilization  \n",
       "0   305.263673  \n",
       "1    86.294663  \n",
       "2   129.287482  \n",
       "3   206.579601  \n",
       "4   361.000000  "
      ]
     },
     "execution_count": 3,
     "metadata": {},
     "output_type": "execute_result"
    }
   ],
   "source": [
    "data.head()"
   ]
  },
  {
   "cell_type": "code",
   "execution_count": 4,
   "id": "9dec988a",
   "metadata": {},
   "outputs": [
    {
     "data": {
      "text/html": [
       "<div>\n",
       "<style scoped>\n",
       "    .dataframe tbody tr th:only-of-type {\n",
       "        vertical-align: middle;\n",
       "    }\n",
       "\n",
       "    .dataframe tbody tr th {\n",
       "        vertical-align: top;\n",
       "    }\n",
       "\n",
       "    .dataframe thead th {\n",
       "        text-align: right;\n",
       "    }\n",
       "</style>\n",
       "<table border=\"1\" class=\"dataframe\">\n",
       "  <thead>\n",
       "    <tr style=\"text-align: right;\">\n",
       "      <th></th>\n",
       "      <th>id</th>\n",
       "      <th>price</th>\n",
       "    </tr>\n",
       "  </thead>\n",
       "  <tbody>\n",
       "    <tr>\n",
       "      <th>1</th>\n",
       "      <td>1002403</td>\n",
       "      <td>620</td>\n",
       "    </tr>\n",
       "    <tr>\n",
       "      <th>5</th>\n",
       "      <td>1005202</td>\n",
       "      <td>1060</td>\n",
       "    </tr>\n",
       "    <tr>\n",
       "      <th>10</th>\n",
       "      <td>1008516</td>\n",
       "      <td>580</td>\n",
       "    </tr>\n",
       "  </tbody>\n",
       "</table>\n",
       "</div>"
      ],
      "text/plain": [
       "         id  price\n",
       "1   1002403    620\n",
       "5   1005202   1060\n",
       "10  1008516    580"
      ]
     },
     "execution_count": 4,
     "metadata": {},
     "output_type": "execute_result"
    }
   ],
   "source": [
    "data.loc[[1,5,10],['id','price']]"
   ]
  },
  {
   "cell_type": "code",
   "execution_count": 9,
   "id": "2aa9f923",
   "metadata": {},
   "outputs": [
    {
     "data": {
      "text/html": [
       "<div>\n",
       "<style scoped>\n",
       "    .dataframe tbody tr th:only-of-type {\n",
       "        vertical-align: middle;\n",
       "    }\n",
       "\n",
       "    .dataframe tbody tr th {\n",
       "        vertical-align: top;\n",
       "    }\n",
       "\n",
       "    .dataframe thead th {\n",
       "        text-align: right;\n",
       "    }\n",
       "</style>\n",
       "<table border=\"1\" class=\"dataframe\">\n",
       "  <thead>\n",
       "    <tr style=\"text-align: right;\">\n",
       "      <th></th>\n",
       "      <th>id</th>\n",
       "      <th>number rooms</th>\n",
       "      <th>room type</th>\n",
       "      <th>neighborhood group</th>\n",
       "      <th>price</th>\n",
       "      <th>utilization</th>\n",
       "    </tr>\n",
       "  </thead>\n",
       "  <tbody>\n",
       "    <tr>\n",
       "      <th>0</th>\n",
       "      <td>1002102</td>\n",
       "      <td>1</td>\n",
       "      <td>Entire home/apt</td>\n",
       "      <td>Manhattan</td>\n",
       "      <td>142</td>\n",
       "      <td>305.263673</td>\n",
       "    </tr>\n",
       "    <tr>\n",
       "      <th>3</th>\n",
       "      <td>1003689</td>\n",
       "      <td>1</td>\n",
       "      <td>Entire home/apt</td>\n",
       "      <td>Manhattan</td>\n",
       "      <td>204</td>\n",
       "      <td>206.579601</td>\n",
       "    </tr>\n",
       "    <tr>\n",
       "      <th>4</th>\n",
       "      <td>1004650</td>\n",
       "      <td>1</td>\n",
       "      <td>Private room</td>\n",
       "      <td>Brooklyn</td>\n",
       "      <td>71</td>\n",
       "      <td>361.000000</td>\n",
       "    </tr>\n",
       "    <tr>\n",
       "      <th>11</th>\n",
       "      <td>1009068</td>\n",
       "      <td>1</td>\n",
       "      <td>Private room</td>\n",
       "      <td>Manhattan</td>\n",
       "      <td>149</td>\n",
       "      <td>242.661267</td>\n",
       "    </tr>\n",
       "    <tr>\n",
       "      <th>20</th>\n",
       "      <td>1062641</td>\n",
       "      <td>1</td>\n",
       "      <td>Private room</td>\n",
       "      <td>Manhattan</td>\n",
       "      <td>66</td>\n",
       "      <td>362.000000</td>\n",
       "    </tr>\n",
       "  </tbody>\n",
       "</table>\n",
       "</div>"
      ],
      "text/plain": [
       "         id  number rooms        room type neighborhood group  price  \\\n",
       "0   1002102             1  Entire home/apt          Manhattan    142   \n",
       "3   1003689             1  Entire home/apt          Manhattan    204   \n",
       "4   1004650             1     Private room           Brooklyn     71   \n",
       "11  1009068             1     Private room          Manhattan    149   \n",
       "20  1062641             1     Private room          Manhattan     66   \n",
       "\n",
       "    utilization  \n",
       "0    305.263673  \n",
       "3    206.579601  \n",
       "4    361.000000  \n",
       "11   242.661267  \n",
       "20   362.000000  "
      ]
     },
     "execution_count": 9,
     "metadata": {},
     "output_type": "execute_result"
    }
   ],
   "source": [
    "data.query('price < utilization').head()"
   ]
  },
  {
   "cell_type": "code",
   "execution_count": 31,
   "id": "a3e96cea",
   "metadata": {},
   "outputs": [
    {
     "data": {
      "text/plain": [
       "array(['Entire home/apt', 'Private room', 'Shared room', 'Hotel room'],\n",
       "      dtype=object)"
      ]
     },
     "execution_count": 31,
     "metadata": {},
     "output_type": "execute_result"
    }
   ],
   "source": [
    "data['room type'].unique()"
   ]
  },
  {
   "cell_type": "code",
   "execution_count": 28,
   "id": "af4eb701",
   "metadata": {},
   "outputs": [
    {
     "data": {
      "text/plain": [
       "110      35.5\n",
       "995      35.5\n",
       "1672     35.5\n",
       "2169     35.5\n",
       "2794     35.5\n",
       "         ... \n",
       "64667    35.5\n",
       "66027    35.5\n",
       "67055    35.5\n",
       "68750    35.5\n",
       "69422    35.5\n",
       "Name: new, Length: 70, dtype: float64"
      ]
     },
     "execution_count": 28,
     "metadata": {},
     "output_type": "execute_result"
    }
   ],
   "source": [
    "df = data\n",
    "df['new'] = df['price'].rank()\n",
    "df[df['new']<36]['new']"
   ]
  },
  {
   "cell_type": "code",
   "execution_count": 33,
   "id": "f50dbc25",
   "metadata": {},
   "outputs": [
    {
     "data": {
      "text/html": [
       "<div>\n",
       "<style scoped>\n",
       "    .dataframe tbody tr th:only-of-type {\n",
       "        vertical-align: middle;\n",
       "    }\n",
       "\n",
       "    .dataframe tbody tr th {\n",
       "        vertical-align: top;\n",
       "    }\n",
       "\n",
       "    .dataframe thead th {\n",
       "        text-align: right;\n",
       "    }\n",
       "</style>\n",
       "<table border=\"1\" class=\"dataframe\">\n",
       "  <thead>\n",
       "    <tr style=\"text-align: right;\">\n",
       "      <th></th>\n",
       "      <th>id</th>\n",
       "      <th>number rooms</th>\n",
       "      <th>room type</th>\n",
       "      <th>neighborhood group</th>\n",
       "      <th>price</th>\n",
       "      <th>utilization</th>\n",
       "      <th>new</th>\n",
       "    </tr>\n",
       "  </thead>\n",
       "  <tbody>\n",
       "    <tr>\n",
       "      <th>1</th>\n",
       "      <td>1002403</td>\n",
       "      <td>1</td>\n",
       "      <td>Private room</td>\n",
       "      <td>Manhattan</td>\n",
       "      <td>620</td>\n",
       "      <td>86.294663</td>\n",
       "      <td>35132.0</td>\n",
       "    </tr>\n",
       "    <tr>\n",
       "      <th>4</th>\n",
       "      <td>1004650</td>\n",
       "      <td>1</td>\n",
       "      <td>Private room</td>\n",
       "      <td>Brooklyn</td>\n",
       "      <td>71</td>\n",
       "      <td>361.000000</td>\n",
       "      <td>1248.5</td>\n",
       "    </tr>\n",
       "    <tr>\n",
       "      <th>5</th>\n",
       "      <td>1005202</td>\n",
       "      <td>1</td>\n",
       "      <td>Private room</td>\n",
       "      <td>Brooklyn</td>\n",
       "      <td>1060</td>\n",
       "      <td>25.844105</td>\n",
       "      <td>62178.5</td>\n",
       "    </tr>\n",
       "    <tr>\n",
       "      <th>6</th>\n",
       "      <td>1005754</td>\n",
       "      <td>1</td>\n",
       "      <td>Private room</td>\n",
       "      <td>Manhattan</td>\n",
       "      <td>1018</td>\n",
       "      <td>37.275220</td>\n",
       "      <td>59600.0</td>\n",
       "    </tr>\n",
       "    <tr>\n",
       "      <th>9</th>\n",
       "      <td>1007964</td>\n",
       "      <td>1</td>\n",
       "      <td>Private room</td>\n",
       "      <td>Manhattan</td>\n",
       "      <td>714</td>\n",
       "      <td>84.469221</td>\n",
       "      <td>40992.5</td>\n",
       "    </tr>\n",
       "    <tr>\n",
       "      <th>...</th>\n",
       "      <td>...</td>\n",
       "      <td>...</td>\n",
       "      <td>...</td>\n",
       "      <td>...</td>\n",
       "      <td>...</td>\n",
       "      <td>...</td>\n",
       "      <td>...</td>\n",
       "    </tr>\n",
       "    <tr>\n",
       "      <th>70834</th>\n",
       "      <td>57350848</td>\n",
       "      <td>1</td>\n",
       "      <td>Private room</td>\n",
       "      <td>Brooklyn</td>\n",
       "      <td>118</td>\n",
       "      <td>278.788825</td>\n",
       "      <td>4054.5</td>\n",
       "    </tr>\n",
       "    <tr>\n",
       "      <th>70836</th>\n",
       "      <td>57353057</td>\n",
       "      <td>1</td>\n",
       "      <td>Private room</td>\n",
       "      <td>Brooklyn</td>\n",
       "      <td>1078</td>\n",
       "      <td>72.447867</td>\n",
       "      <td>63282.5</td>\n",
       "    </tr>\n",
       "    <tr>\n",
       "      <th>70837</th>\n",
       "      <td>57353610</td>\n",
       "      <td>1</td>\n",
       "      <td>Private room</td>\n",
       "      <td>Queens</td>\n",
       "      <td>103</td>\n",
       "      <td>256.254940</td>\n",
       "      <td>3099.5</td>\n",
       "    </tr>\n",
       "    <tr>\n",
       "      <th>70838</th>\n",
       "      <td>57358028</td>\n",
       "      <td>1</td>\n",
       "      <td>Private room</td>\n",
       "      <td>Queens</td>\n",
       "      <td>982</td>\n",
       "      <td>53.849882</td>\n",
       "      <td>57448.5</td>\n",
       "    </tr>\n",
       "    <tr>\n",
       "      <th>70839</th>\n",
       "      <td>57358580</td>\n",
       "      <td>1</td>\n",
       "      <td>Private room</td>\n",
       "      <td>Queens</td>\n",
       "      <td>946</td>\n",
       "      <td>59.483494</td>\n",
       "      <td>55234.5</td>\n",
       "    </tr>\n",
       "  </tbody>\n",
       "</table>\n",
       "<p>30899 rows × 7 columns</p>\n",
       "</div>"
      ],
      "text/plain": [
       "             id  number rooms     room type neighborhood group  price  \\\n",
       "1       1002403             1  Private room          Manhattan    620   \n",
       "4       1004650             1  Private room           Brooklyn     71   \n",
       "5       1005202             1  Private room           Brooklyn   1060   \n",
       "6       1005754             1  Private room          Manhattan   1018   \n",
       "9       1007964             1  Private room          Manhattan    714   \n",
       "...         ...           ...           ...                ...    ...   \n",
       "70834  57350848             1  Private room           Brooklyn    118   \n",
       "70836  57353057             1  Private room           Brooklyn   1078   \n",
       "70837  57353610             1  Private room             Queens    103   \n",
       "70838  57358028             1  Private room             Queens    982   \n",
       "70839  57358580             1  Private room             Queens    946   \n",
       "\n",
       "       utilization      new  \n",
       "1        86.294663  35132.0  \n",
       "4       361.000000   1248.5  \n",
       "5        25.844105  62178.5  \n",
       "6        37.275220  59600.0  \n",
       "9        84.469221  40992.5  \n",
       "...            ...      ...  \n",
       "70834   278.788825   4054.5  \n",
       "70836    72.447867  63282.5  \n",
       "70837   256.254940   3099.5  \n",
       "70838    53.849882  57448.5  \n",
       "70839    59.483494  55234.5  \n",
       "\n",
       "[30899 rows x 7 columns]"
      ]
     },
     "execution_count": 33,
     "metadata": {},
     "output_type": "execute_result"
    }
   ],
   "source": [
    "df[df['room type'].isin(['Private room'])]"
   ]
  },
  {
   "cell_type": "code",
   "execution_count": null,
   "id": "ec38412d",
   "metadata": {},
   "outputs": [],
   "source": []
  },
  {
   "cell_type": "markdown",
   "id": "3014ad7a-a391-4485-9395-b69c3f081ee8",
   "metadata": {
    "id": "3014ad7a-a391-4485-9395-b69c3f081ee8"
   },
   "source": [
    "You will investigate the relationship between price and utilization in this subtask. First, you will train different models and choose the one that best predicts utilization for an apartment. Second, you will evaluate which of the proposed prices of decision tree and clustering prices were better, assuming that your model provides the correct utilization. Third, you will conclude your investigation and provide a pricing decision."
   ]
  },
  {
   "cell_type": "markdown",
   "id": "dc64c4de-fa5c-41fe-8bbe-3bb3c9008534",
   "metadata": {
    "id": "dc64c4de-fa5c-41fe-8bbe-3bb3c9008534"
   },
   "source": [
    "### Learning price elasticity\n",
    "You want to use different supervised learning techniques to learn price elasticity. You decide on linear regression, SVM, and multilayer perceptrons. However, you have to preprocess the data. Use the features of the neighborhood group, the room type, the number of rooms, and the price to predict the utilization. Split into training and testing data (test size 5%)."
   ]
  },
  {
   "cell_type": "markdown",
   "id": "UjOJNxt_UrQr",
   "metadata": {
    "id": "UjOJNxt_UrQr"
   },
   "source": [
    "Prepare the data set by splitting, one-hot encoding, and normalizing."
   ]
  },
  {
   "cell_type": "code",
   "execution_count": 4,
   "id": "7522c215",
   "metadata": {
    "id": "ly3THPi7PdLJ"
   },
   "outputs": [],
   "source": [
    "# Your answer goes here\n",
    "X = data[['neighborhood group','room type','number rooms','price']]\n",
    "y =data[['utilization']]\n",
    "X_train, X_test, y_train, y_test = train_test_split(X, y, test_size=0.05, random_state=42)"
   ]
  },
  {
   "cell_type": "code",
   "execution_count": 6,
   "id": "449642ba",
   "metadata": {},
   "outputs": [],
   "source": [
    "X_train_onehot = pd.get_dummies(X_train)\n",
    "X_test_onehot = pd.get_dummies(X_test)\n",
    "y_train_onehot = pd.get_dummies(y_train)\n",
    "y_test_onehot = pd.get_dummies(y_test)\n",
    "X_train_norm = preprocessing.normalize(X_train_onehot)\n",
    "X_test_norm = preprocessing.normalize(X_test_onehot)\n",
    "y_train_norm = preprocessing.normalize(y_train_onehot)\n",
    "y_test_norm = preprocessing.normalize(y_test_onehot)"
   ]
  },
  {
   "cell_type": "code",
   "execution_count": 49,
   "id": "ba052998",
   "metadata": {},
   "outputs": [
    {
     "data": {
      "text/plain": [
       "array([1., 1., 1., ..., 0., 1., 1.])"
      ]
     },
     "execution_count": 49,
     "metadata": {},
     "output_type": "execute_result"
    }
   ],
   "source": [
    "np.ravel(y_train_norm)"
   ]
  },
  {
   "cell_type": "markdown",
   "id": "JEKOoD10VF9y",
   "metadata": {
    "id": "JEKOoD10VF9y"
   },
   "source": [
    "For each technique, use 5-cross-fold validation and assess the performance on the test set. "
   ]
  },
  {
   "cell_type": "markdown",
   "id": "c24bef91-6a16-4b09-a0e7-3069a687ed07",
   "metadata": {
    "id": "c24bef91-6a16-4b09-a0e7-3069a687ed07"
   },
   "source": [
    "#### Regression"
   ]
  },
  {
   "cell_type": "markdown",
   "id": "jK-Rpzm2kBEu",
   "metadata": {
    "id": "jK-Rpzm2kBEu"
   },
   "source": [
    "Learn a linear regression to predict the utilization of an AirBnB."
   ]
  },
  {
   "cell_type": "code",
   "execution_count": 39,
   "id": "37d648e1",
   "metadata": {
    "id": "ly3THPi7PdLJ"
   },
   "outputs": [],
   "source": [
    "# Your answer goes here\n",
    "classifier1 = LinearRegression()\n",
    "model1 = classifier1.fit(X_train_norm,y_train_norm)"
   ]
  },
  {
   "cell_type": "markdown",
   "id": "KXaCxzVRkQT9",
   "metadata": {
    "id": "KXaCxzVRkQT9"
   },
   "source": [
    "What is the mean absolute error achieved on the test data?"
   ]
  },
  {
   "cell_type": "code",
   "execution_count": 40,
   "id": "f11f7bf2",
   "metadata": {
    "id": "ly3THPi7PdLJ"
   },
   "outputs": [
    {
     "name": "stdout",
     "output_type": "stream",
     "text": [
      "Mean absolute error on test data is  0.032231034444551825\n"
     ]
    }
   ],
   "source": [
    "# Your answer goes here\n",
    "predictions1 = model1.predict(X_test_norm)\n",
    "error1 = mean_absolute_error(y_test_norm,predictions1)\n",
    "print('Mean absolute error on test data is ', error1)"
   ]
  },
  {
   "cell_type": "markdown",
   "id": "Qod_TrT-kW8H",
   "metadata": {
    "id": "Qod_TrT-kW8H"
   },
   "source": [
    "Show (draw!) the price elasticity for your apartment. "
   ]
  },
  {
   "cell_type": "code",
   "execution_count": 26,
   "id": "5ee85945",
   "metadata": {
    "id": "ly3THPi7PdLJ"
   },
   "outputs": [],
   "source": [
    "# Your answer goes here\n"
   ]
  },
  {
   "cell_type": "markdown",
   "id": "ae77f7d2-4752-49f8-b5e8-5bffda6e64d2",
   "metadata": {
    "id": "ae77f7d2-4752-49f8-b5e8-5bffda6e64d2"
   },
   "source": [
    "#### Linear SVR"
   ]
  },
  {
   "cell_type": "markdown",
   "id": "s0NzpYCzs8y9",
   "metadata": {
    "id": "s0NzpYCzs8y9"
   },
   "source": [
    "Train and evaluate a Linear SVR (Support Vector Regression) model."
   ]
  },
  {
   "cell_type": "code",
   "execution_count": 69,
   "id": "385ccf8e",
   "metadata": {
    "id": "ly3THPi7PdLJ"
   },
   "outputs": [
    {
     "name": "stderr",
     "output_type": "stream",
     "text": [
      "/Users/saipuneeth/opt/anaconda3/envs/env-IDS2022-23/lib/python3.9/site-packages/sklearn/svm/_base.py:1225: ConvergenceWarning: Liblinear failed to converge, increase the number of iterations.\n",
      "  warnings.warn(\n"
     ]
    }
   ],
   "source": [
    "# Your answer goes here\n",
    "model2 = LinearSVR(random_state=42, max_iter=20000).fit(X_train_norm,np.ravel(y_train_norm))"
   ]
  },
  {
   "cell_type": "markdown",
   "id": "YCccX3ZOdiiQ",
   "metadata": {
    "id": "YCccX3ZOdiiQ"
   },
   "source": [
    "What is the mean absolute error achieved on the test data?"
   ]
  },
  {
   "cell_type": "code",
   "execution_count": 70,
   "id": "2bbfe034",
   "metadata": {
    "id": "ly3THPi7PdLJ"
   },
   "outputs": [
    {
     "name": "stdout",
     "output_type": "stream",
     "text": [
      "Mean absolute error on test data is  0.015247951628678732\n"
     ]
    }
   ],
   "source": [
    "# Your answer goes here\n",
    "predictions2 = model2.predict(X_test_norm)\n",
    "print('Mean absolute error on test data is ', mean_absolute_error(y_test_norm,predictions2))"
   ]
  },
  {
   "cell_type": "markdown",
   "id": "akKwnMMgdrQX",
   "metadata": {
    "id": "akKwnMMgdrQX"
   },
   "source": [
    "Show (draw!) the price elasticity for your apartment. "
   ]
  },
  {
   "cell_type": "code",
   "execution_count": 29,
   "id": "48c2acb0",
   "metadata": {
    "id": "ly3THPi7PdLJ"
   },
   "outputs": [],
   "source": [
    "# Your answer goes here\n"
   ]
  },
  {
   "cell_type": "markdown",
   "id": "d9737709-05dc-43e3-ad50-34d0bd89606c",
   "metadata": {},
   "source": [
    "#### Learning Non-Linear Relationships"
   ]
  },
  {
   "cell_type": "markdown",
   "id": "c50c7b78-3bf4-40cd-a8ca-1b6ca399df9f",
   "metadata": {},
   "source": [
    "You realize that learning linear relationships only provides limited performance. You want to learn non-linear relationships. First, you will learn non-linear relationships using linear regression and kernels. Second, you will use non-linear kernels in the Support Vector Regression. Third, you will use neural networks."
   ]
  },
  {
   "cell_type": "markdown",
   "id": "3f6422fa-115f-441e-a3bc-abdea38f4b25",
   "metadata": {},
   "source": [
    "#### Kernels in Regression"
   ]
  },
  {
   "cell_type": "markdown",
   "id": "e016dd91-0b6d-47d6-bf86-7485b3cd623c",
   "metadata": {},
   "source": [
    "Use a transformation of the price and a regression to incorporate non-linear relationships, as learned in the lecture. You can try different kernel functions, but at least you should use one quadratic kernel."
   ]
  },
  {
   "cell_type": "code",
   "execution_count": 13,
   "id": "2bc62723",
   "metadata": {},
   "outputs": [
    {
     "data": {
      "text/plain": [
       "(1000, 11)"
      ]
     },
     "execution_count": 13,
     "metadata": {},
     "output_type": "execute_result"
    }
   ],
   "source": [
    "a= X_train_norm[:1000,:]\n",
    "a.shape"
   ]
  },
  {
   "cell_type": "code",
   "execution_count": null,
   "id": "02440e18-d727-4fb2-a8e5-aa3d0b79d58d",
   "metadata": {},
   "outputs": [],
   "source": [
    "# Your answer goes here\n",
    "#param_grid1 = {'degree' : [2],\"alpha\": [1e0],'kernel': ['poly']}  \n",
    "#grid1 = GridSearchCV(KernelRidge(), param_grid1, cv = 3, verbose = 3) \n",
    "model3=KernelRidge(kernel='poly',degree=2).fit(X_train_norm[:25000,:],np.ravel(y_train_norm[:25000]))"
   ]
  },
  {
   "cell_type": "markdown",
   "id": "2e28b4fb-b9f2-4408-983a-1053034003bc",
   "metadata": {},
   "source": [
    "What is the mean absolute error achieved on the test data?"
   ]
  },
  {
   "cell_type": "code",
   "execution_count": 19,
   "id": "f0e3ca24-6c5e-40c2-ad2d-e9d09670f573",
   "metadata": {},
   "outputs": [
    {
     "name": "stdout",
     "output_type": "stream",
     "text": [
      "Mean absolute error on test data is  0.02782080744497164\n"
     ]
    }
   ],
   "source": [
    "# Your answer goes here\n",
    "predictions3 = model3.predict(X_test_norm)\n",
    "print('Mean absolute error on test data is ', mean_absolute_error(y_test_norm,predictions3))"
   ]
  },
  {
   "cell_type": "markdown",
   "id": "dca155df-d2e2-4d0e-b8d0-db8e780828aa",
   "metadata": {},
   "source": [
    "Show (draw!) the price elasticity for your apartment. "
   ]
  },
  {
   "cell_type": "code",
   "execution_count": 32,
   "id": "d462859b-ae69-4799-bbb3-42ba65609b90",
   "metadata": {},
   "outputs": [],
   "source": [
    "# Your answer goes here\n"
   ]
  },
  {
   "cell_type": "markdown",
   "id": "39ad54ac-0056-4204-bae4-f4098e5f1175",
   "metadata": {
    "id": "ae77f7d2-4752-49f8-b5e8-5bffda6e64d2"
   },
   "source": [
    "#### Kernels in SVR"
   ]
  },
  {
   "cell_type": "markdown",
   "id": "61e205a3-ed09-4dfd-9d38-95cf7ef048e5",
   "metadata": {
    "id": "s0NzpYCzs8y9"
   },
   "source": [
    "Train and evaluate an SVR (Support Vector Regression) model with different, non-linear kernels. You can limit the size of your training set to 25000 samples to make the problem feasible in computation time."
   ]
  },
  {
   "cell_type": "code",
   "execution_count": 12,
   "id": "da90d390",
   "metadata": {},
   "outputs": [],
   "source": [
    "X_train_new = X_train_norm[:25000]\n",
    "y_train_new = y_train_norm[:25000]\n"
   ]
  },
  {
   "cell_type": "code",
   "execution_count": 32,
   "id": "8fc03286-feeb-413e-8389-fede8fe8d11a",
   "metadata": {
    "collapsed": true,
    "id": "ly3THPi7PdLJ"
   },
   "outputs": [
    {
     "name": "stdout",
     "output_type": "stream",
     "text": [
      "Fitting 5 folds for each of 180 candidates, totalling 900 fits\n",
      "[CV 1/5] END C=0.1, coef0=1, degree=2, gamma=auto, kernel=linear;, score=-0.527 total time=   0.3s\n",
      "[CV 2/5] END C=0.1, coef0=1, degree=2, gamma=auto, kernel=linear;, score=-0.682 total time=   0.3s\n",
      "[CV 3/5] END C=0.1, coef0=1, degree=2, gamma=auto, kernel=linear;, score=-0.728 total time=   0.3s\n",
      "[CV 4/5] END C=0.1, coef0=1, degree=2, gamma=auto, kernel=linear;, score=-0.434 total time=   0.3s\n",
      "[CV 5/5] END C=0.1, coef0=1, degree=2, gamma=auto, kernel=linear;, score=-0.536 total time=   0.3s\n",
      "[CV 1/5] END C=0.1, coef0=1, degree=2, gamma=auto, kernel=poly;, score=-0.526 total time=   0.4s\n",
      "[CV 2/5] END C=0.1, coef0=1, degree=2, gamma=auto, kernel=poly;, score=-0.682 total time=   0.4s\n",
      "[CV 3/5] END C=0.1, coef0=1, degree=2, gamma=auto, kernel=poly;, score=-0.728 total time=   0.4s\n",
      "[CV 4/5] END C=0.1, coef0=1, degree=2, gamma=auto, kernel=poly;, score=-0.433 total time=   0.4s\n",
      "[CV 5/5] END C=0.1, coef0=1, degree=2, gamma=auto, kernel=poly;, score=-0.536 total time=   0.4s\n",
      "[CV 1/5] END C=0.1, coef0=1, degree=2, gamma=auto, kernel=rbf;, score=-0.526 total time=   0.7s\n",
      "[CV 2/5] END C=0.1, coef0=1, degree=2, gamma=auto, kernel=rbf;, score=-0.682 total time=   0.7s\n",
      "[CV 3/5] END C=0.1, coef0=1, degree=2, gamma=auto, kernel=rbf;, score=-0.728 total time=   0.7s\n",
      "[CV 4/5] END C=0.1, coef0=1, degree=2, gamma=auto, kernel=rbf;, score=-0.433 total time=   0.6s\n",
      "[CV 5/5] END C=0.1, coef0=1, degree=2, gamma=auto, kernel=rbf;, score=-0.536 total time=   0.7s\n",
      "[CV 1/5] END C=0.1, coef0=1, degree=2, gamma=auto, kernel=sigmoid;, score=-0.526 total time=   0.5s\n",
      "[CV 2/5] END C=0.1, coef0=1, degree=2, gamma=auto, kernel=sigmoid;, score=-0.682 total time=   0.5s\n",
      "[CV 3/5] END C=0.1, coef0=1, degree=2, gamma=auto, kernel=sigmoid;, score=-0.728 total time=   0.6s\n",
      "[CV 4/5] END C=0.1, coef0=1, degree=2, gamma=auto, kernel=sigmoid;, score=-0.433 total time=   0.5s\n",
      "[CV 5/5] END C=0.1, coef0=1, degree=2, gamma=auto, kernel=sigmoid;, score=-0.536 total time=   0.5s\n",
      "[CV 1/5] END C=0.1, coef0=1, degree=2, gamma=0.1, kernel=linear;, score=-0.527 total time=   0.3s\n",
      "[CV 2/5] END C=0.1, coef0=1, degree=2, gamma=0.1, kernel=linear;, score=-0.682 total time=   0.3s\n",
      "[CV 3/5] END C=0.1, coef0=1, degree=2, gamma=0.1, kernel=linear;, score=-0.728 total time=   0.3s\n",
      "[CV 4/5] END C=0.1, coef0=1, degree=2, gamma=0.1, kernel=linear;, score=-0.434 total time=   0.3s\n",
      "[CV 5/5] END C=0.1, coef0=1, degree=2, gamma=0.1, kernel=linear;, score=-0.536 total time=   0.3s\n",
      "[CV 1/5] END C=0.1, coef0=1, degree=2, gamma=0.1, kernel=poly;, score=-0.526 total time=   0.4s\n",
      "[CV 2/5] END C=0.1, coef0=1, degree=2, gamma=0.1, kernel=poly;, score=-0.682 total time=   0.4s\n",
      "[CV 3/5] END C=0.1, coef0=1, degree=2, gamma=0.1, kernel=poly;, score=-0.728 total time=   0.4s\n",
      "[CV 4/5] END C=0.1, coef0=1, degree=2, gamma=0.1, kernel=poly;, score=-0.433 total time=   0.4s\n",
      "[CV 5/5] END C=0.1, coef0=1, degree=2, gamma=0.1, kernel=poly;, score=-0.536 total time=   0.4s\n",
      "[CV 1/5] END C=0.1, coef0=1, degree=2, gamma=0.1, kernel=rbf;, score=-0.526 total time=   0.7s\n",
      "[CV 2/5] END C=0.1, coef0=1, degree=2, gamma=0.1, kernel=rbf;, score=-0.682 total time=   0.7s\n",
      "[CV 3/5] END C=0.1, coef0=1, degree=2, gamma=0.1, kernel=rbf;, score=-0.728 total time=   0.7s\n",
      "[CV 4/5] END C=0.1, coef0=1, degree=2, gamma=0.1, kernel=rbf;, score=-0.433 total time=   0.6s\n",
      "[CV 5/5] END C=0.1, coef0=1, degree=2, gamma=0.1, kernel=rbf;, score=-0.536 total time=   0.7s\n",
      "[CV 1/5] END C=0.1, coef0=1, degree=2, gamma=0.1, kernel=sigmoid;, score=-0.526 total time=   0.5s\n",
      "[CV 2/5] END C=0.1, coef0=1, degree=2, gamma=0.1, kernel=sigmoid;, score=-0.682 total time=   0.6s\n",
      "[CV 3/5] END C=0.1, coef0=1, degree=2, gamma=0.1, kernel=sigmoid;, score=-0.728 total time=   0.6s\n",
      "[CV 4/5] END C=0.1, coef0=1, degree=2, gamma=0.1, kernel=sigmoid;, score=-0.433 total time=   0.5s\n",
      "[CV 5/5] END C=0.1, coef0=1, degree=2, gamma=0.1, kernel=sigmoid;, score=-0.536 total time=   0.5s\n",
      "[CV 1/5] END C=0.1, coef0=1, degree=2, gamma=scale, kernel=linear;, score=-0.527 total time=   0.3s\n",
      "[CV 2/5] END C=0.1, coef0=1, degree=2, gamma=scale, kernel=linear;, score=-0.682 total time=   0.3s\n",
      "[CV 3/5] END C=0.1, coef0=1, degree=2, gamma=scale, kernel=linear;, score=-0.728 total time=   0.3s\n",
      "[CV 4/5] END C=0.1, coef0=1, degree=2, gamma=scale, kernel=linear;, score=-0.434 total time=   0.3s\n",
      "[CV 5/5] END C=0.1, coef0=1, degree=2, gamma=scale, kernel=linear;, score=-0.536 total time=   0.3s\n",
      "[CV 1/5] END C=0.1, coef0=1, degree=2, gamma=scale, kernel=poly;, score=-0.528 total time=   0.4s\n",
      "[CV 2/5] END C=0.1, coef0=1, degree=2, gamma=scale, kernel=poly;, score=-0.682 total time=   0.4s\n",
      "[CV 3/5] END C=0.1, coef0=1, degree=2, gamma=scale, kernel=poly;, score=-0.732 total time=   0.4s\n",
      "[CV 4/5] END C=0.1, coef0=1, degree=2, gamma=scale, kernel=poly;, score=-0.433 total time=   0.4s\n",
      "[CV 5/5] END C=0.1, coef0=1, degree=2, gamma=scale, kernel=poly;, score=-0.537 total time=   0.4s\n",
      "[CV 1/5] END C=0.1, coef0=1, degree=2, gamma=scale, kernel=rbf;, score=-0.529 total time=   0.7s\n",
      "[CV 2/5] END C=0.1, coef0=1, degree=2, gamma=scale, kernel=rbf;, score=-0.682 total time=   0.7s\n",
      "[CV 3/5] END C=0.1, coef0=1, degree=2, gamma=scale, kernel=rbf;, score=-0.729 total time=   0.7s\n",
      "[CV 4/5] END C=0.1, coef0=1, degree=2, gamma=scale, kernel=rbf;, score=-0.434 total time=   0.7s\n",
      "[CV 5/5] END C=0.1, coef0=1, degree=2, gamma=scale, kernel=rbf;, score=-0.538 total time=   0.7s\n",
      "[CV 1/5] END C=0.1, coef0=1, degree=2, gamma=scale, kernel=sigmoid;, score=-0.526 total time=   0.7s\n",
      "[CV 2/5] END C=0.1, coef0=1, degree=2, gamma=scale, kernel=sigmoid;, score=-0.682 total time=   0.7s\n",
      "[CV 3/5] END C=0.1, coef0=1, degree=2, gamma=scale, kernel=sigmoid;, score=-0.728 total time=   0.7s\n",
      "[CV 4/5] END C=0.1, coef0=1, degree=2, gamma=scale, kernel=sigmoid;, score=-0.433 total time=   0.6s\n",
      "[CV 5/5] END C=0.1, coef0=1, degree=2, gamma=scale, kernel=sigmoid;, score=-0.536 total time=   0.7s\n",
      "[CV 1/5] END C=0.1, coef0=1, degree=3, gamma=auto, kernel=linear;, score=-0.527 total time=   0.3s\n",
      "[CV 2/5] END C=0.1, coef0=1, degree=3, gamma=auto, kernel=linear;, score=-0.682 total time=   0.3s\n",
      "[CV 3/5] END C=0.1, coef0=1, degree=3, gamma=auto, kernel=linear;, score=-0.728 total time=   0.3s\n",
      "[CV 4/5] END C=0.1, coef0=1, degree=3, gamma=auto, kernel=linear;, score=-0.434 total time=   0.3s\n",
      "[CV 5/5] END C=0.1, coef0=1, degree=3, gamma=auto, kernel=linear;, score=-0.536 total time=   0.3s\n",
      "[CV 1/5] END C=0.1, coef0=1, degree=3, gamma=auto, kernel=poly;, score=-0.526 total time=   0.4s\n",
      "[CV 2/5] END C=0.1, coef0=1, degree=3, gamma=auto, kernel=poly;, score=-0.682 total time=   0.4s\n",
      "[CV 3/5] END C=0.1, coef0=1, degree=3, gamma=auto, kernel=poly;, score=-0.728 total time=   0.4s\n",
      "[CV 4/5] END C=0.1, coef0=1, degree=3, gamma=auto, kernel=poly;, score=-0.433 total time=   0.4s\n",
      "[CV 5/5] END C=0.1, coef0=1, degree=3, gamma=auto, kernel=poly;, score=-0.536 total time=   0.4s\n",
      "[CV 1/5] END C=0.1, coef0=1, degree=3, gamma=auto, kernel=rbf;, score=-0.526 total time=   0.7s\n",
      "[CV 2/5] END C=0.1, coef0=1, degree=3, gamma=auto, kernel=rbf;, score=-0.682 total time=   0.7s\n",
      "[CV 3/5] END C=0.1, coef0=1, degree=3, gamma=auto, kernel=rbf;, score=-0.728 total time=   0.7s\n",
      "[CV 4/5] END C=0.1, coef0=1, degree=3, gamma=auto, kernel=rbf;, score=-0.433 total time=   0.6s\n",
      "[CV 5/5] END C=0.1, coef0=1, degree=3, gamma=auto, kernel=rbf;, score=-0.536 total time=   0.7s\n",
      "[CV 1/5] END C=0.1, coef0=1, degree=3, gamma=auto, kernel=sigmoid;, score=-0.526 total time=   0.5s\n",
      "[CV 2/5] END C=0.1, coef0=1, degree=3, gamma=auto, kernel=sigmoid;, score=-0.682 total time=   0.5s\n",
      "[CV 3/5] END C=0.1, coef0=1, degree=3, gamma=auto, kernel=sigmoid;, score=-0.728 total time=   0.6s\n",
      "[CV 4/5] END C=0.1, coef0=1, degree=3, gamma=auto, kernel=sigmoid;, score=-0.433 total time=   0.5s\n",
      "[CV 5/5] END C=0.1, coef0=1, degree=3, gamma=auto, kernel=sigmoid;, score=-0.536 total time=   0.5s\n",
      "[CV 1/5] END C=0.1, coef0=1, degree=3, gamma=0.1, kernel=linear;, score=-0.527 total time=   0.3s\n",
      "[CV 2/5] END C=0.1, coef0=1, degree=3, gamma=0.1, kernel=linear;, score=-0.682 total time=   0.3s\n",
      "[CV 3/5] END C=0.1, coef0=1, degree=3, gamma=0.1, kernel=linear;, score=-0.728 total time=   0.3s\n"
     ]
    },
    {
     "name": "stdout",
     "output_type": "stream",
     "text": [
      "[CV 4/5] END C=0.1, coef0=1, degree=3, gamma=0.1, kernel=linear;, score=-0.434 total time=   0.3s\n",
      "[CV 5/5] END C=0.1, coef0=1, degree=3, gamma=0.1, kernel=linear;, score=-0.536 total time=   0.3s\n",
      "[CV 1/5] END C=0.1, coef0=1, degree=3, gamma=0.1, kernel=poly;, score=-0.526 total time=   0.4s\n",
      "[CV 2/5] END C=0.1, coef0=1, degree=3, gamma=0.1, kernel=poly;, score=-0.682 total time=   0.4s\n",
      "[CV 3/5] END C=0.1, coef0=1, degree=3, gamma=0.1, kernel=poly;, score=-0.728 total time=   0.4s\n",
      "[CV 4/5] END C=0.1, coef0=1, degree=3, gamma=0.1, kernel=poly;, score=-0.433 total time=   0.4s\n",
      "[CV 5/5] END C=0.1, coef0=1, degree=3, gamma=0.1, kernel=poly;, score=-0.536 total time=   0.4s\n",
      "[CV 1/5] END C=0.1, coef0=1, degree=3, gamma=0.1, kernel=rbf;, score=-0.526 total time=   0.7s\n",
      "[CV 2/5] END C=0.1, coef0=1, degree=3, gamma=0.1, kernel=rbf;, score=-0.682 total time=   0.7s\n",
      "[CV 3/5] END C=0.1, coef0=1, degree=3, gamma=0.1, kernel=rbf;, score=-0.728 total time=   0.7s\n",
      "[CV 4/5] END C=0.1, coef0=1, degree=3, gamma=0.1, kernel=rbf;, score=-0.433 total time=   0.6s\n",
      "[CV 5/5] END C=0.1, coef0=1, degree=3, gamma=0.1, kernel=rbf;, score=-0.536 total time=   0.7s\n",
      "[CV 1/5] END C=0.1, coef0=1, degree=3, gamma=0.1, kernel=sigmoid;, score=-0.526 total time=   0.5s\n",
      "[CV 2/5] END C=0.1, coef0=1, degree=3, gamma=0.1, kernel=sigmoid;, score=-0.682 total time=   0.5s\n",
      "[CV 3/5] END C=0.1, coef0=1, degree=3, gamma=0.1, kernel=sigmoid;, score=-0.728 total time=   0.6s\n",
      "[CV 4/5] END C=0.1, coef0=1, degree=3, gamma=0.1, kernel=sigmoid;, score=-0.433 total time=   0.5s\n",
      "[CV 5/5] END C=0.1, coef0=1, degree=3, gamma=0.1, kernel=sigmoid;, score=-0.536 total time=   0.5s\n",
      "[CV 1/5] END C=0.1, coef0=1, degree=3, gamma=scale, kernel=linear;, score=-0.527 total time=   0.3s\n",
      "[CV 2/5] END C=0.1, coef0=1, degree=3, gamma=scale, kernel=linear;, score=-0.682 total time=   0.3s\n",
      "[CV 3/5] END C=0.1, coef0=1, degree=3, gamma=scale, kernel=linear;, score=-0.728 total time=   0.3s\n",
      "[CV 4/5] END C=0.1, coef0=1, degree=3, gamma=scale, kernel=linear;, score=-0.434 total time=   0.3s\n",
      "[CV 5/5] END C=0.1, coef0=1, degree=3, gamma=scale, kernel=linear;, score=-0.536 total time=   0.3s\n",
      "[CV 1/5] END C=0.1, coef0=1, degree=3, gamma=scale, kernel=poly;, score=-0.527 total time=   0.4s\n",
      "[CV 2/5] END C=0.1, coef0=1, degree=3, gamma=scale, kernel=poly;, score=-0.682 total time=   0.4s\n",
      "[CV 3/5] END C=0.1, coef0=1, degree=3, gamma=scale, kernel=poly;, score=-0.732 total time=   0.4s\n",
      "[CV 4/5] END C=0.1, coef0=1, degree=3, gamma=scale, kernel=poly;, score=-0.435 total time=   0.4s\n",
      "[CV 5/5] END C=0.1, coef0=1, degree=3, gamma=scale, kernel=poly;, score=-0.541 total time=   0.4s\n",
      "[CV 1/5] END C=0.1, coef0=1, degree=3, gamma=scale, kernel=rbf;, score=-0.529 total time=   0.7s\n",
      "[CV 2/5] END C=0.1, coef0=1, degree=3, gamma=scale, kernel=rbf;, score=-0.682 total time=   0.7s\n",
      "[CV 3/5] END C=0.1, coef0=1, degree=3, gamma=scale, kernel=rbf;, score=-0.729 total time=   0.7s\n",
      "[CV 4/5] END C=0.1, coef0=1, degree=3, gamma=scale, kernel=rbf;, score=-0.434 total time=   0.6s\n",
      "[CV 5/5] END C=0.1, coef0=1, degree=3, gamma=scale, kernel=rbf;, score=-0.538 total time=   0.7s\n",
      "[CV 1/5] END C=0.1, coef0=1, degree=3, gamma=scale, kernel=sigmoid;, score=-0.526 total time=   0.7s\n",
      "[CV 2/5] END C=0.1, coef0=1, degree=3, gamma=scale, kernel=sigmoid;, score=-0.682 total time=   0.7s\n",
      "[CV 3/5] END C=0.1, coef0=1, degree=3, gamma=scale, kernel=sigmoid;, score=-0.728 total time=   0.7s\n",
      "[CV 4/5] END C=0.1, coef0=1, degree=3, gamma=scale, kernel=sigmoid;, score=-0.433 total time=   0.7s\n",
      "[CV 5/5] END C=0.1, coef0=1, degree=3, gamma=scale, kernel=sigmoid;, score=-0.536 total time=   0.7s\n",
      "[CV 1/5] END C=0.1, coef0=1, degree=4, gamma=auto, kernel=linear;, score=-0.527 total time=   0.3s\n",
      "[CV 2/5] END C=0.1, coef0=1, degree=4, gamma=auto, kernel=linear;, score=-0.682 total time=   0.3s\n",
      "[CV 3/5] END C=0.1, coef0=1, degree=4, gamma=auto, kernel=linear;, score=-0.728 total time=   0.3s\n",
      "[CV 4/5] END C=0.1, coef0=1, degree=4, gamma=auto, kernel=linear;, score=-0.434 total time=   0.3s\n",
      "[CV 5/5] END C=0.1, coef0=1, degree=4, gamma=auto, kernel=linear;, score=-0.536 total time=   0.3s\n",
      "[CV 1/5] END C=0.1, coef0=1, degree=4, gamma=auto, kernel=poly;, score=-0.526 total time=   0.4s\n",
      "[CV 2/5] END C=0.1, coef0=1, degree=4, gamma=auto, kernel=poly;, score=-0.682 total time=   0.4s\n",
      "[CV 3/5] END C=0.1, coef0=1, degree=4, gamma=auto, kernel=poly;, score=-0.728 total time=   0.4s\n",
      "[CV 4/5] END C=0.1, coef0=1, degree=4, gamma=auto, kernel=poly;, score=-0.433 total time=   0.4s\n",
      "[CV 5/5] END C=0.1, coef0=1, degree=4, gamma=auto, kernel=poly;, score=-0.536 total time=   0.4s\n",
      "[CV 1/5] END C=0.1, coef0=1, degree=4, gamma=auto, kernel=rbf;, score=-0.526 total time=   0.7s\n",
      "[CV 2/5] END C=0.1, coef0=1, degree=4, gamma=auto, kernel=rbf;, score=-0.682 total time=   0.7s\n",
      "[CV 3/5] END C=0.1, coef0=1, degree=4, gamma=auto, kernel=rbf;, score=-0.728 total time=   0.7s\n",
      "[CV 4/5] END C=0.1, coef0=1, degree=4, gamma=auto, kernel=rbf;, score=-0.433 total time=   0.6s\n",
      "[CV 5/5] END C=0.1, coef0=1, degree=4, gamma=auto, kernel=rbf;, score=-0.536 total time=   0.7s\n",
      "[CV 1/5] END C=0.1, coef0=1, degree=4, gamma=auto, kernel=sigmoid;, score=-0.526 total time=   0.5s\n",
      "[CV 2/5] END C=0.1, coef0=1, degree=4, gamma=auto, kernel=sigmoid;, score=-0.682 total time=   0.5s\n",
      "[CV 3/5] END C=0.1, coef0=1, degree=4, gamma=auto, kernel=sigmoid;, score=-0.728 total time=   0.6s\n",
      "[CV 4/5] END C=0.1, coef0=1, degree=4, gamma=auto, kernel=sigmoid;, score=-0.433 total time=   0.5s\n",
      "[CV 5/5] END C=0.1, coef0=1, degree=4, gamma=auto, kernel=sigmoid;, score=-0.536 total time=   0.5s\n",
      "[CV 1/5] END C=0.1, coef0=1, degree=4, gamma=0.1, kernel=linear;, score=-0.527 total time=   0.3s\n",
      "[CV 2/5] END C=0.1, coef0=1, degree=4, gamma=0.1, kernel=linear;, score=-0.682 total time=   0.3s\n",
      "[CV 3/5] END C=0.1, coef0=1, degree=4, gamma=0.1, kernel=linear;, score=-0.728 total time=   0.3s\n",
      "[CV 4/5] END C=0.1, coef0=1, degree=4, gamma=0.1, kernel=linear;, score=-0.434 total time=   0.3s\n",
      "[CV 5/5] END C=0.1, coef0=1, degree=4, gamma=0.1, kernel=linear;, score=-0.536 total time=   0.3s\n",
      "[CV 1/5] END C=0.1, coef0=1, degree=4, gamma=0.1, kernel=poly;, score=-0.526 total time=   0.4s\n",
      "[CV 2/5] END C=0.1, coef0=1, degree=4, gamma=0.1, kernel=poly;, score=-0.682 total time=   0.4s\n",
      "[CV 3/5] END C=0.1, coef0=1, degree=4, gamma=0.1, kernel=poly;, score=-0.728 total time=   0.4s\n",
      "[CV 4/5] END C=0.1, coef0=1, degree=4, gamma=0.1, kernel=poly;, score=-0.433 total time=   0.4s\n",
      "[CV 5/5] END C=0.1, coef0=1, degree=4, gamma=0.1, kernel=poly;, score=-0.536 total time=   0.4s\n",
      "[CV 1/5] END C=0.1, coef0=1, degree=4, gamma=0.1, kernel=rbf;, score=-0.526 total time=   0.7s\n",
      "[CV 2/5] END C=0.1, coef0=1, degree=4, gamma=0.1, kernel=rbf;, score=-0.682 total time=   0.7s\n",
      "[CV 3/5] END C=0.1, coef0=1, degree=4, gamma=0.1, kernel=rbf;, score=-0.728 total time=   0.7s\n",
      "[CV 4/5] END C=0.1, coef0=1, degree=4, gamma=0.1, kernel=rbf;, score=-0.433 total time=   0.6s\n",
      "[CV 5/5] END C=0.1, coef0=1, degree=4, gamma=0.1, kernel=rbf;, score=-0.536 total time=   0.7s\n",
      "[CV 1/5] END C=0.1, coef0=1, degree=4, gamma=0.1, kernel=sigmoid;, score=-0.526 total time=   0.5s\n",
      "[CV 2/5] END C=0.1, coef0=1, degree=4, gamma=0.1, kernel=sigmoid;, score=-0.682 total time=   0.6s\n",
      "[CV 3/5] END C=0.1, coef0=1, degree=4, gamma=0.1, kernel=sigmoid;, score=-0.728 total time=   0.6s\n",
      "[CV 4/5] END C=0.1, coef0=1, degree=4, gamma=0.1, kernel=sigmoid;, score=-0.433 total time=   0.5s\n",
      "[CV 5/5] END C=0.1, coef0=1, degree=4, gamma=0.1, kernel=sigmoid;, score=-0.536 total time=   0.5s\n",
      "[CV 1/5] END C=0.1, coef0=1, degree=4, gamma=scale, kernel=linear;, score=-0.527 total time=   0.3s\n",
      "[CV 2/5] END C=0.1, coef0=1, degree=4, gamma=scale, kernel=linear;, score=-0.682 total time=   0.3s\n",
      "[CV 3/5] END C=0.1, coef0=1, degree=4, gamma=scale, kernel=linear;, score=-0.728 total time=   0.3s\n",
      "[CV 4/5] END C=0.1, coef0=1, degree=4, gamma=scale, kernel=linear;, score=-0.434 total time=   0.3s\n",
      "[CV 5/5] END C=0.1, coef0=1, degree=4, gamma=scale, kernel=linear;, score=-0.536 total time=   0.3s\n",
      "[CV 1/5] END C=0.1, coef0=1, degree=4, gamma=scale, kernel=poly;, score=-0.525 total time=   0.4s\n",
      "[CV 2/5] END C=0.1, coef0=1, degree=4, gamma=scale, kernel=poly;, score=-0.681 total time=   0.4s\n"
     ]
    },
    {
     "name": "stdout",
     "output_type": "stream",
     "text": [
      "[CV 3/5] END C=0.1, coef0=1, degree=4, gamma=scale, kernel=poly;, score=-0.732 total time=   0.4s\n",
      "[CV 4/5] END C=0.1, coef0=1, degree=4, gamma=scale, kernel=poly;, score=-0.432 total time=   0.4s\n",
      "[CV 5/5] END C=0.1, coef0=1, degree=4, gamma=scale, kernel=poly;, score=-0.536 total time=   0.4s\n",
      "[CV 1/5] END C=0.1, coef0=1, degree=4, gamma=scale, kernel=rbf;, score=-0.529 total time=   0.7s\n",
      "[CV 2/5] END C=0.1, coef0=1, degree=4, gamma=scale, kernel=rbf;, score=-0.682 total time=   0.7s\n",
      "[CV 3/5] END C=0.1, coef0=1, degree=4, gamma=scale, kernel=rbf;, score=-0.729 total time=   0.7s\n",
      "[CV 4/5] END C=0.1, coef0=1, degree=4, gamma=scale, kernel=rbf;, score=-0.434 total time=   0.6s\n",
      "[CV 5/5] END C=0.1, coef0=1, degree=4, gamma=scale, kernel=rbf;, score=-0.538 total time=   0.7s\n",
      "[CV 1/5] END C=0.1, coef0=1, degree=4, gamma=scale, kernel=sigmoid;, score=-0.526 total time=   0.7s\n",
      "[CV 2/5] END C=0.1, coef0=1, degree=4, gamma=scale, kernel=sigmoid;, score=-0.682 total time=   0.7s\n",
      "[CV 3/5] END C=0.1, coef0=1, degree=4, gamma=scale, kernel=sigmoid;, score=-0.728 total time=   0.7s\n",
      "[CV 4/5] END C=0.1, coef0=1, degree=4, gamma=scale, kernel=sigmoid;, score=-0.433 total time=   0.7s\n",
      "[CV 5/5] END C=0.1, coef0=1, degree=4, gamma=scale, kernel=sigmoid;, score=-0.536 total time=   0.7s\n",
      "[CV 1/5] END C=0.2, coef0=1, degree=2, gamma=auto, kernel=linear;, score=-0.526 total time=   0.3s\n",
      "[CV 2/5] END C=0.2, coef0=1, degree=2, gamma=auto, kernel=linear;, score=-0.682 total time=   0.3s\n",
      "[CV 3/5] END C=0.2, coef0=1, degree=2, gamma=auto, kernel=linear;, score=-0.729 total time=   0.3s\n",
      "[CV 4/5] END C=0.2, coef0=1, degree=2, gamma=auto, kernel=linear;, score=-0.433 total time=   0.3s\n",
      "[CV 5/5] END C=0.2, coef0=1, degree=2, gamma=auto, kernel=linear;, score=-0.536 total time=   0.3s\n",
      "[CV 1/5] END C=0.2, coef0=1, degree=2, gamma=auto, kernel=poly;, score=-0.526 total time=   0.4s\n",
      "[CV 2/5] END C=0.2, coef0=1, degree=2, gamma=auto, kernel=poly;, score=-0.682 total time=   0.4s\n",
      "[CV 3/5] END C=0.2, coef0=1, degree=2, gamma=auto, kernel=poly;, score=-0.728 total time=   0.4s\n",
      "[CV 4/5] END C=0.2, coef0=1, degree=2, gamma=auto, kernel=poly;, score=-0.433 total time=   0.4s\n",
      "[CV 5/5] END C=0.2, coef0=1, degree=2, gamma=auto, kernel=poly;, score=-0.536 total time=   0.4s\n",
      "[CV 1/5] END C=0.2, coef0=1, degree=2, gamma=auto, kernel=rbf;, score=-0.526 total time=   0.7s\n",
      "[CV 2/5] END C=0.2, coef0=1, degree=2, gamma=auto, kernel=rbf;, score=-0.682 total time=   0.7s\n",
      "[CV 3/5] END C=0.2, coef0=1, degree=2, gamma=auto, kernel=rbf;, score=-0.728 total time=   0.7s\n",
      "[CV 4/5] END C=0.2, coef0=1, degree=2, gamma=auto, kernel=rbf;, score=-0.433 total time=   0.6s\n",
      "[CV 5/5] END C=0.2, coef0=1, degree=2, gamma=auto, kernel=rbf;, score=-0.536 total time=   0.7s\n",
      "[CV 1/5] END C=0.2, coef0=1, degree=2, gamma=auto, kernel=sigmoid;, score=-0.526 total time=   0.5s\n",
      "[CV 2/5] END C=0.2, coef0=1, degree=2, gamma=auto, kernel=sigmoid;, score=-0.682 total time=   0.6s\n",
      "[CV 3/5] END C=0.2, coef0=1, degree=2, gamma=auto, kernel=sigmoid;, score=-0.728 total time=   0.6s\n",
      "[CV 4/5] END C=0.2, coef0=1, degree=2, gamma=auto, kernel=sigmoid;, score=-0.433 total time=   0.5s\n",
      "[CV 5/5] END C=0.2, coef0=1, degree=2, gamma=auto, kernel=sigmoid;, score=-0.536 total time=   0.5s\n",
      "[CV 1/5] END C=0.2, coef0=1, degree=2, gamma=0.1, kernel=linear;, score=-0.526 total time=   0.3s\n",
      "[CV 2/5] END C=0.2, coef0=1, degree=2, gamma=0.1, kernel=linear;, score=-0.682 total time=   0.3s\n",
      "[CV 3/5] END C=0.2, coef0=1, degree=2, gamma=0.1, kernel=linear;, score=-0.729 total time=   0.3s\n",
      "[CV 4/5] END C=0.2, coef0=1, degree=2, gamma=0.1, kernel=linear;, score=-0.433 total time=   0.3s\n",
      "[CV 5/5] END C=0.2, coef0=1, degree=2, gamma=0.1, kernel=linear;, score=-0.536 total time=   0.3s\n",
      "[CV 1/5] END C=0.2, coef0=1, degree=2, gamma=0.1, kernel=poly;, score=-0.526 total time=   0.4s\n",
      "[CV 2/5] END C=0.2, coef0=1, degree=2, gamma=0.1, kernel=poly;, score=-0.682 total time=   0.4s\n",
      "[CV 3/5] END C=0.2, coef0=1, degree=2, gamma=0.1, kernel=poly;, score=-0.728 total time=   0.4s\n",
      "[CV 4/5] END C=0.2, coef0=1, degree=2, gamma=0.1, kernel=poly;, score=-0.433 total time=   0.4s\n",
      "[CV 5/5] END C=0.2, coef0=1, degree=2, gamma=0.1, kernel=poly;, score=-0.536 total time=   0.4s\n",
      "[CV 1/5] END C=0.2, coef0=1, degree=2, gamma=0.1, kernel=rbf;, score=-0.526 total time=   0.7s\n",
      "[CV 2/5] END C=0.2, coef0=1, degree=2, gamma=0.1, kernel=rbf;, score=-0.682 total time=   0.7s\n",
      "[CV 3/5] END C=0.2, coef0=1, degree=2, gamma=0.1, kernel=rbf;, score=-0.728 total time=   0.7s\n",
      "[CV 4/5] END C=0.2, coef0=1, degree=2, gamma=0.1, kernel=rbf;, score=-0.433 total time=   0.6s\n",
      "[CV 5/5] END C=0.2, coef0=1, degree=2, gamma=0.1, kernel=rbf;, score=-0.536 total time=   0.7s\n",
      "[CV 1/5] END C=0.2, coef0=1, degree=2, gamma=0.1, kernel=sigmoid;, score=-0.526 total time=   0.5s\n",
      "[CV 2/5] END C=0.2, coef0=1, degree=2, gamma=0.1, kernel=sigmoid;, score=-0.682 total time=   0.6s\n",
      "[CV 3/5] END C=0.2, coef0=1, degree=2, gamma=0.1, kernel=sigmoid;, score=-0.728 total time=   0.6s\n",
      "[CV 4/5] END C=0.2, coef0=1, degree=2, gamma=0.1, kernel=sigmoid;, score=-0.433 total time=   0.5s\n",
      "[CV 5/5] END C=0.2, coef0=1, degree=2, gamma=0.1, kernel=sigmoid;, score=-0.536 total time=   0.5s\n",
      "[CV 1/5] END C=0.2, coef0=1, degree=2, gamma=scale, kernel=linear;, score=-0.526 total time=   0.3s\n",
      "[CV 2/5] END C=0.2, coef0=1, degree=2, gamma=scale, kernel=linear;, score=-0.682 total time=   0.3s\n",
      "[CV 3/5] END C=0.2, coef0=1, degree=2, gamma=scale, kernel=linear;, score=-0.729 total time=   0.3s\n",
      "[CV 4/5] END C=0.2, coef0=1, degree=2, gamma=scale, kernel=linear;, score=-0.433 total time=   0.3s\n",
      "[CV 5/5] END C=0.2, coef0=1, degree=2, gamma=scale, kernel=linear;, score=-0.536 total time=   0.3s\n",
      "[CV 1/5] END C=0.2, coef0=1, degree=2, gamma=scale, kernel=poly;, score=-0.526 total time=   0.4s\n",
      "[CV 2/5] END C=0.2, coef0=1, degree=2, gamma=scale, kernel=poly;, score=-0.684 total time=   0.4s\n",
      "[CV 3/5] END C=0.2, coef0=1, degree=2, gamma=scale, kernel=poly;, score=-0.732 total time=   0.4s\n",
      "[CV 4/5] END C=0.2, coef0=1, degree=2, gamma=scale, kernel=poly;, score=-0.433 total time=   0.4s\n",
      "[CV 5/5] END C=0.2, coef0=1, degree=2, gamma=scale, kernel=poly;, score=-0.539 total time=   0.4s\n",
      "[CV 1/5] END C=0.2, coef0=1, degree=2, gamma=scale, kernel=rbf;, score=-0.528 total time=   0.7s\n",
      "[CV 2/5] END C=0.2, coef0=1, degree=2, gamma=scale, kernel=rbf;, score=-0.683 total time=   0.7s\n",
      "[CV 3/5] END C=0.2, coef0=1, degree=2, gamma=scale, kernel=rbf;, score=-0.729 total time=   0.7s\n",
      "[CV 4/5] END C=0.2, coef0=1, degree=2, gamma=scale, kernel=rbf;, score=-0.434 total time=   0.7s\n",
      "[CV 5/5] END C=0.2, coef0=1, degree=2, gamma=scale, kernel=rbf;, score=-0.540 total time=   0.7s\n",
      "[CV 1/5] END C=0.2, coef0=1, degree=2, gamma=scale, kernel=sigmoid;, score=-0.526 total time=   0.8s\n",
      "[CV 2/5] END C=0.2, coef0=1, degree=2, gamma=scale, kernel=sigmoid;, score=-0.682 total time=   0.7s\n",
      "[CV 3/5] END C=0.2, coef0=1, degree=2, gamma=scale, kernel=sigmoid;, score=-0.728 total time=   0.7s\n",
      "[CV 4/5] END C=0.2, coef0=1, degree=2, gamma=scale, kernel=sigmoid;, score=-0.433 total time=   0.7s\n",
      "[CV 5/5] END C=0.2, coef0=1, degree=2, gamma=scale, kernel=sigmoid;, score=-0.536 total time=   0.7s\n",
      "[CV 1/5] END C=0.2, coef0=1, degree=3, gamma=auto, kernel=linear;, score=-0.526 total time=   0.3s\n",
      "[CV 2/5] END C=0.2, coef0=1, degree=3, gamma=auto, kernel=linear;, score=-0.682 total time=   0.3s\n",
      "[CV 3/5] END C=0.2, coef0=1, degree=3, gamma=auto, kernel=linear;, score=-0.729 total time=   0.3s\n",
      "[CV 4/5] END C=0.2, coef0=1, degree=3, gamma=auto, kernel=linear;, score=-0.433 total time=   0.3s\n",
      "[CV 5/5] END C=0.2, coef0=1, degree=3, gamma=auto, kernel=linear;, score=-0.536 total time=   0.3s\n",
      "[CV 1/5] END C=0.2, coef0=1, degree=3, gamma=auto, kernel=poly;, score=-0.526 total time=   0.4s\n",
      "[CV 2/5] END C=0.2, coef0=1, degree=3, gamma=auto, kernel=poly;, score=-0.682 total time=   0.4s\n",
      "[CV 3/5] END C=0.2, coef0=1, degree=3, gamma=auto, kernel=poly;, score=-0.728 total time=   0.4s\n",
      "[CV 4/5] END C=0.2, coef0=1, degree=3, gamma=auto, kernel=poly;, score=-0.433 total time=   0.4s\n",
      "[CV 5/5] END C=0.2, coef0=1, degree=3, gamma=auto, kernel=poly;, score=-0.536 total time=   0.4s\n",
      "[CV 1/5] END C=0.2, coef0=1, degree=3, gamma=auto, kernel=rbf;, score=-0.526 total time=   0.7s\n"
     ]
    },
    {
     "name": "stdout",
     "output_type": "stream",
     "text": [
      "[CV 2/5] END C=0.2, coef0=1, degree=3, gamma=auto, kernel=rbf;, score=-0.682 total time=   0.7s\n",
      "[CV 3/5] END C=0.2, coef0=1, degree=3, gamma=auto, kernel=rbf;, score=-0.728 total time=   0.8s\n",
      "[CV 4/5] END C=0.2, coef0=1, degree=3, gamma=auto, kernel=rbf;, score=-0.433 total time=   0.7s\n",
      "[CV 5/5] END C=0.2, coef0=1, degree=3, gamma=auto, kernel=rbf;, score=-0.536 total time=   0.7s\n",
      "[CV 1/5] END C=0.2, coef0=1, degree=3, gamma=auto, kernel=sigmoid;, score=-0.526 total time=   0.5s\n",
      "[CV 2/5] END C=0.2, coef0=1, degree=3, gamma=auto, kernel=sigmoid;, score=-0.682 total time=   0.6s\n",
      "[CV 3/5] END C=0.2, coef0=1, degree=3, gamma=auto, kernel=sigmoid;, score=-0.728 total time=   0.6s\n",
      "[CV 4/5] END C=0.2, coef0=1, degree=3, gamma=auto, kernel=sigmoid;, score=-0.433 total time=   0.5s\n",
      "[CV 5/5] END C=0.2, coef0=1, degree=3, gamma=auto, kernel=sigmoid;, score=-0.536 total time=   0.5s\n",
      "[CV 1/5] END C=0.2, coef0=1, degree=3, gamma=0.1, kernel=linear;, score=-0.526 total time=   0.3s\n",
      "[CV 2/5] END C=0.2, coef0=1, degree=3, gamma=0.1, kernel=linear;, score=-0.682 total time=   0.3s\n",
      "[CV 3/5] END C=0.2, coef0=1, degree=3, gamma=0.1, kernel=linear;, score=-0.729 total time=   0.3s\n",
      "[CV 4/5] END C=0.2, coef0=1, degree=3, gamma=0.1, kernel=linear;, score=-0.433 total time=   0.3s\n",
      "[CV 5/5] END C=0.2, coef0=1, degree=3, gamma=0.1, kernel=linear;, score=-0.536 total time=   0.3s\n",
      "[CV 1/5] END C=0.2, coef0=1, degree=3, gamma=0.1, kernel=poly;, score=-0.526 total time=   0.4s\n",
      "[CV 2/5] END C=0.2, coef0=1, degree=3, gamma=0.1, kernel=poly;, score=-0.682 total time=   0.4s\n",
      "[CV 3/5] END C=0.2, coef0=1, degree=3, gamma=0.1, kernel=poly;, score=-0.728 total time=   0.4s\n",
      "[CV 4/5] END C=0.2, coef0=1, degree=3, gamma=0.1, kernel=poly;, score=-0.433 total time=   0.4s\n",
      "[CV 5/5] END C=0.2, coef0=1, degree=3, gamma=0.1, kernel=poly;, score=-0.536 total time=   0.4s\n",
      "[CV 1/5] END C=0.2, coef0=1, degree=3, gamma=0.1, kernel=rbf;, score=-0.526 total time=   0.7s\n",
      "[CV 2/5] END C=0.2, coef0=1, degree=3, gamma=0.1, kernel=rbf;, score=-0.682 total time=   0.7s\n",
      "[CV 3/5] END C=0.2, coef0=1, degree=3, gamma=0.1, kernel=rbf;, score=-0.728 total time=   0.7s\n",
      "[CV 4/5] END C=0.2, coef0=1, degree=3, gamma=0.1, kernel=rbf;, score=-0.433 total time=   0.6s\n",
      "[CV 5/5] END C=0.2, coef0=1, degree=3, gamma=0.1, kernel=rbf;, score=-0.536 total time=   0.7s\n",
      "[CV 1/5] END C=0.2, coef0=1, degree=3, gamma=0.1, kernel=sigmoid;, score=-0.526 total time=   0.5s\n",
      "[CV 2/5] END C=0.2, coef0=1, degree=3, gamma=0.1, kernel=sigmoid;, score=-0.682 total time=   0.6s\n",
      "[CV 3/5] END C=0.2, coef0=1, degree=3, gamma=0.1, kernel=sigmoid;, score=-0.728 total time=   0.6s\n",
      "[CV 4/5] END C=0.2, coef0=1, degree=3, gamma=0.1, kernel=sigmoid;, score=-0.433 total time=   0.5s\n",
      "[CV 5/5] END C=0.2, coef0=1, degree=3, gamma=0.1, kernel=sigmoid;, score=-0.536 total time=   0.5s\n",
      "[CV 1/5] END C=0.2, coef0=1, degree=3, gamma=scale, kernel=linear;, score=-0.526 total time=   0.3s\n",
      "[CV 2/5] END C=0.2, coef0=1, degree=3, gamma=scale, kernel=linear;, score=-0.682 total time=   0.3s\n",
      "[CV 3/5] END C=0.2, coef0=1, degree=3, gamma=scale, kernel=linear;, score=-0.729 total time=   0.3s\n",
      "[CV 4/5] END C=0.2, coef0=1, degree=3, gamma=scale, kernel=linear;, score=-0.433 total time=   0.3s\n",
      "[CV 5/5] END C=0.2, coef0=1, degree=3, gamma=scale, kernel=linear;, score=-0.536 total time=   0.3s\n",
      "[CV 1/5] END C=0.2, coef0=1, degree=3, gamma=scale, kernel=poly;, score=-0.529 total time=   0.4s\n",
      "[CV 2/5] END C=0.2, coef0=1, degree=3, gamma=scale, kernel=poly;, score=-0.682 total time=   0.4s\n",
      "[CV 3/5] END C=0.2, coef0=1, degree=3, gamma=scale, kernel=poly;, score=-0.727 total time=   0.4s\n",
      "[CV 4/5] END C=0.2, coef0=1, degree=3, gamma=scale, kernel=poly;, score=-0.437 total time=   0.4s\n",
      "[CV 5/5] END C=0.2, coef0=1, degree=3, gamma=scale, kernel=poly;, score=-0.535 total time=   0.4s\n",
      "[CV 1/5] END C=0.2, coef0=1, degree=3, gamma=scale, kernel=rbf;, score=-0.528 total time=   0.7s\n",
      "[CV 2/5] END C=0.2, coef0=1, degree=3, gamma=scale, kernel=rbf;, score=-0.683 total time=   0.7s\n",
      "[CV 3/5] END C=0.2, coef0=1, degree=3, gamma=scale, kernel=rbf;, score=-0.729 total time=   0.7s\n",
      "[CV 4/5] END C=0.2, coef0=1, degree=3, gamma=scale, kernel=rbf;, score=-0.434 total time=   0.6s\n",
      "[CV 5/5] END C=0.2, coef0=1, degree=3, gamma=scale, kernel=rbf;, score=-0.540 total time=   0.7s\n",
      "[CV 1/5] END C=0.2, coef0=1, degree=3, gamma=scale, kernel=sigmoid;, score=-0.526 total time=   0.7s\n",
      "[CV 2/5] END C=0.2, coef0=1, degree=3, gamma=scale, kernel=sigmoid;, score=-0.682 total time=   0.7s\n",
      "[CV 3/5] END C=0.2, coef0=1, degree=3, gamma=scale, kernel=sigmoid;, score=-0.728 total time=   0.7s\n",
      "[CV 4/5] END C=0.2, coef0=1, degree=3, gamma=scale, kernel=sigmoid;, score=-0.433 total time=   0.7s\n",
      "[CV 5/5] END C=0.2, coef0=1, degree=3, gamma=scale, kernel=sigmoid;, score=-0.536 total time=   0.7s\n",
      "[CV 1/5] END C=0.2, coef0=1, degree=4, gamma=auto, kernel=linear;, score=-0.526 total time=   0.3s\n",
      "[CV 2/5] END C=0.2, coef0=1, degree=4, gamma=auto, kernel=linear;, score=-0.682 total time=   0.3s\n",
      "[CV 3/5] END C=0.2, coef0=1, degree=4, gamma=auto, kernel=linear;, score=-0.729 total time=   0.3s\n",
      "[CV 4/5] END C=0.2, coef0=1, degree=4, gamma=auto, kernel=linear;, score=-0.433 total time=   0.3s\n",
      "[CV 5/5] END C=0.2, coef0=1, degree=4, gamma=auto, kernel=linear;, score=-0.536 total time=   0.3s\n",
      "[CV 1/5] END C=0.2, coef0=1, degree=4, gamma=auto, kernel=poly;, score=-0.526 total time=   0.4s\n",
      "[CV 2/5] END C=0.2, coef0=1, degree=4, gamma=auto, kernel=poly;, score=-0.682 total time=   0.4s\n",
      "[CV 3/5] END C=0.2, coef0=1, degree=4, gamma=auto, kernel=poly;, score=-0.728 total time=   0.4s\n",
      "[CV 4/5] END C=0.2, coef0=1, degree=4, gamma=auto, kernel=poly;, score=-0.433 total time=   0.4s\n",
      "[CV 5/5] END C=0.2, coef0=1, degree=4, gamma=auto, kernel=poly;, score=-0.536 total time=   0.4s\n",
      "[CV 1/5] END C=0.2, coef0=1, degree=4, gamma=auto, kernel=rbf;, score=-0.526 total time=   0.7s\n",
      "[CV 2/5] END C=0.2, coef0=1, degree=4, gamma=auto, kernel=rbf;, score=-0.682 total time=   0.7s\n",
      "[CV 3/5] END C=0.2, coef0=1, degree=4, gamma=auto, kernel=rbf;, score=-0.728 total time=   0.7s\n",
      "[CV 4/5] END C=0.2, coef0=1, degree=4, gamma=auto, kernel=rbf;, score=-0.433 total time=   0.7s\n",
      "[CV 5/5] END C=0.2, coef0=1, degree=4, gamma=auto, kernel=rbf;, score=-0.536 total time=   0.7s\n",
      "[CV 1/5] END C=0.2, coef0=1, degree=4, gamma=auto, kernel=sigmoid;, score=-0.526 total time=   0.5s\n",
      "[CV 2/5] END C=0.2, coef0=1, degree=4, gamma=auto, kernel=sigmoid;, score=-0.682 total time=   0.6s\n",
      "[CV 3/5] END C=0.2, coef0=1, degree=4, gamma=auto, kernel=sigmoid;, score=-0.728 total time=   0.6s\n",
      "[CV 4/5] END C=0.2, coef0=1, degree=4, gamma=auto, kernel=sigmoid;, score=-0.433 total time=   0.5s\n",
      "[CV 5/5] END C=0.2, coef0=1, degree=4, gamma=auto, kernel=sigmoid;, score=-0.536 total time=   0.5s\n",
      "[CV 1/5] END C=0.2, coef0=1, degree=4, gamma=0.1, kernel=linear;, score=-0.526 total time=   0.3s\n",
      "[CV 2/5] END C=0.2, coef0=1, degree=4, gamma=0.1, kernel=linear;, score=-0.682 total time=   0.3s\n",
      "[CV 3/5] END C=0.2, coef0=1, degree=4, gamma=0.1, kernel=linear;, score=-0.729 total time=   0.3s\n",
      "[CV 4/5] END C=0.2, coef0=1, degree=4, gamma=0.1, kernel=linear;, score=-0.433 total time=   0.3s\n",
      "[CV 5/5] END C=0.2, coef0=1, degree=4, gamma=0.1, kernel=linear;, score=-0.536 total time=   0.3s\n",
      "[CV 1/5] END C=0.2, coef0=1, degree=4, gamma=0.1, kernel=poly;, score=-0.526 total time=   0.4s\n",
      "[CV 2/5] END C=0.2, coef0=1, degree=4, gamma=0.1, kernel=poly;, score=-0.682 total time=   0.4s\n",
      "[CV 3/5] END C=0.2, coef0=1, degree=4, gamma=0.1, kernel=poly;, score=-0.728 total time=   0.4s\n",
      "[CV 4/5] END C=0.2, coef0=1, degree=4, gamma=0.1, kernel=poly;, score=-0.433 total time=   0.4s\n",
      "[CV 5/5] END C=0.2, coef0=1, degree=4, gamma=0.1, kernel=poly;, score=-0.536 total time=   0.4s\n",
      "[CV 1/5] END C=0.2, coef0=1, degree=4, gamma=0.1, kernel=rbf;, score=-0.526 total time=   0.7s\n",
      "[CV 2/5] END C=0.2, coef0=1, degree=4, gamma=0.1, kernel=rbf;, score=-0.682 total time=   0.7s\n",
      "[CV 3/5] END C=0.2, coef0=1, degree=4, gamma=0.1, kernel=rbf;, score=-0.728 total time=   0.7s\n",
      "[CV 4/5] END C=0.2, coef0=1, degree=4, gamma=0.1, kernel=rbf;, score=-0.433 total time=   0.6s\n",
      "[CV 5/5] END C=0.2, coef0=1, degree=4, gamma=0.1, kernel=rbf;, score=-0.536 total time=   0.7s\n"
     ]
    },
    {
     "name": "stdout",
     "output_type": "stream",
     "text": [
      "[CV 1/5] END C=0.2, coef0=1, degree=4, gamma=0.1, kernel=sigmoid;, score=-0.526 total time=   0.5s\n",
      "[CV 2/5] END C=0.2, coef0=1, degree=4, gamma=0.1, kernel=sigmoid;, score=-0.682 total time=   0.6s\n",
      "[CV 3/5] END C=0.2, coef0=1, degree=4, gamma=0.1, kernel=sigmoid;, score=-0.728 total time=   0.6s\n",
      "[CV 4/5] END C=0.2, coef0=1, degree=4, gamma=0.1, kernel=sigmoid;, score=-0.433 total time=   0.5s\n",
      "[CV 5/5] END C=0.2, coef0=1, degree=4, gamma=0.1, kernel=sigmoid;, score=-0.536 total time=   0.5s\n",
      "[CV 1/5] END C=0.2, coef0=1, degree=4, gamma=scale, kernel=linear;, score=-0.526 total time=   0.3s\n",
      "[CV 2/5] END C=0.2, coef0=1, degree=4, gamma=scale, kernel=linear;, score=-0.682 total time=   0.3s\n",
      "[CV 3/5] END C=0.2, coef0=1, degree=4, gamma=scale, kernel=linear;, score=-0.729 total time=   0.3s\n",
      "[CV 4/5] END C=0.2, coef0=1, degree=4, gamma=scale, kernel=linear;, score=-0.433 total time=   0.3s\n",
      "[CV 5/5] END C=0.2, coef0=1, degree=4, gamma=scale, kernel=linear;, score=-0.536 total time=   0.3s\n",
      "[CV 1/5] END C=0.2, coef0=1, degree=4, gamma=scale, kernel=poly;, score=-0.525 total time=   0.4s\n",
      "[CV 2/5] END C=0.2, coef0=1, degree=4, gamma=scale, kernel=poly;, score=-0.684 total time=   0.4s\n",
      "[CV 3/5] END C=0.2, coef0=1, degree=4, gamma=scale, kernel=poly;, score=-0.733 total time=   0.4s\n",
      "[CV 4/5] END C=0.2, coef0=1, degree=4, gamma=scale, kernel=poly;, score=-0.431 total time=   0.4s\n",
      "[CV 5/5] END C=0.2, coef0=1, degree=4, gamma=scale, kernel=poly;, score=-0.535 total time=   0.4s\n",
      "[CV 1/5] END C=0.2, coef0=1, degree=4, gamma=scale, kernel=rbf;, score=-0.528 total time=   0.7s\n",
      "[CV 2/5] END C=0.2, coef0=1, degree=4, gamma=scale, kernel=rbf;, score=-0.683 total time=   0.7s\n",
      "[CV 3/5] END C=0.2, coef0=1, degree=4, gamma=scale, kernel=rbf;, score=-0.729 total time=   0.7s\n",
      "[CV 4/5] END C=0.2, coef0=1, degree=4, gamma=scale, kernel=rbf;, score=-0.434 total time=   0.6s\n",
      "[CV 5/5] END C=0.2, coef0=1, degree=4, gamma=scale, kernel=rbf;, score=-0.540 total time=   0.7s\n",
      "[CV 1/5] END C=0.2, coef0=1, degree=4, gamma=scale, kernel=sigmoid;, score=-0.526 total time=   0.7s\n",
      "[CV 2/5] END C=0.2, coef0=1, degree=4, gamma=scale, kernel=sigmoid;, score=-0.682 total time=   0.7s\n",
      "[CV 3/5] END C=0.2, coef0=1, degree=4, gamma=scale, kernel=sigmoid;, score=-0.728 total time=   0.7s\n",
      "[CV 4/5] END C=0.2, coef0=1, degree=4, gamma=scale, kernel=sigmoid;, score=-0.433 total time=   0.7s\n",
      "[CV 5/5] END C=0.2, coef0=1, degree=4, gamma=scale, kernel=sigmoid;, score=-0.536 total time=   0.7s\n",
      "[CV 1/5] END C=0.5, coef0=1, degree=2, gamma=auto, kernel=linear;, score=-0.527 total time=   0.3s\n",
      "[CV 2/5] END C=0.5, coef0=1, degree=2, gamma=auto, kernel=linear;, score=-0.685 total time=   0.3s\n",
      "[CV 3/5] END C=0.5, coef0=1, degree=2, gamma=auto, kernel=linear;, score=-0.729 total time=   0.3s\n",
      "[CV 4/5] END C=0.5, coef0=1, degree=2, gamma=auto, kernel=linear;, score=-0.433 total time=   0.3s\n",
      "[CV 5/5] END C=0.5, coef0=1, degree=2, gamma=auto, kernel=linear;, score=-0.537 total time=   0.3s\n",
      "[CV 1/5] END C=0.5, coef0=1, degree=2, gamma=auto, kernel=poly;, score=-0.526 total time=   0.4s\n",
      "[CV 2/5] END C=0.5, coef0=1, degree=2, gamma=auto, kernel=poly;, score=-0.682 total time=   0.4s\n",
      "[CV 3/5] END C=0.5, coef0=1, degree=2, gamma=auto, kernel=poly;, score=-0.728 total time=   0.4s\n",
      "[CV 4/5] END C=0.5, coef0=1, degree=2, gamma=auto, kernel=poly;, score=-0.433 total time=   0.4s\n",
      "[CV 5/5] END C=0.5, coef0=1, degree=2, gamma=auto, kernel=poly;, score=-0.537 total time=   0.4s\n",
      "[CV 1/5] END C=0.5, coef0=1, degree=2, gamma=auto, kernel=rbf;, score=-0.526 total time=   0.7s\n",
      "[CV 2/5] END C=0.5, coef0=1, degree=2, gamma=auto, kernel=rbf;, score=-0.682 total time=   0.7s\n",
      "[CV 3/5] END C=0.5, coef0=1, degree=2, gamma=auto, kernel=rbf;, score=-0.728 total time=   0.7s\n",
      "[CV 4/5] END C=0.5, coef0=1, degree=2, gamma=auto, kernel=rbf;, score=-0.433 total time=   0.6s\n",
      "[CV 5/5] END C=0.5, coef0=1, degree=2, gamma=auto, kernel=rbf;, score=-0.536 total time=   0.7s\n",
      "[CV 1/5] END C=0.5, coef0=1, degree=2, gamma=auto, kernel=sigmoid;, score=-0.526 total time=   0.5s\n",
      "[CV 2/5] END C=0.5, coef0=1, degree=2, gamma=auto, kernel=sigmoid;, score=-0.682 total time=   0.6s\n",
      "[CV 3/5] END C=0.5, coef0=1, degree=2, gamma=auto, kernel=sigmoid;, score=-0.728 total time=   0.6s\n",
      "[CV 4/5] END C=0.5, coef0=1, degree=2, gamma=auto, kernel=sigmoid;, score=-0.433 total time=   0.5s\n",
      "[CV 5/5] END C=0.5, coef0=1, degree=2, gamma=auto, kernel=sigmoid;, score=-0.536 total time=   0.5s\n",
      "[CV 1/5] END C=0.5, coef0=1, degree=2, gamma=0.1, kernel=linear;, score=-0.527 total time=   0.3s\n",
      "[CV 2/5] END C=0.5, coef0=1, degree=2, gamma=0.1, kernel=linear;, score=-0.685 total time=   0.3s\n",
      "[CV 3/5] END C=0.5, coef0=1, degree=2, gamma=0.1, kernel=linear;, score=-0.729 total time=   0.3s\n",
      "[CV 4/5] END C=0.5, coef0=1, degree=2, gamma=0.1, kernel=linear;, score=-0.433 total time=   0.3s\n",
      "[CV 5/5] END C=0.5, coef0=1, degree=2, gamma=0.1, kernel=linear;, score=-0.537 total time=   0.3s\n",
      "[CV 1/5] END C=0.5, coef0=1, degree=2, gamma=0.1, kernel=poly;, score=-0.526 total time=   0.4s\n",
      "[CV 2/5] END C=0.5, coef0=1, degree=2, gamma=0.1, kernel=poly;, score=-0.682 total time=   0.4s\n",
      "[CV 3/5] END C=0.5, coef0=1, degree=2, gamma=0.1, kernel=poly;, score=-0.728 total time=   0.4s\n",
      "[CV 4/5] END C=0.5, coef0=1, degree=2, gamma=0.1, kernel=poly;, score=-0.433 total time=   0.4s\n",
      "[CV 5/5] END C=0.5, coef0=1, degree=2, gamma=0.1, kernel=poly;, score=-0.537 total time=   0.4s\n",
      "[CV 1/5] END C=0.5, coef0=1, degree=2, gamma=0.1, kernel=rbf;, score=-0.526 total time=   0.7s\n",
      "[CV 2/5] END C=0.5, coef0=1, degree=2, gamma=0.1, kernel=rbf;, score=-0.682 total time=   0.7s\n",
      "[CV 3/5] END C=0.5, coef0=1, degree=2, gamma=0.1, kernel=rbf;, score=-0.728 total time=   0.7s\n",
      "[CV 4/5] END C=0.5, coef0=1, degree=2, gamma=0.1, kernel=rbf;, score=-0.433 total time=   0.6s\n",
      "[CV 5/5] END C=0.5, coef0=1, degree=2, gamma=0.1, kernel=rbf;, score=-0.536 total time=   0.7s\n",
      "[CV 1/5] END C=0.5, coef0=1, degree=2, gamma=0.1, kernel=sigmoid;, score=-0.526 total time=   0.5s\n",
      "[CV 2/5] END C=0.5, coef0=1, degree=2, gamma=0.1, kernel=sigmoid;, score=-0.682 total time=   0.6s\n",
      "[CV 3/5] END C=0.5, coef0=1, degree=2, gamma=0.1, kernel=sigmoid;, score=-0.728 total time=   0.6s\n",
      "[CV 4/5] END C=0.5, coef0=1, degree=2, gamma=0.1, kernel=sigmoid;, score=-0.433 total time=   0.5s\n",
      "[CV 5/5] END C=0.5, coef0=1, degree=2, gamma=0.1, kernel=sigmoid;, score=-0.536 total time=   0.5s\n",
      "[CV 1/5] END C=0.5, coef0=1, degree=2, gamma=scale, kernel=linear;, score=-0.527 total time=   0.3s\n",
      "[CV 2/5] END C=0.5, coef0=1, degree=2, gamma=scale, kernel=linear;, score=-0.685 total time=   0.3s\n",
      "[CV 3/5] END C=0.5, coef0=1, degree=2, gamma=scale, kernel=linear;, score=-0.729 total time=   0.3s\n",
      "[CV 4/5] END C=0.5, coef0=1, degree=2, gamma=scale, kernel=linear;, score=-0.433 total time=   0.3s\n",
      "[CV 5/5] END C=0.5, coef0=1, degree=2, gamma=scale, kernel=linear;, score=-0.537 total time=   0.3s\n",
      "[CV 1/5] END C=0.5, coef0=1, degree=2, gamma=scale, kernel=poly;, score=-0.526 total time=   0.4s\n",
      "[CV 2/5] END C=0.5, coef0=1, degree=2, gamma=scale, kernel=poly;, score=-0.680 total time=   0.4s\n",
      "[CV 3/5] END C=0.5, coef0=1, degree=2, gamma=scale, kernel=poly;, score=-0.728 total time=   0.4s\n",
      "[CV 4/5] END C=0.5, coef0=1, degree=2, gamma=scale, kernel=poly;, score=-0.434 total time=   0.4s\n",
      "[CV 5/5] END C=0.5, coef0=1, degree=2, gamma=scale, kernel=poly;, score=-0.535 total time=   0.4s\n",
      "[CV 1/5] END C=0.5, coef0=1, degree=2, gamma=scale, kernel=rbf;, score=-0.528 total time=   0.7s\n",
      "[CV 2/5] END C=0.5, coef0=1, degree=2, gamma=scale, kernel=rbf;, score=-0.684 total time=   0.7s\n",
      "[CV 3/5] END C=0.5, coef0=1, degree=2, gamma=scale, kernel=rbf;, score=-0.731 total time=   0.7s\n",
      "[CV 4/5] END C=0.5, coef0=1, degree=2, gamma=scale, kernel=rbf;, score=-0.435 total time=   0.6s\n",
      "[CV 5/5] END C=0.5, coef0=1, degree=2, gamma=scale, kernel=rbf;, score=-0.535 total time=   0.7s\n",
      "[CV 1/5] END C=0.5, coef0=1, degree=2, gamma=scale, kernel=sigmoid;, score=-0.526 total time=   0.7s\n",
      "[CV 2/5] END C=0.5, coef0=1, degree=2, gamma=scale, kernel=sigmoid;, score=-0.682 total time=   0.7s\n",
      "[CV 3/5] END C=0.5, coef0=1, degree=2, gamma=scale, kernel=sigmoid;, score=-0.728 total time=   0.7s\n",
      "[CV 4/5] END C=0.5, coef0=1, degree=2, gamma=scale, kernel=sigmoid;, score=-0.433 total time=   0.7s\n"
     ]
    },
    {
     "name": "stdout",
     "output_type": "stream",
     "text": [
      "[CV 5/5] END C=0.5, coef0=1, degree=2, gamma=scale, kernel=sigmoid;, score=-0.536 total time=   0.7s\n",
      "[CV 1/5] END C=0.5, coef0=1, degree=3, gamma=auto, kernel=linear;, score=-0.527 total time=   0.3s\n",
      "[CV 2/5] END C=0.5, coef0=1, degree=3, gamma=auto, kernel=linear;, score=-0.685 total time=   0.3s\n",
      "[CV 3/5] END C=0.5, coef0=1, degree=3, gamma=auto, kernel=linear;, score=-0.729 total time=   0.3s\n",
      "[CV 4/5] END C=0.5, coef0=1, degree=3, gamma=auto, kernel=linear;, score=-0.433 total time=   0.3s\n",
      "[CV 5/5] END C=0.5, coef0=1, degree=3, gamma=auto, kernel=linear;, score=-0.537 total time=   0.3s\n",
      "[CV 1/5] END C=0.5, coef0=1, degree=3, gamma=auto, kernel=poly;, score=-0.526 total time=   0.4s\n",
      "[CV 2/5] END C=0.5, coef0=1, degree=3, gamma=auto, kernel=poly;, score=-0.682 total time=   0.4s\n",
      "[CV 3/5] END C=0.5, coef0=1, degree=3, gamma=auto, kernel=poly;, score=-0.728 total time=   0.4s\n",
      "[CV 4/5] END C=0.5, coef0=1, degree=3, gamma=auto, kernel=poly;, score=-0.433 total time=   0.4s\n",
      "[CV 5/5] END C=0.5, coef0=1, degree=3, gamma=auto, kernel=poly;, score=-0.537 total time=   0.4s\n",
      "[CV 1/5] END C=0.5, coef0=1, degree=3, gamma=auto, kernel=rbf;, score=-0.526 total time=   0.7s\n",
      "[CV 2/5] END C=0.5, coef0=1, degree=3, gamma=auto, kernel=rbf;, score=-0.682 total time=   0.7s\n",
      "[CV 3/5] END C=0.5, coef0=1, degree=3, gamma=auto, kernel=rbf;, score=-0.728 total time=   0.7s\n",
      "[CV 4/5] END C=0.5, coef0=1, degree=3, gamma=auto, kernel=rbf;, score=-0.433 total time=   0.6s\n",
      "[CV 5/5] END C=0.5, coef0=1, degree=3, gamma=auto, kernel=rbf;, score=-0.536 total time=   0.7s\n",
      "[CV 1/5] END C=0.5, coef0=1, degree=3, gamma=auto, kernel=sigmoid;, score=-0.526 total time=   0.5s\n",
      "[CV 2/5] END C=0.5, coef0=1, degree=3, gamma=auto, kernel=sigmoid;, score=-0.682 total time=   0.6s\n",
      "[CV 3/5] END C=0.5, coef0=1, degree=3, gamma=auto, kernel=sigmoid;, score=-0.728 total time=   0.6s\n",
      "[CV 4/5] END C=0.5, coef0=1, degree=3, gamma=auto, kernel=sigmoid;, score=-0.433 total time=   0.5s\n",
      "[CV 5/5] END C=0.5, coef0=1, degree=3, gamma=auto, kernel=sigmoid;, score=-0.536 total time=   0.5s\n",
      "[CV 1/5] END C=0.5, coef0=1, degree=3, gamma=0.1, kernel=linear;, score=-0.527 total time=   0.3s\n",
      "[CV 2/5] END C=0.5, coef0=1, degree=3, gamma=0.1, kernel=linear;, score=-0.685 total time=   0.3s\n",
      "[CV 3/5] END C=0.5, coef0=1, degree=3, gamma=0.1, kernel=linear;, score=-0.729 total time=   0.3s\n",
      "[CV 4/5] END C=0.5, coef0=1, degree=3, gamma=0.1, kernel=linear;, score=-0.433 total time=   0.3s\n",
      "[CV 5/5] END C=0.5, coef0=1, degree=3, gamma=0.1, kernel=linear;, score=-0.537 total time=   0.3s\n",
      "[CV 1/5] END C=0.5, coef0=1, degree=3, gamma=0.1, kernel=poly;, score=-0.526 total time=   0.4s\n",
      "[CV 2/5] END C=0.5, coef0=1, degree=3, gamma=0.1, kernel=poly;, score=-0.682 total time=   0.4s\n",
      "[CV 3/5] END C=0.5, coef0=1, degree=3, gamma=0.1, kernel=poly;, score=-0.728 total time=   0.4s\n",
      "[CV 4/5] END C=0.5, coef0=1, degree=3, gamma=0.1, kernel=poly;, score=-0.433 total time=   0.4s\n",
      "[CV 5/5] END C=0.5, coef0=1, degree=3, gamma=0.1, kernel=poly;, score=-0.537 total time=   0.4s\n",
      "[CV 1/5] END C=0.5, coef0=1, degree=3, gamma=0.1, kernel=rbf;, score=-0.526 total time=   0.7s\n",
      "[CV 2/5] END C=0.5, coef0=1, degree=3, gamma=0.1, kernel=rbf;, score=-0.682 total time=   0.7s\n",
      "[CV 3/5] END C=0.5, coef0=1, degree=3, gamma=0.1, kernel=rbf;, score=-0.728 total time=   0.7s\n",
      "[CV 4/5] END C=0.5, coef0=1, degree=3, gamma=0.1, kernel=rbf;, score=-0.433 total time=   0.6s\n",
      "[CV 5/5] END C=0.5, coef0=1, degree=3, gamma=0.1, kernel=rbf;, score=-0.536 total time=   0.7s\n",
      "[CV 1/5] END C=0.5, coef0=1, degree=3, gamma=0.1, kernel=sigmoid;, score=-0.526 total time=   0.5s\n",
      "[CV 2/5] END C=0.5, coef0=1, degree=3, gamma=0.1, kernel=sigmoid;, score=-0.682 total time=   0.6s\n",
      "[CV 3/5] END C=0.5, coef0=1, degree=3, gamma=0.1, kernel=sigmoid;, score=-0.728 total time=   0.6s\n",
      "[CV 4/5] END C=0.5, coef0=1, degree=3, gamma=0.1, kernel=sigmoid;, score=-0.433 total time=   0.5s\n",
      "[CV 5/5] END C=0.5, coef0=1, degree=3, gamma=0.1, kernel=sigmoid;, score=-0.536 total time=   0.5s\n",
      "[CV 1/5] END C=0.5, coef0=1, degree=3, gamma=scale, kernel=linear;, score=-0.527 total time=   0.3s\n",
      "[CV 2/5] END C=0.5, coef0=1, degree=3, gamma=scale, kernel=linear;, score=-0.685 total time=   0.3s\n",
      "[CV 3/5] END C=0.5, coef0=1, degree=3, gamma=scale, kernel=linear;, score=-0.729 total time=   0.3s\n",
      "[CV 4/5] END C=0.5, coef0=1, degree=3, gamma=scale, kernel=linear;, score=-0.433 total time=   0.3s\n",
      "[CV 5/5] END C=0.5, coef0=1, degree=3, gamma=scale, kernel=linear;, score=-0.537 total time=   0.3s\n",
      "[CV 1/5] END C=0.5, coef0=1, degree=3, gamma=scale, kernel=poly;, score=-0.525 total time=   0.4s\n",
      "[CV 2/5] END C=0.5, coef0=1, degree=3, gamma=scale, kernel=poly;, score=-0.686 total time=   0.4s\n",
      "[CV 3/5] END C=0.5, coef0=1, degree=3, gamma=scale, kernel=poly;, score=-0.732 total time=   0.4s\n",
      "[CV 4/5] END C=0.5, coef0=1, degree=3, gamma=scale, kernel=poly;, score=-0.433 total time=   0.4s\n",
      "[CV 5/5] END C=0.5, coef0=1, degree=3, gamma=scale, kernel=poly;, score=-0.525 total time=   0.4s\n",
      "[CV 1/5] END C=0.5, coef0=1, degree=3, gamma=scale, kernel=rbf;, score=-0.528 total time=   0.7s\n",
      "[CV 2/5] END C=0.5, coef0=1, degree=3, gamma=scale, kernel=rbf;, score=-0.684 total time=   0.7s\n",
      "[CV 3/5] END C=0.5, coef0=1, degree=3, gamma=scale, kernel=rbf;, score=-0.731 total time=   0.7s\n",
      "[CV 4/5] END C=0.5, coef0=1, degree=3, gamma=scale, kernel=rbf;, score=-0.435 total time=   0.6s\n",
      "[CV 5/5] END C=0.5, coef0=1, degree=3, gamma=scale, kernel=rbf;, score=-0.535 total time=   0.7s\n",
      "[CV 1/5] END C=0.5, coef0=1, degree=3, gamma=scale, kernel=sigmoid;, score=-0.526 total time=   0.7s\n",
      "[CV 2/5] END C=0.5, coef0=1, degree=3, gamma=scale, kernel=sigmoid;, score=-0.682 total time=   0.7s\n",
      "[CV 3/5] END C=0.5, coef0=1, degree=3, gamma=scale, kernel=sigmoid;, score=-0.728 total time=   0.7s\n",
      "[CV 4/5] END C=0.5, coef0=1, degree=3, gamma=scale, kernel=sigmoid;, score=-0.433 total time=   0.7s\n",
      "[CV 5/5] END C=0.5, coef0=1, degree=3, gamma=scale, kernel=sigmoid;, score=-0.536 total time=   0.7s\n",
      "[CV 1/5] END C=0.5, coef0=1, degree=4, gamma=auto, kernel=linear;, score=-0.527 total time=   0.3s\n",
      "[CV 2/5] END C=0.5, coef0=1, degree=4, gamma=auto, kernel=linear;, score=-0.685 total time=   0.3s\n",
      "[CV 3/5] END C=0.5, coef0=1, degree=4, gamma=auto, kernel=linear;, score=-0.729 total time=   0.3s\n",
      "[CV 4/5] END C=0.5, coef0=1, degree=4, gamma=auto, kernel=linear;, score=-0.433 total time=   0.3s\n",
      "[CV 5/5] END C=0.5, coef0=1, degree=4, gamma=auto, kernel=linear;, score=-0.537 total time=   0.3s\n",
      "[CV 1/5] END C=0.5, coef0=1, degree=4, gamma=auto, kernel=poly;, score=-0.526 total time=   0.4s\n",
      "[CV 2/5] END C=0.5, coef0=1, degree=4, gamma=auto, kernel=poly;, score=-0.682 total time=   0.4s\n",
      "[CV 3/5] END C=0.5, coef0=1, degree=4, gamma=auto, kernel=poly;, score=-0.728 total time=   0.4s\n",
      "[CV 4/5] END C=0.5, coef0=1, degree=4, gamma=auto, kernel=poly;, score=-0.433 total time=   0.4s\n",
      "[CV 5/5] END C=0.5, coef0=1, degree=4, gamma=auto, kernel=poly;, score=-0.537 total time=   0.4s\n",
      "[CV 1/5] END C=0.5, coef0=1, degree=4, gamma=auto, kernel=rbf;, score=-0.526 total time=   0.7s\n",
      "[CV 2/5] END C=0.5, coef0=1, degree=4, gamma=auto, kernel=rbf;, score=-0.682 total time=   0.7s\n",
      "[CV 3/5] END C=0.5, coef0=1, degree=4, gamma=auto, kernel=rbf;, score=-0.728 total time=   0.7s\n",
      "[CV 4/5] END C=0.5, coef0=1, degree=4, gamma=auto, kernel=rbf;, score=-0.433 total time=   0.6s\n",
      "[CV 5/5] END C=0.5, coef0=1, degree=4, gamma=auto, kernel=rbf;, score=-0.536 total time=   0.7s\n",
      "[CV 1/5] END C=0.5, coef0=1, degree=4, gamma=auto, kernel=sigmoid;, score=-0.526 total time=   0.5s\n",
      "[CV 2/5] END C=0.5, coef0=1, degree=4, gamma=auto, kernel=sigmoid;, score=-0.682 total time=   0.6s\n",
      "[CV 3/5] END C=0.5, coef0=1, degree=4, gamma=auto, kernel=sigmoid;, score=-0.728 total time=   0.6s\n",
      "[CV 4/5] END C=0.5, coef0=1, degree=4, gamma=auto, kernel=sigmoid;, score=-0.433 total time=   0.5s\n",
      "[CV 5/5] END C=0.5, coef0=1, degree=4, gamma=auto, kernel=sigmoid;, score=-0.536 total time=   0.5s\n",
      "[CV 1/5] END C=0.5, coef0=1, degree=4, gamma=0.1, kernel=linear;, score=-0.527 total time=   0.3s\n",
      "[CV 2/5] END C=0.5, coef0=1, degree=4, gamma=0.1, kernel=linear;, score=-0.685 total time=   0.3s\n",
      "[CV 3/5] END C=0.5, coef0=1, degree=4, gamma=0.1, kernel=linear;, score=-0.729 total time=   0.3s\n"
     ]
    },
    {
     "name": "stdout",
     "output_type": "stream",
     "text": [
      "[CV 4/5] END C=0.5, coef0=1, degree=4, gamma=0.1, kernel=linear;, score=-0.433 total time=   0.3s\n",
      "[CV 5/5] END C=0.5, coef0=1, degree=4, gamma=0.1, kernel=linear;, score=-0.537 total time=   0.3s\n",
      "[CV 1/5] END C=0.5, coef0=1, degree=4, gamma=0.1, kernel=poly;, score=-0.526 total time=   0.4s\n",
      "[CV 2/5] END C=0.5, coef0=1, degree=4, gamma=0.1, kernel=poly;, score=-0.682 total time=   0.4s\n",
      "[CV 3/5] END C=0.5, coef0=1, degree=4, gamma=0.1, kernel=poly;, score=-0.728 total time=   0.4s\n",
      "[CV 4/5] END C=0.5, coef0=1, degree=4, gamma=0.1, kernel=poly;, score=-0.433 total time=   0.4s\n",
      "[CV 5/5] END C=0.5, coef0=1, degree=4, gamma=0.1, kernel=poly;, score=-0.537 total time=   0.4s\n",
      "[CV 1/5] END C=0.5, coef0=1, degree=4, gamma=0.1, kernel=rbf;, score=-0.526 total time=   0.7s\n",
      "[CV 2/5] END C=0.5, coef0=1, degree=4, gamma=0.1, kernel=rbf;, score=-0.682 total time=   0.7s\n",
      "[CV 3/5] END C=0.5, coef0=1, degree=4, gamma=0.1, kernel=rbf;, score=-0.728 total time=   0.7s\n",
      "[CV 4/5] END C=0.5, coef0=1, degree=4, gamma=0.1, kernel=rbf;, score=-0.433 total time=   0.6s\n",
      "[CV 5/5] END C=0.5, coef0=1, degree=4, gamma=0.1, kernel=rbf;, score=-0.536 total time=   0.7s\n",
      "[CV 1/5] END C=0.5, coef0=1, degree=4, gamma=0.1, kernel=sigmoid;, score=-0.526 total time=   0.5s\n",
      "[CV 2/5] END C=0.5, coef0=1, degree=4, gamma=0.1, kernel=sigmoid;, score=-0.682 total time=   0.6s\n",
      "[CV 3/5] END C=0.5, coef0=1, degree=4, gamma=0.1, kernel=sigmoid;, score=-0.728 total time=   0.6s\n",
      "[CV 4/5] END C=0.5, coef0=1, degree=4, gamma=0.1, kernel=sigmoid;, score=-0.433 total time=   0.5s\n",
      "[CV 5/5] END C=0.5, coef0=1, degree=4, gamma=0.1, kernel=sigmoid;, score=-0.536 total time=   0.5s\n",
      "[CV 1/5] END C=0.5, coef0=1, degree=4, gamma=scale, kernel=linear;, score=-0.527 total time=   0.3s\n",
      "[CV 2/5] END C=0.5, coef0=1, degree=4, gamma=scale, kernel=linear;, score=-0.685 total time=   0.3s\n",
      "[CV 3/5] END C=0.5, coef0=1, degree=4, gamma=scale, kernel=linear;, score=-0.729 total time=   0.3s\n",
      "[CV 4/5] END C=0.5, coef0=1, degree=4, gamma=scale, kernel=linear;, score=-0.433 total time=   0.3s\n",
      "[CV 5/5] END C=0.5, coef0=1, degree=4, gamma=scale, kernel=linear;, score=-0.537 total time=   0.3s\n",
      "[CV 1/5] END C=0.5, coef0=1, degree=4, gamma=scale, kernel=poly;, score=-0.523 total time=   0.4s\n",
      "[CV 2/5] END C=0.5, coef0=1, degree=4, gamma=scale, kernel=poly;, score=-0.683 total time=   0.4s\n",
      "[CV 3/5] END C=0.5, coef0=1, degree=4, gamma=scale, kernel=poly;, score=-0.726 total time=   0.4s\n",
      "[CV 4/5] END C=0.5, coef0=1, degree=4, gamma=scale, kernel=poly;, score=-0.434 total time=   0.4s\n",
      "[CV 5/5] END C=0.5, coef0=1, degree=4, gamma=scale, kernel=poly;, score=-0.533 total time=   0.4s\n",
      "[CV 1/5] END C=0.5, coef0=1, degree=4, gamma=scale, kernel=rbf;, score=-0.528 total time=   0.7s\n",
      "[CV 2/5] END C=0.5, coef0=1, degree=4, gamma=scale, kernel=rbf;, score=-0.684 total time=   0.7s\n",
      "[CV 3/5] END C=0.5, coef0=1, degree=4, gamma=scale, kernel=rbf;, score=-0.731 total time=   0.7s\n",
      "[CV 4/5] END C=0.5, coef0=1, degree=4, gamma=scale, kernel=rbf;, score=-0.435 total time=   0.6s\n",
      "[CV 5/5] END C=0.5, coef0=1, degree=4, gamma=scale, kernel=rbf;, score=-0.535 total time=   0.7s\n",
      "[CV 1/5] END C=0.5, coef0=1, degree=4, gamma=scale, kernel=sigmoid;, score=-0.526 total time=   0.7s\n",
      "[CV 2/5] END C=0.5, coef0=1, degree=4, gamma=scale, kernel=sigmoid;, score=-0.682 total time=   0.7s\n",
      "[CV 3/5] END C=0.5, coef0=1, degree=4, gamma=scale, kernel=sigmoid;, score=-0.728 total time=   0.7s\n",
      "[CV 4/5] END C=0.5, coef0=1, degree=4, gamma=scale, kernel=sigmoid;, score=-0.433 total time=   0.7s\n",
      "[CV 5/5] END C=0.5, coef0=1, degree=4, gamma=scale, kernel=sigmoid;, score=-0.536 total time=   0.7s\n",
      "[CV 1/5] END C=1, coef0=1, degree=2, gamma=auto, kernel=linear;, score=-0.527 total time=   0.3s\n",
      "[CV 2/5] END C=1, coef0=1, degree=2, gamma=auto, kernel=linear;, score=-0.681 total time=   0.3s\n",
      "[CV 3/5] END C=1, coef0=1, degree=2, gamma=auto, kernel=linear;, score=-0.731 total time=   0.3s\n",
      "[CV 4/5] END C=1, coef0=1, degree=2, gamma=auto, kernel=linear;, score=-0.433 total time=   0.3s\n",
      "[CV 5/5] END C=1, coef0=1, degree=2, gamma=auto, kernel=linear;, score=-0.539 total time=   0.3s\n",
      "[CV 1/5] END C=1, coef0=1, degree=2, gamma=auto, kernel=poly;, score=-0.526 total time=   0.4s\n",
      "[CV 2/5] END C=1, coef0=1, degree=2, gamma=auto, kernel=poly;, score=-0.682 total time=   0.4s\n",
      "[CV 3/5] END C=1, coef0=1, degree=2, gamma=auto, kernel=poly;, score=-0.728 total time=   0.4s\n",
      "[CV 4/5] END C=1, coef0=1, degree=2, gamma=auto, kernel=poly;, score=-0.433 total time=   0.4s\n",
      "[CV 5/5] END C=1, coef0=1, degree=2, gamma=auto, kernel=poly;, score=-0.538 total time=   0.4s\n",
      "[CV 1/5] END C=1, coef0=1, degree=2, gamma=auto, kernel=rbf;, score=-0.526 total time=   0.7s\n",
      "[CV 2/5] END C=1, coef0=1, degree=2, gamma=auto, kernel=rbf;, score=-0.682 total time=   0.7s\n",
      "[CV 3/5] END C=1, coef0=1, degree=2, gamma=auto, kernel=rbf;, score=-0.728 total time=   0.7s\n",
      "[CV 4/5] END C=1, coef0=1, degree=2, gamma=auto, kernel=rbf;, score=-0.433 total time=   0.6s\n",
      "[CV 5/5] END C=1, coef0=1, degree=2, gamma=auto, kernel=rbf;, score=-0.536 total time=   0.7s\n",
      "[CV 1/5] END C=1, coef0=1, degree=2, gamma=auto, kernel=sigmoid;, score=-0.526 total time=   0.5s\n",
      "[CV 2/5] END C=1, coef0=1, degree=2, gamma=auto, kernel=sigmoid;, score=-0.682 total time=   0.6s\n",
      "[CV 3/5] END C=1, coef0=1, degree=2, gamma=auto, kernel=sigmoid;, score=-0.728 total time=   0.6s\n",
      "[CV 4/5] END C=1, coef0=1, degree=2, gamma=auto, kernel=sigmoid;, score=-0.433 total time=   0.5s\n",
      "[CV 5/5] END C=1, coef0=1, degree=2, gamma=auto, kernel=sigmoid;, score=-0.536 total time=   0.5s\n",
      "[CV 1/5] END C=1, coef0=1, degree=2, gamma=0.1, kernel=linear;, score=-0.527 total time=   0.3s\n",
      "[CV 2/5] END C=1, coef0=1, degree=2, gamma=0.1, kernel=linear;, score=-0.681 total time=   0.3s\n",
      "[CV 3/5] END C=1, coef0=1, degree=2, gamma=0.1, kernel=linear;, score=-0.731 total time=   0.3s\n",
      "[CV 4/5] END C=1, coef0=1, degree=2, gamma=0.1, kernel=linear;, score=-0.433 total time=   0.3s\n",
      "[CV 5/5] END C=1, coef0=1, degree=2, gamma=0.1, kernel=linear;, score=-0.539 total time=   0.3s\n",
      "[CV 1/5] END C=1, coef0=1, degree=2, gamma=0.1, kernel=poly;, score=-0.526 total time=   0.4s\n",
      "[CV 2/5] END C=1, coef0=1, degree=2, gamma=0.1, kernel=poly;, score=-0.682 total time=   0.4s\n",
      "[CV 3/5] END C=1, coef0=1, degree=2, gamma=0.1, kernel=poly;, score=-0.728 total time=   0.4s\n",
      "[CV 4/5] END C=1, coef0=1, degree=2, gamma=0.1, kernel=poly;, score=-0.433 total time=   0.4s\n",
      "[CV 5/5] END C=1, coef0=1, degree=2, gamma=0.1, kernel=poly;, score=-0.538 total time=   0.4s\n",
      "[CV 1/5] END C=1, coef0=1, degree=2, gamma=0.1, kernel=rbf;, score=-0.526 total time=   0.7s\n",
      "[CV 2/5] END C=1, coef0=1, degree=2, gamma=0.1, kernel=rbf;, score=-0.682 total time=   0.7s\n",
      "[CV 3/5] END C=1, coef0=1, degree=2, gamma=0.1, kernel=rbf;, score=-0.728 total time=   0.7s\n",
      "[CV 4/5] END C=1, coef0=1, degree=2, gamma=0.1, kernel=rbf;, score=-0.433 total time=   0.7s\n",
      "[CV 5/5] END C=1, coef0=1, degree=2, gamma=0.1, kernel=rbf;, score=-0.537 total time=   0.7s\n",
      "[CV 1/5] END C=1, coef0=1, degree=2, gamma=0.1, kernel=sigmoid;, score=-0.526 total time=   0.5s\n",
      "[CV 2/5] END C=1, coef0=1, degree=2, gamma=0.1, kernel=sigmoid;, score=-0.682 total time=   0.6s\n",
      "[CV 3/5] END C=1, coef0=1, degree=2, gamma=0.1, kernel=sigmoid;, score=-0.728 total time=   0.6s\n",
      "[CV 4/5] END C=1, coef0=1, degree=2, gamma=0.1, kernel=sigmoid;, score=-0.433 total time=   0.5s\n",
      "[CV 5/5] END C=1, coef0=1, degree=2, gamma=0.1, kernel=sigmoid;, score=-0.537 total time=   0.5s\n",
      "[CV 1/5] END C=1, coef0=1, degree=2, gamma=scale, kernel=linear;, score=-0.527 total time=   0.3s\n",
      "[CV 2/5] END C=1, coef0=1, degree=2, gamma=scale, kernel=linear;, score=-0.681 total time=   0.3s\n",
      "[CV 3/5] END C=1, coef0=1, degree=2, gamma=scale, kernel=linear;, score=-0.731 total time=   0.3s\n",
      "[CV 4/5] END C=1, coef0=1, degree=2, gamma=scale, kernel=linear;, score=-0.433 total time=   0.3s\n",
      "[CV 5/5] END C=1, coef0=1, degree=2, gamma=scale, kernel=linear;, score=-0.539 total time=   0.3s\n",
      "[CV 1/5] END C=1, coef0=1, degree=2, gamma=scale, kernel=poly;, score=-0.526 total time=   0.4s\n",
      "[CV 2/5] END C=1, coef0=1, degree=2, gamma=scale, kernel=poly;, score=-0.683 total time=   0.4s\n",
      "[CV 3/5] END C=1, coef0=1, degree=2, gamma=scale, kernel=poly;, score=-0.728 total time=   0.4s\n"
     ]
    },
    {
     "name": "stdout",
     "output_type": "stream",
     "text": [
      "[CV 4/5] END C=1, coef0=1, degree=2, gamma=scale, kernel=poly;, score=-0.435 total time=   0.4s\n",
      "[CV 5/5] END C=1, coef0=1, degree=2, gamma=scale, kernel=poly;, score=-0.535 total time=   0.4s\n",
      "[CV 1/5] END C=1, coef0=1, degree=2, gamma=scale, kernel=rbf;, score=-0.529 total time=   0.7s\n",
      "[CV 2/5] END C=1, coef0=1, degree=2, gamma=scale, kernel=rbf;, score=-0.687 total time=   0.7s\n",
      "[CV 3/5] END C=1, coef0=1, degree=2, gamma=scale, kernel=rbf;, score=-0.734 total time=   0.7s\n",
      "[CV 4/5] END C=1, coef0=1, degree=2, gamma=scale, kernel=rbf;, score=-0.437 total time=   0.6s\n",
      "[CV 5/5] END C=1, coef0=1, degree=2, gamma=scale, kernel=rbf;, score=-0.535 total time=   0.7s\n",
      "[CV 1/5] END C=1, coef0=1, degree=2, gamma=scale, kernel=sigmoid;, score=-0.526 total time=   0.7s\n",
      "[CV 2/5] END C=1, coef0=1, degree=2, gamma=scale, kernel=sigmoid;, score=-0.682 total time=   0.8s\n",
      "[CV 3/5] END C=1, coef0=1, degree=2, gamma=scale, kernel=sigmoid;, score=-0.728 total time=   0.7s\n",
      "[CV 4/5] END C=1, coef0=1, degree=2, gamma=scale, kernel=sigmoid;, score=-0.433 total time=   0.7s\n",
      "[CV 5/5] END C=1, coef0=1, degree=2, gamma=scale, kernel=sigmoid;, score=-0.536 total time=   0.7s\n",
      "[CV 1/5] END C=1, coef0=1, degree=3, gamma=auto, kernel=linear;, score=-0.527 total time=   0.3s\n",
      "[CV 2/5] END C=1, coef0=1, degree=3, gamma=auto, kernel=linear;, score=-0.681 total time=   0.3s\n",
      "[CV 3/5] END C=1, coef0=1, degree=3, gamma=auto, kernel=linear;, score=-0.731 total time=   0.3s\n",
      "[CV 4/5] END C=1, coef0=1, degree=3, gamma=auto, kernel=linear;, score=-0.433 total time=   0.3s\n",
      "[CV 5/5] END C=1, coef0=1, degree=3, gamma=auto, kernel=linear;, score=-0.539 total time=   0.3s\n",
      "[CV 1/5] END C=1, coef0=1, degree=3, gamma=auto, kernel=poly;, score=-0.526 total time=   0.4s\n",
      "[CV 2/5] END C=1, coef0=1, degree=3, gamma=auto, kernel=poly;, score=-0.682 total time=   0.4s\n",
      "[CV 3/5] END C=1, coef0=1, degree=3, gamma=auto, kernel=poly;, score=-0.728 total time=   0.4s\n",
      "[CV 4/5] END C=1, coef0=1, degree=3, gamma=auto, kernel=poly;, score=-0.433 total time=   0.4s\n",
      "[CV 5/5] END C=1, coef0=1, degree=3, gamma=auto, kernel=poly;, score=-0.538 total time=   0.4s\n",
      "[CV 1/5] END C=1, coef0=1, degree=3, gamma=auto, kernel=rbf;, score=-0.526 total time=   0.7s\n",
      "[CV 2/5] END C=1, coef0=1, degree=3, gamma=auto, kernel=rbf;, score=-0.682 total time=   0.7s\n",
      "[CV 3/5] END C=1, coef0=1, degree=3, gamma=auto, kernel=rbf;, score=-0.728 total time=   0.7s\n",
      "[CV 4/5] END C=1, coef0=1, degree=3, gamma=auto, kernel=rbf;, score=-0.433 total time=   0.6s\n",
      "[CV 5/5] END C=1, coef0=1, degree=3, gamma=auto, kernel=rbf;, score=-0.536 total time=   0.7s\n",
      "[CV 1/5] END C=1, coef0=1, degree=3, gamma=auto, kernel=sigmoid;, score=-0.526 total time=   0.5s\n",
      "[CV 2/5] END C=1, coef0=1, degree=3, gamma=auto, kernel=sigmoid;, score=-0.682 total time=   0.6s\n",
      "[CV 3/5] END C=1, coef0=1, degree=3, gamma=auto, kernel=sigmoid;, score=-0.728 total time=   0.6s\n",
      "[CV 4/5] END C=1, coef0=1, degree=3, gamma=auto, kernel=sigmoid;, score=-0.433 total time=   0.5s\n",
      "[CV 5/5] END C=1, coef0=1, degree=3, gamma=auto, kernel=sigmoid;, score=-0.536 total time=   0.5s\n",
      "[CV 1/5] END C=1, coef0=1, degree=3, gamma=0.1, kernel=linear;, score=-0.527 total time=   0.3s\n",
      "[CV 2/5] END C=1, coef0=1, degree=3, gamma=0.1, kernel=linear;, score=-0.681 total time=   0.3s\n",
      "[CV 3/5] END C=1, coef0=1, degree=3, gamma=0.1, kernel=linear;, score=-0.731 total time=   0.3s\n",
      "[CV 4/5] END C=1, coef0=1, degree=3, gamma=0.1, kernel=linear;, score=-0.433 total time=   0.3s\n",
      "[CV 5/5] END C=1, coef0=1, degree=3, gamma=0.1, kernel=linear;, score=-0.539 total time=   0.3s\n",
      "[CV 1/5] END C=1, coef0=1, degree=3, gamma=0.1, kernel=poly;, score=-0.526 total time=   0.4s\n",
      "[CV 2/5] END C=1, coef0=1, degree=3, gamma=0.1, kernel=poly;, score=-0.682 total time=   0.4s\n",
      "[CV 3/5] END C=1, coef0=1, degree=3, gamma=0.1, kernel=poly;, score=-0.728 total time=   0.4s\n",
      "[CV 4/5] END C=1, coef0=1, degree=3, gamma=0.1, kernel=poly;, score=-0.433 total time=   0.4s\n",
      "[CV 5/5] END C=1, coef0=1, degree=3, gamma=0.1, kernel=poly;, score=-0.537 total time=   0.4s\n",
      "[CV 1/5] END C=1, coef0=1, degree=3, gamma=0.1, kernel=rbf;, score=-0.526 total time=   0.7s\n",
      "[CV 2/5] END C=1, coef0=1, degree=3, gamma=0.1, kernel=rbf;, score=-0.682 total time=   0.7s\n",
      "[CV 3/5] END C=1, coef0=1, degree=3, gamma=0.1, kernel=rbf;, score=-0.728 total time=   0.7s\n",
      "[CV 4/5] END C=1, coef0=1, degree=3, gamma=0.1, kernel=rbf;, score=-0.433 total time=   0.6s\n",
      "[CV 5/5] END C=1, coef0=1, degree=3, gamma=0.1, kernel=rbf;, score=-0.537 total time=   0.7s\n",
      "[CV 1/5] END C=1, coef0=1, degree=3, gamma=0.1, kernel=sigmoid;, score=-0.526 total time=   0.5s\n",
      "[CV 2/5] END C=1, coef0=1, degree=3, gamma=0.1, kernel=sigmoid;, score=-0.682 total time=   0.6s\n",
      "[CV 3/5] END C=1, coef0=1, degree=3, gamma=0.1, kernel=sigmoid;, score=-0.728 total time=   0.6s\n",
      "[CV 4/5] END C=1, coef0=1, degree=3, gamma=0.1, kernel=sigmoid;, score=-0.433 total time=   0.5s\n",
      "[CV 5/5] END C=1, coef0=1, degree=3, gamma=0.1, kernel=sigmoid;, score=-0.537 total time=   0.5s\n",
      "[CV 1/5] END C=1, coef0=1, degree=3, gamma=scale, kernel=linear;, score=-0.527 total time=   0.3s\n",
      "[CV 2/5] END C=1, coef0=1, degree=3, gamma=scale, kernel=linear;, score=-0.681 total time=   0.3s\n",
      "[CV 3/5] END C=1, coef0=1, degree=3, gamma=scale, kernel=linear;, score=-0.731 total time=   0.3s\n",
      "[CV 4/5] END C=1, coef0=1, degree=3, gamma=scale, kernel=linear;, score=-0.433 total time=   0.3s\n",
      "[CV 5/5] END C=1, coef0=1, degree=3, gamma=scale, kernel=linear;, score=-0.539 total time=   0.3s\n",
      "[CV 1/5] END C=1, coef0=1, degree=3, gamma=scale, kernel=poly;, score=-0.526 total time=   0.4s\n",
      "[CV 2/5] END C=1, coef0=1, degree=3, gamma=scale, kernel=poly;, score=-0.681 total time=   0.4s\n",
      "[CV 3/5] END C=1, coef0=1, degree=3, gamma=scale, kernel=poly;, score=-0.729 total time=   0.4s\n",
      "[CV 4/5] END C=1, coef0=1, degree=3, gamma=scale, kernel=poly;, score=-0.436 total time=   0.4s\n",
      "[CV 5/5] END C=1, coef0=1, degree=3, gamma=scale, kernel=poly;, score=-0.532 total time=   0.4s\n",
      "[CV 1/5] END C=1, coef0=1, degree=3, gamma=scale, kernel=rbf;, score=-0.529 total time=   0.7s\n",
      "[CV 2/5] END C=1, coef0=1, degree=3, gamma=scale, kernel=rbf;, score=-0.687 total time=   0.7s\n",
      "[CV 3/5] END C=1, coef0=1, degree=3, gamma=scale, kernel=rbf;, score=-0.734 total time=   0.7s\n",
      "[CV 4/5] END C=1, coef0=1, degree=3, gamma=scale, kernel=rbf;, score=-0.437 total time=   0.6s\n",
      "[CV 5/5] END C=1, coef0=1, degree=3, gamma=scale, kernel=rbf;, score=-0.535 total time=   0.7s\n",
      "[CV 1/5] END C=1, coef0=1, degree=3, gamma=scale, kernel=sigmoid;, score=-0.526 total time=   0.7s\n",
      "[CV 2/5] END C=1, coef0=1, degree=3, gamma=scale, kernel=sigmoid;, score=-0.682 total time=   0.7s\n",
      "[CV 3/5] END C=1, coef0=1, degree=3, gamma=scale, kernel=sigmoid;, score=-0.728 total time=   0.7s\n",
      "[CV 4/5] END C=1, coef0=1, degree=3, gamma=scale, kernel=sigmoid;, score=-0.433 total time=   0.7s\n",
      "[CV 5/5] END C=1, coef0=1, degree=3, gamma=scale, kernel=sigmoid;, score=-0.536 total time=   0.7s\n",
      "[CV 1/5] END C=1, coef0=1, degree=4, gamma=auto, kernel=linear;, score=-0.527 total time=   0.3s\n",
      "[CV 2/5] END C=1, coef0=1, degree=4, gamma=auto, kernel=linear;, score=-0.681 total time=   0.3s\n",
      "[CV 3/5] END C=1, coef0=1, degree=4, gamma=auto, kernel=linear;, score=-0.731 total time=   0.3s\n",
      "[CV 4/5] END C=1, coef0=1, degree=4, gamma=auto, kernel=linear;, score=-0.433 total time=   0.3s\n",
      "[CV 5/5] END C=1, coef0=1, degree=4, gamma=auto, kernel=linear;, score=-0.539 total time=   0.3s\n",
      "[CV 1/5] END C=1, coef0=1, degree=4, gamma=auto, kernel=poly;, score=-0.526 total time=   0.4s\n",
      "[CV 2/5] END C=1, coef0=1, degree=4, gamma=auto, kernel=poly;, score=-0.682 total time=   0.4s\n",
      "[CV 3/5] END C=1, coef0=1, degree=4, gamma=auto, kernel=poly;, score=-0.728 total time=   0.4s\n",
      "[CV 4/5] END C=1, coef0=1, degree=4, gamma=auto, kernel=poly;, score=-0.433 total time=   0.4s\n",
      "[CV 5/5] END C=1, coef0=1, degree=4, gamma=auto, kernel=poly;, score=-0.538 total time=   0.4s\n",
      "[CV 1/5] END C=1, coef0=1, degree=4, gamma=auto, kernel=rbf;, score=-0.526 total time=   0.7s\n",
      "[CV 2/5] END C=1, coef0=1, degree=4, gamma=auto, kernel=rbf;, score=-0.682 total time=   0.7s\n",
      "[CV 3/5] END C=1, coef0=1, degree=4, gamma=auto, kernel=rbf;, score=-0.728 total time=   0.7s\n",
      "[CV 4/5] END C=1, coef0=1, degree=4, gamma=auto, kernel=rbf;, score=-0.433 total time=   0.6s\n"
     ]
    },
    {
     "name": "stdout",
     "output_type": "stream",
     "text": [
      "[CV 5/5] END C=1, coef0=1, degree=4, gamma=auto, kernel=rbf;, score=-0.536 total time=   0.7s\n",
      "[CV 1/5] END C=1, coef0=1, degree=4, gamma=auto, kernel=sigmoid;, score=-0.526 total time=   0.5s\n",
      "[CV 2/5] END C=1, coef0=1, degree=4, gamma=auto, kernel=sigmoid;, score=-0.682 total time=   0.6s\n",
      "[CV 3/5] END C=1, coef0=1, degree=4, gamma=auto, kernel=sigmoid;, score=-0.728 total time=   0.6s\n",
      "[CV 4/5] END C=1, coef0=1, degree=4, gamma=auto, kernel=sigmoid;, score=-0.433 total time=   0.5s\n",
      "[CV 5/5] END C=1, coef0=1, degree=4, gamma=auto, kernel=sigmoid;, score=-0.536 total time=   0.5s\n",
      "[CV 1/5] END C=1, coef0=1, degree=4, gamma=0.1, kernel=linear;, score=-0.527 total time=   0.3s\n",
      "[CV 2/5] END C=1, coef0=1, degree=4, gamma=0.1, kernel=linear;, score=-0.681 total time=   0.3s\n",
      "[CV 3/5] END C=1, coef0=1, degree=4, gamma=0.1, kernel=linear;, score=-0.731 total time=   0.3s\n",
      "[CV 4/5] END C=1, coef0=1, degree=4, gamma=0.1, kernel=linear;, score=-0.433 total time=   0.3s\n",
      "[CV 5/5] END C=1, coef0=1, degree=4, gamma=0.1, kernel=linear;, score=-0.539 total time=   0.3s\n",
      "[CV 1/5] END C=1, coef0=1, degree=4, gamma=0.1, kernel=poly;, score=-0.526 total time=   0.4s\n",
      "[CV 2/5] END C=1, coef0=1, degree=4, gamma=0.1, kernel=poly;, score=-0.682 total time=   0.4s\n",
      "[CV 3/5] END C=1, coef0=1, degree=4, gamma=0.1, kernel=poly;, score=-0.728 total time=   0.4s\n",
      "[CV 4/5] END C=1, coef0=1, degree=4, gamma=0.1, kernel=poly;, score=-0.434 total time=   0.4s\n",
      "[CV 5/5] END C=1, coef0=1, degree=4, gamma=0.1, kernel=poly;, score=-0.538 total time=   0.4s\n",
      "[CV 1/5] END C=1, coef0=1, degree=4, gamma=0.1, kernel=rbf;, score=-0.526 total time=   0.7s\n",
      "[CV 2/5] END C=1, coef0=1, degree=4, gamma=0.1, kernel=rbf;, score=-0.682 total time=   0.7s\n",
      "[CV 3/5] END C=1, coef0=1, degree=4, gamma=0.1, kernel=rbf;, score=-0.728 total time=   0.7s\n",
      "[CV 4/5] END C=1, coef0=1, degree=4, gamma=0.1, kernel=rbf;, score=-0.433 total time=   0.6s\n",
      "[CV 5/5] END C=1, coef0=1, degree=4, gamma=0.1, kernel=rbf;, score=-0.537 total time=   0.7s\n",
      "[CV 1/5] END C=1, coef0=1, degree=4, gamma=0.1, kernel=sigmoid;, score=-0.526 total time=   0.5s\n",
      "[CV 2/5] END C=1, coef0=1, degree=4, gamma=0.1, kernel=sigmoid;, score=-0.682 total time=   0.6s\n",
      "[CV 3/5] END C=1, coef0=1, degree=4, gamma=0.1, kernel=sigmoid;, score=-0.728 total time=   0.6s\n",
      "[CV 4/5] END C=1, coef0=1, degree=4, gamma=0.1, kernel=sigmoid;, score=-0.433 total time=   0.5s\n",
      "[CV 5/5] END C=1, coef0=1, degree=4, gamma=0.1, kernel=sigmoid;, score=-0.537 total time=   0.5s\n",
      "[CV 1/5] END C=1, coef0=1, degree=4, gamma=scale, kernel=linear;, score=-0.527 total time=   0.3s\n",
      "[CV 2/5] END C=1, coef0=1, degree=4, gamma=scale, kernel=linear;, score=-0.681 total time=   0.3s\n",
      "[CV 3/5] END C=1, coef0=1, degree=4, gamma=scale, kernel=linear;, score=-0.731 total time=   0.3s\n",
      "[CV 4/5] END C=1, coef0=1, degree=4, gamma=scale, kernel=linear;, score=-0.433 total time=   0.3s\n",
      "[CV 5/5] END C=1, coef0=1, degree=4, gamma=scale, kernel=linear;, score=-0.539 total time=   0.3s\n",
      "[CV 1/5] END C=1, coef0=1, degree=4, gamma=scale, kernel=poly;, score=-0.521 total time=   0.5s\n",
      "[CV 2/5] END C=1, coef0=1, degree=4, gamma=scale, kernel=poly;, score=-0.678 total time=   0.4s\n",
      "[CV 3/5] END C=1, coef0=1, degree=4, gamma=scale, kernel=poly;, score=-0.725 total time=   0.4s\n",
      "[CV 4/5] END C=1, coef0=1, degree=4, gamma=scale, kernel=poly;, score=-0.433 total time=   0.4s\n",
      "[CV 5/5] END C=1, coef0=1, degree=4, gamma=scale, kernel=poly;, score=-0.532 total time=   0.4s\n",
      "[CV 1/5] END C=1, coef0=1, degree=4, gamma=scale, kernel=rbf;, score=-0.529 total time=   0.7s\n",
      "[CV 2/5] END C=1, coef0=1, degree=4, gamma=scale, kernel=rbf;, score=-0.687 total time=   0.7s\n",
      "[CV 3/5] END C=1, coef0=1, degree=4, gamma=scale, kernel=rbf;, score=-0.734 total time=   0.7s\n",
      "[CV 4/5] END C=1, coef0=1, degree=4, gamma=scale, kernel=rbf;, score=-0.437 total time=   0.6s\n",
      "[CV 5/5] END C=1, coef0=1, degree=4, gamma=scale, kernel=rbf;, score=-0.535 total time=   0.7s\n",
      "[CV 1/5] END C=1, coef0=1, degree=4, gamma=scale, kernel=sigmoid;, score=-0.526 total time=   0.7s\n",
      "[CV 2/5] END C=1, coef0=1, degree=4, gamma=scale, kernel=sigmoid;, score=-0.682 total time=   0.7s\n",
      "[CV 3/5] END C=1, coef0=1, degree=4, gamma=scale, kernel=sigmoid;, score=-0.728 total time=   0.7s\n",
      "[CV 4/5] END C=1, coef0=1, degree=4, gamma=scale, kernel=sigmoid;, score=-0.433 total time=   0.7s\n",
      "[CV 5/5] END C=1, coef0=1, degree=4, gamma=scale, kernel=sigmoid;, score=-0.536 total time=   0.7s\n",
      "[CV 1/5] END C=100, coef0=1, degree=2, gamma=auto, kernel=linear;, score=-0.518 total time=   0.3s\n",
      "[CV 2/5] END C=100, coef0=1, degree=2, gamma=auto, kernel=linear;, score=-0.673 total time=   0.3s\n",
      "[CV 3/5] END C=100, coef0=1, degree=2, gamma=auto, kernel=linear;, score=-0.720 total time=   0.3s\n",
      "[CV 4/5] END C=100, coef0=1, degree=2, gamma=auto, kernel=linear;, score=-0.427 total time=   0.3s\n",
      "[CV 5/5] END C=100, coef0=1, degree=2, gamma=auto, kernel=linear;, score=-0.525 total time=   0.3s\n",
      "[CV 1/5] END C=100, coef0=1, degree=2, gamma=auto, kernel=poly;, score=-0.482 total time=   0.4s\n",
      "[CV 2/5] END C=100, coef0=1, degree=2, gamma=auto, kernel=poly;, score=-0.623 total time=   0.4s\n",
      "[CV 3/5] END C=100, coef0=1, degree=2, gamma=auto, kernel=poly;, score=-0.668 total time=   0.4s\n",
      "[CV 4/5] END C=100, coef0=1, degree=2, gamma=auto, kernel=poly;, score=-0.398 total time=   0.4s\n",
      "[CV 5/5] END C=100, coef0=1, degree=2, gamma=auto, kernel=poly;, score=-0.499 total time=   0.5s\n",
      "[CV 1/5] END C=100, coef0=1, degree=2, gamma=auto, kernel=rbf;, score=-0.520 total time=   0.7s\n",
      "[CV 2/5] END C=100, coef0=1, degree=2, gamma=auto, kernel=rbf;, score=-0.668 total time=   0.7s\n",
      "[CV 3/5] END C=100, coef0=1, degree=2, gamma=auto, kernel=rbf;, score=-0.719 total time=   0.7s\n",
      "[CV 4/5] END C=100, coef0=1, degree=2, gamma=auto, kernel=rbf;, score=-0.430 total time=   0.6s\n",
      "[CV 5/5] END C=100, coef0=1, degree=2, gamma=auto, kernel=rbf;, score=-0.527 total time=   0.7s\n",
      "[CV 1/5] END C=100, coef0=1, degree=2, gamma=auto, kernel=sigmoid;, score=-0.506 total time=   0.6s\n",
      "[CV 2/5] END C=100, coef0=1, degree=2, gamma=auto, kernel=sigmoid;, score=-0.653 total time=   0.6s\n",
      "[CV 3/5] END C=100, coef0=1, degree=2, gamma=auto, kernel=sigmoid;, score=-0.698 total time=   0.6s\n",
      "[CV 4/5] END C=100, coef0=1, degree=2, gamma=auto, kernel=sigmoid;, score=-0.426 total time=   0.5s\n",
      "[CV 5/5] END C=100, coef0=1, degree=2, gamma=auto, kernel=sigmoid;, score=-0.518 total time=   0.5s\n",
      "[CV 1/5] END C=100, coef0=1, degree=2, gamma=0.1, kernel=linear;, score=-0.518 total time=   0.3s\n",
      "[CV 2/5] END C=100, coef0=1, degree=2, gamma=0.1, kernel=linear;, score=-0.673 total time=   0.3s\n",
      "[CV 3/5] END C=100, coef0=1, degree=2, gamma=0.1, kernel=linear;, score=-0.720 total time=   0.3s\n",
      "[CV 4/5] END C=100, coef0=1, degree=2, gamma=0.1, kernel=linear;, score=-0.427 total time=   0.3s\n",
      "[CV 5/5] END C=100, coef0=1, degree=2, gamma=0.1, kernel=linear;, score=-0.525 total time=   0.3s\n",
      "[CV 1/5] END C=100, coef0=1, degree=2, gamma=0.1, kernel=poly;, score=-0.477 total time=   0.4s\n",
      "[CV 2/5] END C=100, coef0=1, degree=2, gamma=0.1, kernel=poly;, score=-0.620 total time=   0.4s\n",
      "[CV 3/5] END C=100, coef0=1, degree=2, gamma=0.1, kernel=poly;, score=-0.664 total time=   0.4s\n",
      "[CV 4/5] END C=100, coef0=1, degree=2, gamma=0.1, kernel=poly;, score=-0.392 total time=   0.4s\n",
      "[CV 5/5] END C=100, coef0=1, degree=2, gamma=0.1, kernel=poly;, score=-0.490 total time=   0.5s\n",
      "[CV 1/5] END C=100, coef0=1, degree=2, gamma=0.1, kernel=rbf;, score=-0.519 total time=   0.7s\n",
      "[CV 2/5] END C=100, coef0=1, degree=2, gamma=0.1, kernel=rbf;, score=-0.650 total time=   0.8s\n",
      "[CV 3/5] END C=100, coef0=1, degree=2, gamma=0.1, kernel=rbf;, score=-0.712 total time=   0.7s\n",
      "[CV 4/5] END C=100, coef0=1, degree=2, gamma=0.1, kernel=rbf;, score=-0.423 total time=   0.6s\n",
      "[CV 5/5] END C=100, coef0=1, degree=2, gamma=0.1, kernel=rbf;, score=-0.528 total time=   0.7s\n",
      "[CV 1/5] END C=100, coef0=1, degree=2, gamma=0.1, kernel=sigmoid;, score=-0.513 total time=   0.5s\n",
      "[CV 2/5] END C=100, coef0=1, degree=2, gamma=0.1, kernel=sigmoid;, score=-0.661 total time=   0.6s\n",
      "[CV 3/5] END C=100, coef0=1, degree=2, gamma=0.1, kernel=sigmoid;, score=-0.709 total time=   0.6s\n",
      "[CV 4/5] END C=100, coef0=1, degree=2, gamma=0.1, kernel=sigmoid;, score=-0.419 total time=   0.5s\n"
     ]
    },
    {
     "name": "stdout",
     "output_type": "stream",
     "text": [
      "[CV 5/5] END C=100, coef0=1, degree=2, gamma=0.1, kernel=sigmoid;, score=-0.531 total time=   0.5s\n",
      "[CV 1/5] END C=100, coef0=1, degree=2, gamma=scale, kernel=linear;, score=-0.518 total time=   0.3s\n",
      "[CV 2/5] END C=100, coef0=1, degree=2, gamma=scale, kernel=linear;, score=-0.673 total time=   0.3s\n",
      "[CV 3/5] END C=100, coef0=1, degree=2, gamma=scale, kernel=linear;, score=-0.720 total time=   0.3s\n",
      "[CV 4/5] END C=100, coef0=1, degree=2, gamma=scale, kernel=linear;, score=-0.427 total time=   0.3s\n",
      "[CV 5/5] END C=100, coef0=1, degree=2, gamma=scale, kernel=linear;, score=-0.525 total time=   0.3s\n",
      "[CV 1/5] END C=100, coef0=1, degree=2, gamma=scale, kernel=poly;, score=-0.398 total time=   0.5s\n",
      "[CV 2/5] END C=100, coef0=1, degree=2, gamma=scale, kernel=poly;, score=-0.513 total time=   0.5s\n",
      "[CV 3/5] END C=100, coef0=1, degree=2, gamma=scale, kernel=poly;, score=-0.596 total time=   0.5s\n",
      "[CV 4/5] END C=100, coef0=1, degree=2, gamma=scale, kernel=poly;, score=-0.360 total time=   0.4s\n",
      "[CV 5/5] END C=100, coef0=1, degree=2, gamma=scale, kernel=poly;, score=-0.427 total time=   0.5s\n",
      "[CV 1/5] END C=100, coef0=1, degree=2, gamma=scale, kernel=rbf;, score=-0.520 total time=   0.8s\n",
      "[CV 2/5] END C=100, coef0=1, degree=2, gamma=scale, kernel=rbf;, score=-0.670 total time=   0.7s\n",
      "[CV 3/5] END C=100, coef0=1, degree=2, gamma=scale, kernel=rbf;, score=-0.718 total time=   0.8s\n",
      "[CV 4/5] END C=100, coef0=1, degree=2, gamma=scale, kernel=rbf;, score=-0.427 total time=   0.7s\n",
      "[CV 5/5] END C=100, coef0=1, degree=2, gamma=scale, kernel=rbf;, score=-0.528 total time=   0.8s\n",
      "[CV 1/5] END C=100, coef0=1, degree=2, gamma=scale, kernel=sigmoid;, score=-0.515 total time=   0.7s\n",
      "[CV 2/5] END C=100, coef0=1, degree=2, gamma=scale, kernel=sigmoid;, score=-0.662 total time=   0.7s\n",
      "[CV 3/5] END C=100, coef0=1, degree=2, gamma=scale, kernel=sigmoid;, score=-0.713 total time=   0.7s\n",
      "[CV 4/5] END C=100, coef0=1, degree=2, gamma=scale, kernel=sigmoid;, score=-0.417 total time=   0.7s\n",
      "[CV 5/5] END C=100, coef0=1, degree=2, gamma=scale, kernel=sigmoid;, score=-0.528 total time=   0.7s\n",
      "[CV 1/5] END C=100, coef0=1, degree=3, gamma=auto, kernel=linear;, score=-0.518 total time=   0.3s\n",
      "[CV 2/5] END C=100, coef0=1, degree=3, gamma=auto, kernel=linear;, score=-0.673 total time=   0.3s\n",
      "[CV 3/5] END C=100, coef0=1, degree=3, gamma=auto, kernel=linear;, score=-0.720 total time=   0.3s\n",
      "[CV 4/5] END C=100, coef0=1, degree=3, gamma=auto, kernel=linear;, score=-0.427 total time=   0.3s\n",
      "[CV 5/5] END C=100, coef0=1, degree=3, gamma=auto, kernel=linear;, score=-0.525 total time=   0.3s\n",
      "[CV 1/5] END C=100, coef0=1, degree=3, gamma=auto, kernel=poly;, score=-0.505 total time=   0.4s\n",
      "[CV 2/5] END C=100, coef0=1, degree=3, gamma=auto, kernel=poly;, score=-0.656 total time=   0.4s\n",
      "[CV 3/5] END C=100, coef0=1, degree=3, gamma=auto, kernel=poly;, score=-0.698 total time=   0.4s\n",
      "[CV 4/5] END C=100, coef0=1, degree=3, gamma=auto, kernel=poly;, score=-0.413 total time=   0.4s\n",
      "[CV 5/5] END C=100, coef0=1, degree=3, gamma=auto, kernel=poly;, score=-0.513 total time=   0.4s\n",
      "[CV 1/5] END C=100, coef0=1, degree=3, gamma=auto, kernel=rbf;, score=-0.520 total time=   0.7s\n",
      "[CV 2/5] END C=100, coef0=1, degree=3, gamma=auto, kernel=rbf;, score=-0.668 total time=   0.7s\n",
      "[CV 3/5] END C=100, coef0=1, degree=3, gamma=auto, kernel=rbf;, score=-0.719 total time=   0.7s\n",
      "[CV 4/5] END C=100, coef0=1, degree=3, gamma=auto, kernel=rbf;, score=-0.430 total time=   0.6s\n",
      "[CV 5/5] END C=100, coef0=1, degree=3, gamma=auto, kernel=rbf;, score=-0.527 total time=   0.7s\n",
      "[CV 1/5] END C=100, coef0=1, degree=3, gamma=auto, kernel=sigmoid;, score=-0.506 total time=   0.6s\n",
      "[CV 2/5] END C=100, coef0=1, degree=3, gamma=auto, kernel=sigmoid;, score=-0.653 total time=   0.6s\n",
      "[CV 3/5] END C=100, coef0=1, degree=3, gamma=auto, kernel=sigmoid;, score=-0.698 total time=   0.6s\n",
      "[CV 4/5] END C=100, coef0=1, degree=3, gamma=auto, kernel=sigmoid;, score=-0.426 total time=   0.5s\n",
      "[CV 5/5] END C=100, coef0=1, degree=3, gamma=auto, kernel=sigmoid;, score=-0.518 total time=   0.5s\n",
      "[CV 1/5] END C=100, coef0=1, degree=3, gamma=0.1, kernel=linear;, score=-0.518 total time=   0.3s\n",
      "[CV 2/5] END C=100, coef0=1, degree=3, gamma=0.1, kernel=linear;, score=-0.673 total time=   0.3s\n",
      "[CV 3/5] END C=100, coef0=1, degree=3, gamma=0.1, kernel=linear;, score=-0.720 total time=   0.3s\n",
      "[CV 4/5] END C=100, coef0=1, degree=3, gamma=0.1, kernel=linear;, score=-0.427 total time=   0.3s\n",
      "[CV 5/5] END C=100, coef0=1, degree=3, gamma=0.1, kernel=linear;, score=-0.525 total time=   0.3s\n",
      "[CV 1/5] END C=100, coef0=1, degree=3, gamma=0.1, kernel=poly;, score=-0.502 total time=   0.4s\n",
      "[CV 2/5] END C=100, coef0=1, degree=3, gamma=0.1, kernel=poly;, score=-0.653 total time=   0.4s\n",
      "[CV 3/5] END C=100, coef0=1, degree=3, gamma=0.1, kernel=poly;, score=-0.692 total time=   0.4s\n",
      "[CV 4/5] END C=100, coef0=1, degree=3, gamma=0.1, kernel=poly;, score=-0.412 total time=   0.4s\n",
      "[CV 5/5] END C=100, coef0=1, degree=3, gamma=0.1, kernel=poly;, score=-0.514 total time=   0.4s\n",
      "[CV 1/5] END C=100, coef0=1, degree=3, gamma=0.1, kernel=rbf;, score=-0.519 total time=   0.7s\n",
      "[CV 2/5] END C=100, coef0=1, degree=3, gamma=0.1, kernel=rbf;, score=-0.650 total time=   0.8s\n",
      "[CV 3/5] END C=100, coef0=1, degree=3, gamma=0.1, kernel=rbf;, score=-0.712 total time=   0.7s\n",
      "[CV 4/5] END C=100, coef0=1, degree=3, gamma=0.1, kernel=rbf;, score=-0.423 total time=   0.6s\n",
      "[CV 5/5] END C=100, coef0=1, degree=3, gamma=0.1, kernel=rbf;, score=-0.528 total time=   0.7s\n",
      "[CV 1/5] END C=100, coef0=1, degree=3, gamma=0.1, kernel=sigmoid;, score=-0.513 total time=   0.5s\n",
      "[CV 2/5] END C=100, coef0=1, degree=3, gamma=0.1, kernel=sigmoid;, score=-0.661 total time=   0.6s\n",
      "[CV 3/5] END C=100, coef0=1, degree=3, gamma=0.1, kernel=sigmoid;, score=-0.709 total time=   0.6s\n",
      "[CV 4/5] END C=100, coef0=1, degree=3, gamma=0.1, kernel=sigmoid;, score=-0.419 total time=   0.5s\n",
      "[CV 5/5] END C=100, coef0=1, degree=3, gamma=0.1, kernel=sigmoid;, score=-0.531 total time=   0.5s\n",
      "[CV 1/5] END C=100, coef0=1, degree=3, gamma=scale, kernel=linear;, score=-0.518 total time=   0.3s\n",
      "[CV 2/5] END C=100, coef0=1, degree=3, gamma=scale, kernel=linear;, score=-0.673 total time=   0.3s\n",
      "[CV 3/5] END C=100, coef0=1, degree=3, gamma=scale, kernel=linear;, score=-0.720 total time=   0.3s\n",
      "[CV 4/5] END C=100, coef0=1, degree=3, gamma=scale, kernel=linear;, score=-0.427 total time=   0.3s\n",
      "[CV 5/5] END C=100, coef0=1, degree=3, gamma=scale, kernel=linear;, score=-0.525 total time=   0.3s\n",
      "[CV 1/5] END C=100, coef0=1, degree=3, gamma=scale, kernel=poly;, score=-0.329 total time=   0.5s\n",
      "[CV 2/5] END C=100, coef0=1, degree=3, gamma=scale, kernel=poly;, score=-0.426 total time=   0.5s\n",
      "[CV 3/5] END C=100, coef0=1, degree=3, gamma=scale, kernel=poly;, score=-0.487 total time=   0.6s\n",
      "[CV 4/5] END C=100, coef0=1, degree=3, gamma=scale, kernel=poly;, score=-0.286 total time=   0.6s\n",
      "[CV 5/5] END C=100, coef0=1, degree=3, gamma=scale, kernel=poly;, score=-0.379 total time=   0.5s\n",
      "[CV 1/5] END C=100, coef0=1, degree=3, gamma=scale, kernel=rbf;, score=-0.520 total time=   0.8s\n",
      "[CV 2/5] END C=100, coef0=1, degree=3, gamma=scale, kernel=rbf;, score=-0.670 total time=   0.7s\n",
      "[CV 3/5] END C=100, coef0=1, degree=3, gamma=scale, kernel=rbf;, score=-0.718 total time=   0.8s\n",
      "[CV 4/5] END C=100, coef0=1, degree=3, gamma=scale, kernel=rbf;, score=-0.427 total time=   0.7s\n",
      "[CV 5/5] END C=100, coef0=1, degree=3, gamma=scale, kernel=rbf;, score=-0.528 total time=   0.8s\n",
      "[CV 1/5] END C=100, coef0=1, degree=3, gamma=scale, kernel=sigmoid;, score=-0.515 total time=   0.7s\n",
      "[CV 2/5] END C=100, coef0=1, degree=3, gamma=scale, kernel=sigmoid;, score=-0.662 total time=   0.7s\n",
      "[CV 3/5] END C=100, coef0=1, degree=3, gamma=scale, kernel=sigmoid;, score=-0.713 total time=   0.7s\n",
      "[CV 4/5] END C=100, coef0=1, degree=3, gamma=scale, kernel=sigmoid;, score=-0.417 total time=   0.7s\n",
      "[CV 5/5] END C=100, coef0=1, degree=3, gamma=scale, kernel=sigmoid;, score=-0.528 total time=   0.7s\n",
      "[CV 1/5] END C=100, coef0=1, degree=4, gamma=auto, kernel=linear;, score=-0.518 total time=   0.3s\n",
      "[CV 2/5] END C=100, coef0=1, degree=4, gamma=auto, kernel=linear;, score=-0.673 total time=   0.3s\n",
      "[CV 3/5] END C=100, coef0=1, degree=4, gamma=auto, kernel=linear;, score=-0.720 total time=   0.3s\n"
     ]
    },
    {
     "name": "stdout",
     "output_type": "stream",
     "text": [
      "[CV 4/5] END C=100, coef0=1, degree=4, gamma=auto, kernel=linear;, score=-0.427 total time=   0.3s\n",
      "[CV 5/5] END C=100, coef0=1, degree=4, gamma=auto, kernel=linear;, score=-0.525 total time=   0.3s\n",
      "[CV 1/5] END C=100, coef0=1, degree=4, gamma=auto, kernel=poly;, score=-0.492 total time=   0.4s\n",
      "[CV 2/5] END C=100, coef0=1, degree=4, gamma=auto, kernel=poly;, score=-0.639 total time=   0.4s\n",
      "[CV 3/5] END C=100, coef0=1, degree=4, gamma=auto, kernel=poly;, score=-0.688 total time=   0.4s\n",
      "[CV 4/5] END C=100, coef0=1, degree=4, gamma=auto, kernel=poly;, score=-0.407 total time=   0.4s\n",
      "[CV 5/5] END C=100, coef0=1, degree=4, gamma=auto, kernel=poly;, score=-0.517 total time=   0.4s\n",
      "[CV 1/5] END C=100, coef0=1, degree=4, gamma=auto, kernel=rbf;, score=-0.520 total time=   0.7s\n",
      "[CV 2/5] END C=100, coef0=1, degree=4, gamma=auto, kernel=rbf;, score=-0.668 total time=   0.7s\n",
      "[CV 3/5] END C=100, coef0=1, degree=4, gamma=auto, kernel=rbf;, score=-0.719 total time=   0.7s\n",
      "[CV 4/5] END C=100, coef0=1, degree=4, gamma=auto, kernel=rbf;, score=-0.430 total time=   0.7s\n",
      "[CV 5/5] END C=100, coef0=1, degree=4, gamma=auto, kernel=rbf;, score=-0.527 total time=   0.7s\n",
      "[CV 1/5] END C=100, coef0=1, degree=4, gamma=auto, kernel=sigmoid;, score=-0.506 total time=   0.6s\n",
      "[CV 2/5] END C=100, coef0=1, degree=4, gamma=auto, kernel=sigmoid;, score=-0.653 total time=   0.6s\n",
      "[CV 3/5] END C=100, coef0=1, degree=4, gamma=auto, kernel=sigmoid;, score=-0.698 total time=   0.6s\n",
      "[CV 4/5] END C=100, coef0=1, degree=4, gamma=auto, kernel=sigmoid;, score=-0.426 total time=   0.5s\n",
      "[CV 5/5] END C=100, coef0=1, degree=4, gamma=auto, kernel=sigmoid;, score=-0.518 total time=   0.5s\n",
      "[CV 1/5] END C=100, coef0=1, degree=4, gamma=0.1, kernel=linear;, score=-0.518 total time=   0.3s\n",
      "[CV 2/5] END C=100, coef0=1, degree=4, gamma=0.1, kernel=linear;, score=-0.673 total time=   0.3s\n",
      "[CV 3/5] END C=100, coef0=1, degree=4, gamma=0.1, kernel=linear;, score=-0.720 total time=   0.3s\n",
      "[CV 4/5] END C=100, coef0=1, degree=4, gamma=0.1, kernel=linear;, score=-0.427 total time=   0.3s\n",
      "[CV 5/5] END C=100, coef0=1, degree=4, gamma=0.1, kernel=linear;, score=-0.525 total time=   0.3s\n",
      "[CV 1/5] END C=100, coef0=1, degree=4, gamma=0.1, kernel=poly;, score=-0.501 total time=   0.4s\n",
      "[CV 2/5] END C=100, coef0=1, degree=4, gamma=0.1, kernel=poly;, score=-0.654 total time=   0.4s\n",
      "[CV 3/5] END C=100, coef0=1, degree=4, gamma=0.1, kernel=poly;, score=-0.695 total time=   0.4s\n",
      "[CV 4/5] END C=100, coef0=1, degree=4, gamma=0.1, kernel=poly;, score=-0.416 total time=   0.5s\n",
      "[CV 5/5] END C=100, coef0=1, degree=4, gamma=0.1, kernel=poly;, score=-0.519 total time=   0.4s\n",
      "[CV 1/5] END C=100, coef0=1, degree=4, gamma=0.1, kernel=rbf;, score=-0.519 total time=   0.7s\n",
      "[CV 2/5] END C=100, coef0=1, degree=4, gamma=0.1, kernel=rbf;, score=-0.650 total time=   0.8s\n",
      "[CV 3/5] END C=100, coef0=1, degree=4, gamma=0.1, kernel=rbf;, score=-0.712 total time=   0.7s\n",
      "[CV 4/5] END C=100, coef0=1, degree=4, gamma=0.1, kernel=rbf;, score=-0.423 total time=   0.6s\n",
      "[CV 5/5] END C=100, coef0=1, degree=4, gamma=0.1, kernel=rbf;, score=-0.528 total time=   0.7s\n",
      "[CV 1/5] END C=100, coef0=1, degree=4, gamma=0.1, kernel=sigmoid;, score=-0.513 total time=   0.5s\n",
      "[CV 2/5] END C=100, coef0=1, degree=4, gamma=0.1, kernel=sigmoid;, score=-0.661 total time=   0.6s\n",
      "[CV 3/5] END C=100, coef0=1, degree=4, gamma=0.1, kernel=sigmoid;, score=-0.709 total time=   0.6s\n",
      "[CV 4/5] END C=100, coef0=1, degree=4, gamma=0.1, kernel=sigmoid;, score=-0.419 total time=   0.5s\n",
      "[CV 5/5] END C=100, coef0=1, degree=4, gamma=0.1, kernel=sigmoid;, score=-0.531 total time=   0.5s\n",
      "[CV 1/5] END C=100, coef0=1, degree=4, gamma=scale, kernel=linear;, score=-0.518 total time=   0.3s\n",
      "[CV 2/5] END C=100, coef0=1, degree=4, gamma=scale, kernel=linear;, score=-0.673 total time=   0.3s\n",
      "[CV 3/5] END C=100, coef0=1, degree=4, gamma=scale, kernel=linear;, score=-0.720 total time=   0.3s\n",
      "[CV 4/5] END C=100, coef0=1, degree=4, gamma=scale, kernel=linear;, score=-0.427 total time=   0.3s\n",
      "[CV 5/5] END C=100, coef0=1, degree=4, gamma=scale, kernel=linear;, score=-0.525 total time=   0.3s\n",
      "[CV 1/5] END C=100, coef0=1, degree=4, gamma=scale, kernel=poly;, score=-0.264 total time=   0.6s\n",
      "[CV 2/5] END C=100, coef0=1, degree=4, gamma=scale, kernel=poly;, score=-0.369 total time=   0.8s\n",
      "[CV 3/5] END C=100, coef0=1, degree=4, gamma=scale, kernel=poly;, score=-0.387 total time=   0.8s\n",
      "[CV 4/5] END C=100, coef0=1, degree=4, gamma=scale, kernel=poly;, score=-0.235 total time=   0.6s\n",
      "[CV 5/5] END C=100, coef0=1, degree=4, gamma=scale, kernel=poly;, score=-0.277 total time=   0.6s\n",
      "[CV 1/5] END C=100, coef0=1, degree=4, gamma=scale, kernel=rbf;, score=-0.520 total time=   0.8s\n",
      "[CV 2/5] END C=100, coef0=1, degree=4, gamma=scale, kernel=rbf;, score=-0.670 total time=   0.7s\n",
      "[CV 3/5] END C=100, coef0=1, degree=4, gamma=scale, kernel=rbf;, score=-0.718 total time=   0.8s\n",
      "[CV 4/5] END C=100, coef0=1, degree=4, gamma=scale, kernel=rbf;, score=-0.427 total time=   0.7s\n",
      "[CV 5/5] END C=100, coef0=1, degree=4, gamma=scale, kernel=rbf;, score=-0.528 total time=   0.8s\n",
      "[CV 1/5] END C=100, coef0=1, degree=4, gamma=scale, kernel=sigmoid;, score=-0.515 total time=   0.7s\n",
      "[CV 2/5] END C=100, coef0=1, degree=4, gamma=scale, kernel=sigmoid;, score=-0.662 total time=   0.7s\n",
      "[CV 3/5] END C=100, coef0=1, degree=4, gamma=scale, kernel=sigmoid;, score=-0.713 total time=   0.7s\n",
      "[CV 4/5] END C=100, coef0=1, degree=4, gamma=scale, kernel=sigmoid;, score=-0.417 total time=   0.7s\n",
      "[CV 5/5] END C=100, coef0=1, degree=4, gamma=scale, kernel=sigmoid;, score=-0.528 total time=   0.7s\n"
     ]
    }
   ],
   "source": [
    "# Your answer goes here\n",
    "param_grid = {\"C\":[0.1,0.2,0.5,1,100],'degree' : [2,3,4],'gamma':['auto',0.1,'scale'],'coef0':[1],'kernel': ['linear','poly','rbf','sigmoid']}  \n",
    "grid = GridSearchCV(SVR(), param_grid, cv = 5, verbose = 3) \n",
    "model4=grid.fit(X_train_new,np.ravel(y_train_new))"
   ]
  },
  {
   "cell_type": "code",
   "execution_count": 34,
   "id": "28841411",
   "metadata": {},
   "outputs": [
    {
     "name": "stdout",
     "output_type": "stream",
     "text": [
      "Mean absolute error on test data is  0.0873661057345797\n"
     ]
    }
   ],
   "source": [
    "predictions4 = model4.predict(X_test_norm)\n",
    "print('Mean absolute error on test data is ', mean_absolute_error(y_test_norm,predictions4))"
   ]
  },
  {
   "cell_type": "code",
   "execution_count": 29,
   "id": "4f602dcc",
   "metadata": {},
   "outputs": [],
   "source": [
    "svr_rbf = SVR(kernel=\"rbf\", C=100, gamma=0.1, epsilon=0.1)\n",
    "svr_lin = SVR(kernel=\"linear\", C=100, gamma=\"auto\")\n",
    "svr_poly2 = SVR(kernel=\"poly\", C=100, gamma=\"scale\", degree=2, epsilon=0.1, coef0=1)\n",
    "svr_poly3 = SVR(kernel=\"poly\", C=100, gamma=\"auto\", degree=3, epsilon=0.1, coef0=1)\n",
    "model41= svr_rbf.fit(X_train_new,np.ravel(y_train_new))\n",
    "model42= svr_lin.fit(X_train_new,np.ravel(y_train_new))\n",
    "model43= svr_poly2.fit(X_train_new,np.ravel(y_train_new))\n",
    "model44= svr_poly3.fit(X_train_new,np.ravel(y_train_new))"
   ]
  },
  {
   "cell_type": "markdown",
   "id": "53fb862b-97c2-42fa-9f44-f58cdbb95cba",
   "metadata": {
    "id": "YCccX3ZOdiiQ"
   },
   "source": [
    "What is the mean absolute error achieved on the test data?"
   ]
  },
  {
   "cell_type": "code",
   "execution_count": 30,
   "id": "05343b84-1597-41b7-b7b6-4fa7bc5e7e82",
   "metadata": {
    "id": "ly3THPi7PdLJ"
   },
   "outputs": [
    {
     "name": "stdout",
     "output_type": "stream",
     "text": [
      "Mean absolute error with rbf Kernel on test data is  0.11122552615269739\n",
      "Mean absolute error with linear Kernel on test data is  0.11127185627536557\n",
      "Mean absolute error with polynomial degree 2 Kernel on test data is  0.10115019104736162\n",
      "Mean absolute error with polynomial degree 3 Kernel on test data is  0.1101688613734063\n"
     ]
    }
   ],
   "source": [
    "# Your answer goes here\n",
    "predictions41 =model41.predict(X_test_norm)\n",
    "predictions42 =model42.predict(X_test_norm)\n",
    "predictions43 =model43.predict(X_test_norm)\n",
    "predictions44 =model44.predict(X_test_norm)\n",
    "print('Mean absolute error with rbf Kernel on test data is ', mean_absolute_error(y_test_norm,predictions41))\n",
    "print('Mean absolute error with linear Kernel on test data is ', mean_absolute_error(y_test_norm,predictions42))\n",
    "print('Mean absolute error with polynomial degree 2 Kernel on test data is ', mean_absolute_error(y_test_norm,predictions43))\n",
    "print('Mean absolute error with polynomial degree 3 Kernel on test data is ', mean_absolute_error(y_test_norm,predictions44))"
   ]
  },
  {
   "cell_type": "markdown",
   "id": "3f9f3d21-40ab-4aa5-9b0b-e40e7fcc00e8",
   "metadata": {
    "id": "akKwnMMgdrQX"
   },
   "source": [
    "Show (draw!) the price elasticity for your apartment. "
   ]
  },
  {
   "cell_type": "code",
   "execution_count": 35,
   "id": "42c2da55-efb6-410a-8c37-56bf4abaf043",
   "metadata": {
    "id": "ly3THPi7PdLJ"
   },
   "outputs": [],
   "source": [
    "# Your answer goes here\n"
   ]
  },
  {
   "cell_type": "markdown",
   "id": "d43359b3-a2a4-4cda-90a8-0f66b04aa3fb",
   "metadata": {},
   "source": [
    "What is your conclusion on using kernels?"
   ]
  },
  {
   "cell_type": "markdown",
   "id": "a01dafcb-ce55-453c-a158-a46ab8bbfd1e",
   "metadata": {},
   "source": [
    "_Answer:_\n",
    "\n"
   ]
  },
  {
   "cell_type": "markdown",
   "id": "39ea35b3-b236-429d-81cb-17fd6877aed4",
   "metadata": {
    "id": "39ea35b3-b236-429d-81cb-17fd6877aed4"
   },
   "source": [
    "#### Neural Network"
   ]
  },
  {
   "cell_type": "markdown",
   "id": "79IHOFdbkmN-",
   "metadata": {
    "id": "79IHOFdbkmN-"
   },
   "source": [
    "Learn a neural network (multilayer perceptron) to predict the utilization of an AirBnB."
   ]
  },
  {
   "cell_type": "code",
   "execution_count": 11,
   "id": "d963fd7e",
   "metadata": {
    "id": "ly3THPi7PdLJ"
   },
   "outputs": [],
   "source": [
    "# Your answer goes here\n",
    "classifier = MLPClassifier(hidden_layer_sizes=(100,50,))\n",
    "model5 = classifier.fit(X_train_norm,np.ravel(y_train_norm))"
   ]
  },
  {
   "cell_type": "markdown",
   "id": "NEh_vR3gkyZG",
   "metadata": {
    "id": "NEh_vR3gkyZG"
   },
   "source": [
    "What is the mean absolute error achieved on the test data?"
   ]
  },
  {
   "cell_type": "code",
   "execution_count": 12,
   "id": "3660d9c1",
   "metadata": {
    "id": "ly3THPi7PdLJ"
   },
   "outputs": [
    {
     "name": "stdout",
     "output_type": "stream",
     "text": [
      "Mean absolute error on test data is  0.015241320914479255\n"
     ]
    }
   ],
   "source": [
    "# Your answer goes here\n",
    "predictions5 = model5.predict(X_test_norm)\n",
    "print('Mean absolute error on test data is ', mean_absolute_error(y_test_norm,predictions5))"
   ]
  },
  {
   "cell_type": "markdown",
   "id": "PUwlWri4kzze",
   "metadata": {
    "id": "PUwlWri4kzze"
   },
   "source": [
    "Show (draw!) the price elasticity for your apartment. "
   ]
  },
  {
   "cell_type": "code",
   "execution_count": 38,
   "id": "9d42d222",
   "metadata": {
    "id": "ly3THPi7PdLJ"
   },
   "outputs": [],
   "source": [
    "# Your answer goes here\n"
   ]
  },
  {
   "cell_type": "markdown",
   "id": "7e9c469a-9ef3-45b5-a225-ff4109086d16",
   "metadata": {
    "id": "7e9c469a-9ef3-45b5-a225-ff4109086d16"
   },
   "source": [
    "### Profit discrepencies when incorporating price elasticity"
   ]
  },
  {
   "cell_type": "markdown",
   "id": "OmfvMMkWk-Dt",
   "metadata": {
    "id": "OmfvMMkWk-Dt"
   },
   "source": [
    "Use the model that best captures price elasticity on the testing set. You can assume that this model accurately captures price elasticity, i.e., is the ground truth. What is the better of the two proposed prices? Is the better price the optimal price?"
   ]
  },
  {
   "cell_type": "code",
   "execution_count": 39,
   "id": "d0b855ae",
   "metadata": {
    "id": "ly3THPi7PdLJ"
   },
   "outputs": [],
   "source": [
    "# Your answer goes here\n"
   ]
  },
  {
   "cell_type": "markdown",
   "id": "4878657a",
   "metadata": {},
   "source": [
    "_Answer:_\n",
    "\n"
   ]
  },
  {
   "cell_type": "markdown",
   "id": "8827d79d-7f99-4e6c-af6c-9ba7ff7509bc",
   "metadata": {
    "id": "8827d79d-7f99-4e6c-af6c-9ba7ff7509bc"
   },
   "source": [
    "# Question 4: Conclusion"
   ]
  },
  {
   "cell_type": "markdown",
   "id": "38a971e0-7b6b-414f-a845-5379cd705838",
   "metadata": {
    "id": "38a971e0-7b6b-414f-a845-5379cd705838"
   },
   "source": [
    "Summarize your findings and discuss limitations."
   ]
  },
  {
   "cell_type": "markdown",
   "id": "d5c1c314",
   "metadata": {},
   "source": [
    "_Answer:_ \n",
    "\n"
   ]
  }
 ],
 "metadata": {
  "colab": {
   "collapsed_sections": [],
   "provenance": []
  },
  "kernelspec": {
   "display_name": "Python 3 (ipykernel)",
   "language": "python",
   "name": "python3"
  },
  "language_info": {
   "codemirror_mode": {
    "name": "ipython",
    "version": 3
   },
   "file_extension": ".py",
   "mimetype": "text/x-python",
   "name": "python",
   "nbconvert_exporter": "python",
   "pygments_lexer": "ipython3",
   "version": "3.9.12"
  }
 },
 "nbformat": 4,
 "nbformat_minor": 5
}
